{
  "cells": [
    {
      "cell_type": "code",
      "execution_count": 24,
      "metadata": {
        "id": "CMeRHV3CrtlK"
      },
      "outputs": [],
      "source": [
        "# import\n",
        "import os\n",
        "import uuid\n",
        "import requests\n",
        "import numpy as np\n",
        "import pandas as pd\n",
        "import plotly.express as px\n",
        "import plotly.graph_objects as go\n",
        "\n",
        "from IPython.display import display\n",
        "from geopy.geocoders import Nominatim\n",
        "import boto3\n",
        "from IPython.display import display\n",
        "from sqlalchemy import create_engine\n",
        "from sqlalchemy.orm import sessionmaker \n",
        "from sqlalchemy import Column, Integer, String, Float \n",
        "from sqlalchemy.ext.declarative import declarative_base\n",
        "\n",
        "\n",
        "import json\n",
        "import logging\n",
        "import scrapy\n",
        "from scrapy.crawler import CrawlerProcess"
      ]
    },
    {
      "cell_type": "markdown",
      "metadata": {
        "id": "NwqaPXK4rtlQ"
      },
      "source": [
        "Get weather data with an API"
      ]
    },
    {
      "cell_type": "code",
      "execution_count": 2,
      "metadata": {
        "id": "QEyw3glyrtlS"
      },
      "outputs": [],
      "source": [
        "French_Top_Cities = [\"Mont Saint Michel\", \"St Malo\", \"Bayeux\", \"Le Havre\",\n",
        "                \"Rouen\", \"Paris\", \"Amiens\", \"Lille\", \"Strasbourg\",\n",
        "                \"Chateau du Haut Koenigsbourg\", \"Colmar\", \"Eguisheim\",\n",
        "                \"Besancon\", \"Dijon\", \"Annecy\", \"Grenoble\", \"Lyon\",\n",
        "                \"Gorges du Verdon\", \"Bormes les Mimosas\", \"Cassis\",\n",
        "                \"Marseille\", \"Aix en Provence\", \"Avignon\", \"Uzes\", \"Nimes\",\n",
        "                \"Aigues Mortes\", \"Saintes Maries de la mer\", \"Collioure\",\n",
        "                \"Carcassonne\", \"Ariege\", \"Toulouse\", \"Montauban\", \"Biarritz\",\n",
        "                \"Bayonne\", \"La Rochelle\"]\n"
      ]
    },
    {
      "cell_type": "code",
      "execution_count": 3,
      "metadata": {
        "id": "bX8WV-owrtlU",
        "outputId": "26bb93c5-70ec-452e-bf45-5ecc746906f2"
      },
      "outputs": [
        {
          "data": {
            "text/html": [
              "<div>\n",
              "<style scoped>\n",
              "    .dataframe tbody tr th:only-of-type {\n",
              "        vertical-align: middle;\n",
              "    }\n",
              "\n",
              "    .dataframe tbody tr th {\n",
              "        vertical-align: top;\n",
              "    }\n",
              "\n",
              "    .dataframe thead th {\n",
              "        text-align: right;\n",
              "    }\n",
              "</style>\n",
              "<table border=\"1\" class=\"dataframe\">\n",
              "  <thead>\n",
              "    <tr style=\"text-align: right;\">\n",
              "      <th></th>\n",
              "      <th>cities</th>\n",
              "    </tr>\n",
              "  </thead>\n",
              "  <tbody>\n",
              "    <tr>\n",
              "      <th>29</th>\n",
              "      <td>Ariege</td>\n",
              "    </tr>\n",
              "    <tr>\n",
              "      <th>16</th>\n",
              "      <td>Lyon</td>\n",
              "    </tr>\n",
              "  </tbody>\n",
              "</table>\n",
              "</div>"
            ],
            "text/plain": [
              "    cities\n",
              "29  Ariege\n",
              "16    Lyon"
            ]
          },
          "metadata": {},
          "output_type": "display_data"
        }
      ],
      "source": [
        "# init dataframe\n",
        "weather_df = pd.DataFrame(French_Top_Cities, columns=[\"cities\"])\n",
        "display(weather_df.sample(2))"
      ]
    },
    {
      "cell_type": "code",
      "execution_count": 4,
      "metadata": {
        "id": "Sdl8AIy7rtlX",
        "outputId": "88cd52bd-e397-45be-fc7a-9cb0c3c00b44"
      },
      "outputs": [
        {
          "data": {
            "text/html": [
              "<div>\n",
              "<style scoped>\n",
              "    .dataframe tbody tr th:only-of-type {\n",
              "        vertical-align: middle;\n",
              "    }\n",
              "\n",
              "    .dataframe tbody tr th {\n",
              "        vertical-align: top;\n",
              "    }\n",
              "\n",
              "    .dataframe thead th {\n",
              "        text-align: right;\n",
              "    }\n",
              "</style>\n",
              "<table border=\"1\" class=\"dataframe\">\n",
              "  <thead>\n",
              "    <tr style=\"text-align: right;\">\n",
              "      <th></th>\n",
              "      <th>cities</th>\n",
              "      <th>full_address</th>\n",
              "      <th>latitude</th>\n",
              "      <th>longitude</th>\n",
              "    </tr>\n",
              "  </thead>\n",
              "  <tbody>\n",
              "    <tr>\n",
              "      <th>34</th>\n",
              "      <td>La Rochelle</td>\n",
              "      <td>La Rochelle, Charente-Maritime, Nouvelle-Aquit...</td>\n",
              "      <td>46.159113</td>\n",
              "      <td>-1.152043</td>\n",
              "    </tr>\n",
              "    <tr>\n",
              "      <th>24</th>\n",
              "      <td>Nimes</td>\n",
              "      <td>Nîmes, Gard, Occitanie, France métropolitaine,...</td>\n",
              "      <td>43.837425</td>\n",
              "      <td>4.360069</td>\n",
              "    </tr>\n",
              "  </tbody>\n",
              "</table>\n",
              "</div>"
            ],
            "text/plain": [
              "         cities                                       full_address   latitude  \\\n",
              "34  La Rochelle  La Rochelle, Charente-Maritime, Nouvelle-Aquit...  46.159113   \n",
              "24        Nimes  Nîmes, Gard, Occitanie, France métropolitaine,...  43.837425   \n",
              "\n",
              "    longitude  \n",
              "34  -1.152043  \n",
              "24   4.360069  "
            ]
          },
          "metadata": {},
          "output_type": "display_data"
        }
      ],
      "source": [
        "# Get Cities coordinates \n",
        "def cities_to_coords(city_name) :\n",
        "   \n",
        "    # geocoder\n",
        "    geolocator = Nominatim(user_agent=\"app\")\n",
        "    location = geolocator.geocode(city_name)\n",
        "\n",
        "    # full_address, latitude, longitude\n",
        "    full_address = location.address\n",
        "    latitude = location.latitude\n",
        "    longitude = location.longitude\n",
        "\n",
        "    # return \n",
        "    return pd.Series([full_address, latitude, longitude])\n",
        "\n",
        "## RUN\n",
        "if not \"full_address\" in weather_df.columns :\n",
        "    weather_df[[\"full_address\", \"latitude\", \"longitude\"]] = weather_df[\"cities\"].apply(cities_to_coords)\n",
        "    display(weather_df.sample(2))\n",
        "\n",
        "else : \n",
        "    display(weather_df.sample(2))\n",
        "    print(\"full_address, latitude & longitude columns exists !\")"
      ]
    },
    {
      "cell_type": "code",
      "execution_count": 5,
      "metadata": {
        "id": "bFtL2bZUrtla"
      },
      "outputs": [
        {
          "data": {
            "text/html": [
              "<div>\n",
              "<style scoped>\n",
              "    .dataframe tbody tr th:only-of-type {\n",
              "        vertical-align: middle;\n",
              "    }\n",
              "\n",
              "    .dataframe tbody tr th {\n",
              "        vertical-align: top;\n",
              "    }\n",
              "\n",
              "    .dataframe thead th {\n",
              "        text-align: right;\n",
              "    }\n",
              "</style>\n",
              "<table border=\"1\" class=\"dataframe\">\n",
              "  <thead>\n",
              "    <tr style=\"text-align: right;\">\n",
              "      <th></th>\n",
              "      <th>cities</th>\n",
              "      <th>full_address</th>\n",
              "      <th>latitude</th>\n",
              "      <th>longitude</th>\n",
              "      <th>volume_rain_7days</th>\n",
              "    </tr>\n",
              "  </thead>\n",
              "  <tbody>\n",
              "    <tr>\n",
              "      <th>7</th>\n",
              "      <td>Lille</td>\n",
              "      <td>Lille, Nord, Hauts-de-France, France métropoli...</td>\n",
              "      <td>50.636565</td>\n",
              "      <td>3.063528</td>\n",
              "      <td>0.369</td>\n",
              "    </tr>\n",
              "    <tr>\n",
              "      <th>28</th>\n",
              "      <td>Carcassonne</td>\n",
              "      <td>Carcassonne, Aude, Occitanie, France métropoli...</td>\n",
              "      <td>43.213036</td>\n",
              "      <td>2.349107</td>\n",
              "      <td>1.823</td>\n",
              "    </tr>\n",
              "  </tbody>\n",
              "</table>\n",
              "</div>"
            ],
            "text/plain": [
              "         cities                                       full_address   latitude  \\\n",
              "7         Lille  Lille, Nord, Hauts-de-France, France métropoli...  50.636565   \n",
              "28  Carcassonne  Carcassonne, Aude, Occitanie, France métropoli...  43.213036   \n",
              "\n",
              "    longitude  volume_rain_7days  \n",
              "7    3.063528              0.369  \n",
              "28   2.349107              1.823  "
            ]
          },
          "metadata": {},
          "output_type": "display_data"
        }
      ],
      "source": [
        "# Get rain volume\n",
        "\n",
        "# volume rain from oepn weather\n",
        "def volume_rain(lat, lon, exclude, appid) :\n",
        "    \"\"\" volume of rain in each city over 7 next days.\n",
        "    \"\"\"\n",
        "\n",
        "    # open weather one call api\n",
        "    params = (\n",
        "        ('lat', lat),\n",
        "        ('lon', lon),\n",
        "        ('exclude', exclude),\n",
        "        ('appid', appid)\n",
        "    )\n",
        "\n",
        "    response = requests.get('https://api.openweathermap.org/data/2.5/onecall', params=params)\n",
        "\n",
        "    # normalize reponse\n",
        "    open_weather_7days = pd.json_normalize(response.json()[\"daily\"])\n",
        "\n",
        "    # clean rain column\n",
        "    open_weather_7days[\"rain\"] = open_weather_7days[\"rain\"].apply(lambda x : 0 if np.isnan(x) else x) \n",
        "\n",
        "    # calculate volumn \n",
        "    n_days = open_weather_7days.shape[0]\n",
        "    volume_rain_7days =  np.sum(open_weather_7days[\"rain\"] * open_weather_7days[\"pop\"]) / n_days\n",
        "\n",
        "    # return \n",
        "    return round(volume_rain_7days,3)\n",
        "\n",
        "\n",
        "\n",
        "exclude = 'current,minutely,hourly,alerts'\n",
        "appid = 'b7f01049b4d3e0a7a4251debfe120e99'\n",
        "    \n",
        "weather_df[\"volume_rain_7days\"] = weather_df[[\"latitude\", \"longitude\"]].transpose().apply(lambda x : volume_rain(x[0], x[1], exclude, appid))\n",
        "\n",
        "display(weather_df.sample(2))"
      ]
    },
    {
      "cell_type": "code",
      "execution_count": 7,
      "metadata": {
        "id": "F0KSY-tbrtld",
        "outputId": "4cedbb34-a0b6-41f3-bfd9-0c8eb7cf1a41"
      },
      "outputs": [
        {
          "data": {
            "text/html": [
              "<div>\n",
              "<style scoped>\n",
              "    .dataframe tbody tr th:only-of-type {\n",
              "        vertical-align: middle;\n",
              "    }\n",
              "\n",
              "    .dataframe tbody tr th {\n",
              "        vertical-align: top;\n",
              "    }\n",
              "\n",
              "    .dataframe thead th {\n",
              "        text-align: right;\n",
              "    }\n",
              "</style>\n",
              "<table border=\"1\" class=\"dataframe\">\n",
              "  <thead>\n",
              "    <tr style=\"text-align: right;\">\n",
              "      <th></th>\n",
              "      <th>cities</th>\n",
              "      <th>full_address</th>\n",
              "      <th>latitude</th>\n",
              "      <th>longitude</th>\n",
              "      <th>volume_rain_7days</th>\n",
              "      <th>uuid</th>\n",
              "    </tr>\n",
              "  </thead>\n",
              "  <tbody>\n",
              "    <tr>\n",
              "      <th>8</th>\n",
              "      <td>Strasbourg</td>\n",
              "      <td>Strasbourg, Bas-Rhin, Grand Est, France métrop...</td>\n",
              "      <td>48.584614</td>\n",
              "      <td>7.750713</td>\n",
              "      <td>0.835</td>\n",
              "      <td>b7c7351c-d2af-47d5-bdbc-01b69fb1811a</td>\n",
              "    </tr>\n",
              "    <tr>\n",
              "      <th>20</th>\n",
              "      <td>Marseille</td>\n",
              "      <td>Marseille, Bouches-du-Rhône, Provence-Alpes-Cô...</td>\n",
              "      <td>43.296174</td>\n",
              "      <td>5.369953</td>\n",
              "      <td>0.822</td>\n",
              "      <td>7299bf86-4d9c-4b0f-abde-f2ed065c59b2</td>\n",
              "    </tr>\n",
              "  </tbody>\n",
              "</table>\n",
              "</div>"
            ],
            "text/plain": [
              "        cities                                       full_address   latitude  \\\n",
              "8   Strasbourg  Strasbourg, Bas-Rhin, Grand Est, France métrop...  48.584614   \n",
              "20   Marseille  Marseille, Bouches-du-Rhône, Provence-Alpes-Cô...  43.296174   \n",
              "\n",
              "    longitude  volume_rain_7days                                  uuid  \n",
              "8    7.750713              0.835  b7c7351c-d2af-47d5-bdbc-01b69fb1811a  \n",
              "20   5.369953              0.822  7299bf86-4d9c-4b0f-abde-f2ed065c59b2  "
            ]
          },
          "metadata": {},
          "output_type": "display_data"
        }
      ],
      "source": [
        "# unique identifier (uuid)\n",
        "if not \"uuid\" in weather_df.columns :\n",
        "    weather_df['uuid'] = weather_df.index.to_series().map(lambda x: uuid.uuid4())\n",
        "\n",
        "display(weather_df.sample(2))"
      ]
    },
    {
      "cell_type": "code",
      "execution_count": 8,
      "metadata": {
        "id": "LwN4riW5rtlf",
        "outputId": "f5e4b779-9506-492c-e83e-e90b712dfae6"
      },
      "outputs": [
        {
          "data": {
            "text/html": [
              "<div>\n",
              "<style scoped>\n",
              "    .dataframe tbody tr th:only-of-type {\n",
              "        vertical-align: middle;\n",
              "    }\n",
              "\n",
              "    .dataframe tbody tr th {\n",
              "        vertical-align: top;\n",
              "    }\n",
              "\n",
              "    .dataframe thead th {\n",
              "        text-align: right;\n",
              "    }\n",
              "</style>\n",
              "<table border=\"1\" class=\"dataframe\">\n",
              "  <thead>\n",
              "    <tr style=\"text-align: right;\">\n",
              "      <th></th>\n",
              "      <th>uuid</th>\n",
              "      <th>cities</th>\n",
              "      <th>full_address</th>\n",
              "      <th>latitude</th>\n",
              "      <th>longitude</th>\n",
              "      <th>volume_rain_7days</th>\n",
              "    </tr>\n",
              "  </thead>\n",
              "  <tbody>\n",
              "    <tr>\n",
              "      <th>4</th>\n",
              "      <td>0bcc9f24-7709-4986-a122-821f945bc072</td>\n",
              "      <td>Rouen</td>\n",
              "      <td>Rouen, Seine-Maritime, Normandie, France métro...</td>\n",
              "      <td>49.440459</td>\n",
              "      <td>1.093966</td>\n",
              "      <td>0.435</td>\n",
              "    </tr>\n",
              "    <tr>\n",
              "      <th>7</th>\n",
              "      <td>076f7ea8-a1fd-42df-8e12-d47646b22d54</td>\n",
              "      <td>Lille</td>\n",
              "      <td>Lille, Nord, Hauts-de-France, France métropoli...</td>\n",
              "      <td>50.636565</td>\n",
              "      <td>3.063528</td>\n",
              "      <td>0.369</td>\n",
              "    </tr>\n",
              "  </tbody>\n",
              "</table>\n",
              "</div>"
            ],
            "text/plain": [
              "                                   uuid cities  \\\n",
              "4  0bcc9f24-7709-4986-a122-821f945bc072  Rouen   \n",
              "7  076f7ea8-a1fd-42df-8e12-d47646b22d54  Lille   \n",
              "\n",
              "                                        full_address   latitude  longitude  \\\n",
              "4  Rouen, Seine-Maritime, Normandie, France métro...  49.440459   1.093966   \n",
              "7  Lille, Nord, Hauts-de-France, France métropoli...  50.636565   3.063528   \n",
              "\n",
              "   volume_rain_7days  \n",
              "4              0.435  \n",
              "7              0.369  "
            ]
          },
          "metadata": {},
          "output_type": "display_data"
        }
      ],
      "source": [
        "# reorder columns\n",
        "keep_col = ['uuid', 'cities', 'full_address', 'latitude', 'longitude', 'volume_rain_7days']\n",
        "weather_df = weather_df[keep_col]\n",
        "\n",
        "display(weather_df.sample(2))"
      ]
    },
    {
      "cell_type": "code",
      "execution_count": 9,
      "metadata": {
        "id": "n2uo_AuyNdhP"
      },
      "outputs": [
        {
          "name": "stdout",
          "output_type": "stream",
          "text": [
            "data_2/weather_data.csv exists !\n"
          ]
        }
      ],
      "source": [
        "# Save dataframe\n",
        "weather_data = \"data/weather_data.csv\"\n",
        "overwrite = False \n",
        "\n",
        "if not os.path.exists(weather_data) or overwrite==True:\n",
        "    weather_df.to_csv(weather_data)\n",
        "\n",
        "else :\n",
        "    print(f\"{weather_data} exists !\")"
      ]
    },
    {
      "cell_type": "code",
      "execution_count": 10,
      "metadata": {
        "id": "0vKfGQY9rtlk",
        "outputId": "98e744ee-dc84-4bec-f9e3-a34f00c2e466"
      },
      "outputs": [
        {
          "data": {
            "text/html": [
              "<div>\n",
              "<style scoped>\n",
              "    .dataframe tbody tr th:only-of-type {\n",
              "        vertical-align: middle;\n",
              "    }\n",
              "\n",
              "    .dataframe tbody tr th {\n",
              "        vertical-align: top;\n",
              "    }\n",
              "\n",
              "    .dataframe thead th {\n",
              "        text-align: right;\n",
              "    }\n",
              "</style>\n",
              "<table border=\"1\" class=\"dataframe\">\n",
              "  <thead>\n",
              "    <tr style=\"text-align: right;\">\n",
              "      <th></th>\n",
              "      <th>uuid</th>\n",
              "      <th>cities</th>\n",
              "      <th>full_address</th>\n",
              "      <th>latitude</th>\n",
              "      <th>longitude</th>\n",
              "      <th>volume_rain_7days</th>\n",
              "    </tr>\n",
              "  </thead>\n",
              "  <tbody>\n",
              "    <tr>\n",
              "      <th>6</th>\n",
              "      <td>f15c2902-4e29-4077-aa83-e02d625f759d</td>\n",
              "      <td>Amiens</td>\n",
              "      <td>Amiens, Somme, Hauts-de-France, France métropo...</td>\n",
              "      <td>49.894171</td>\n",
              "      <td>2.295695</td>\n",
              "      <td>0.252</td>\n",
              "    </tr>\n",
              "    <tr>\n",
              "      <th>7</th>\n",
              "      <td>076f7ea8-a1fd-42df-8e12-d47646b22d54</td>\n",
              "      <td>Lille</td>\n",
              "      <td>Lille, Nord, Hauts-de-France, France métropoli...</td>\n",
              "      <td>50.636565</td>\n",
              "      <td>3.063528</td>\n",
              "      <td>0.369</td>\n",
              "    </tr>\n",
              "  </tbody>\n",
              "</table>\n",
              "</div>"
            ],
            "text/plain": [
              "                                   uuid  cities  \\\n",
              "6  f15c2902-4e29-4077-aa83-e02d625f759d  Amiens   \n",
              "7  076f7ea8-a1fd-42df-8e12-d47646b22d54   Lille   \n",
              "\n",
              "                                        full_address   latitude  longitude  \\\n",
              "6  Amiens, Somme, Hauts-de-France, France métropo...  49.894171   2.295695   \n",
              "7  Lille, Nord, Hauts-de-France, France métropoli...  50.636565   3.063528   \n",
              "\n",
              "   volume_rain_7days  \n",
              "6              0.252  \n",
              "7              0.369  "
            ]
          },
          "metadata": {},
          "output_type": "display_data"
        },
        {
          "data": {
            "text/html": [
              "<div>\n",
              "<style scoped>\n",
              "    .dataframe tbody tr th:only-of-type {\n",
              "        vertical-align: middle;\n",
              "    }\n",
              "\n",
              "    .dataframe tbody tr th {\n",
              "        vertical-align: top;\n",
              "    }\n",
              "\n",
              "    .dataframe thead th {\n",
              "        text-align: right;\n",
              "    }\n",
              "</style>\n",
              "<table border=\"1\" class=\"dataframe\">\n",
              "  <thead>\n",
              "    <tr style=\"text-align: right;\">\n",
              "      <th></th>\n",
              "      <th>uuid</th>\n",
              "      <th>cities</th>\n",
              "      <th>full_address</th>\n",
              "      <th>latitude</th>\n",
              "      <th>longitude</th>\n",
              "      <th>volume_rain_7days</th>\n",
              "    </tr>\n",
              "  </thead>\n",
              "  <tbody>\n",
              "    <tr>\n",
              "      <th>20</th>\n",
              "      <td>7299bf86-4d9c-4b0f-abde-f2ed065c59b2</td>\n",
              "      <td>Marseille</td>\n",
              "      <td>Marseille, Bouches-du-Rhône, Provence-Alpes-Cô...</td>\n",
              "      <td>43.296174</td>\n",
              "      <td>5.369953</td>\n",
              "      <td>0.822</td>\n",
              "    </tr>\n",
              "    <tr>\n",
              "      <th>11</th>\n",
              "      <td>67314675-4ef2-4958-b2a2-2d1c3b796c41</td>\n",
              "      <td>Eguisheim</td>\n",
              "      <td>Eguisheim, Colmar-Ribeauvillé, Haut-Rhin, Gran...</td>\n",
              "      <td>48.044797</td>\n",
              "      <td>7.307962</td>\n",
              "      <td>1.388</td>\n",
              "    </tr>\n",
              "  </tbody>\n",
              "</table>\n",
              "</div>"
            ],
            "text/plain": [
              "                                    uuid     cities  \\\n",
              "20  7299bf86-4d9c-4b0f-abde-f2ed065c59b2  Marseille   \n",
              "11  67314675-4ef2-4958-b2a2-2d1c3b796c41  Eguisheim   \n",
              "\n",
              "                                         full_address   latitude  longitude  \\\n",
              "20  Marseille, Bouches-du-Rhône, Provence-Alpes-Cô...  43.296174   5.369953   \n",
              "11  Eguisheim, Colmar-Ribeauvillé, Haut-Rhin, Gran...  48.044797   7.307962   \n",
              "\n",
              "    volume_rain_7days  \n",
              "20              0.822  \n",
              "11              1.388  "
            ]
          },
          "metadata": {},
          "output_type": "display_data"
        }
      ],
      "source": [
        "# fetch best destinations\n",
        "top_5_destinations = weather_df.sort_values(by=['volume_rain_7days'])[:5]\n",
        "top_20_destinations = weather_df.sort_values(by=['volume_rain_7days'])[:20]\n",
        "display(top_5_destinations.sample(2))\n",
        "display(top_20_destinations.sample(2))\n"
      ]
    },
    {
      "cell_type": "code",
      "execution_count": null,
      "metadata": {},
      "outputs": [],
      "source": []
    },
    {
      "cell_type": "code",
      "execution_count": 13,
      "metadata": {
        "id": "zWaBA4o9rtll"
      },
      "outputs": [
        {
          "data": {
            "application/vnd.plotly.v1+json": {
              "config": {
                "plotlyServerURL": "https://plot.ly"
              },
              "data": [
                {
                  "hovertemplate": "volume_rain_7days=%{marker.color}<br>latitude=%{lat}<br>longitude=%{lon}<extra></extra>",
                  "lat": [
                    49.8941708,
                    50.6365654,
                    49.4404591,
                    43.5298424,
                    43.2961743
                  ],
                  "legendgroup": "",
                  "lon": [
                    2.2956951,
                    3.0635282,
                    1.0939658,
                    5.4474738,
                    5.3699525
                  ],
                  "marker": {
                    "color": [
                      0.252,
                      0.369,
                      0.435,
                      0.472,
                      0.822
                    ],
                    "coloraxis": "coloraxis",
                    "size": [
                      0.252,
                      0.369,
                      0.435,
                      0.472,
                      0.822
                    ],
                    "sizemode": "area",
                    "sizeref": 0.003653333333333333
                  },
                  "mode": "markers",
                  "name": "",
                  "showlegend": false,
                  "subplot": "mapbox",
                  "type": "scattermapbox"
                }
              ],
              "layout": {
                "coloraxis": {
                  "colorbar": {
                    "title": {
                      "text": "volume_rain_7days"
                    }
                  },
                  "colorscale": [
                    [
                      0,
                      "#000000"
                    ],
                    [
                      0.0625,
                      "#001f4d"
                    ],
                    [
                      0.125,
                      "#003786"
                    ],
                    [
                      0.1875,
                      "#0e58a8"
                    ],
                    [
                      0.25,
                      "#217eb8"
                    ],
                    [
                      0.3125,
                      "#30a4ca"
                    ],
                    [
                      0.375,
                      "#54c8df"
                    ],
                    [
                      0.4375,
                      "#9be4ef"
                    ],
                    [
                      0.5,
                      "#e1e9d1"
                    ],
                    [
                      0.5625,
                      "#f3d573"
                    ],
                    [
                      0.625,
                      "#e7b000"
                    ],
                    [
                      0.6875,
                      "#da8200"
                    ],
                    [
                      0.75,
                      "#c65400"
                    ],
                    [
                      0.8125,
                      "#ac2301"
                    ],
                    [
                      0.875,
                      "#820000"
                    ],
                    [
                      0.9375,
                      "#4c0000"
                    ],
                    [
                      1,
                      "#000000"
                    ]
                  ]
                },
                "legend": {
                  "itemsizing": "constant",
                  "tracegroupgap": 0
                },
                "mapbox": {
                  "center": {
                    "lat": 47.3594424,
                    "lon": 3.45412308
                  },
                  "domain": {
                    "x": [
                      0,
                      1
                    ],
                    "y": [
                      0,
                      1
                    ]
                  },
                  "zoom": 8
                },
                "margin": {
                  "t": 60
                },
                "template": {
                  "data": {
                    "bar": [
                      {
                        "error_x": {
                          "color": "#2a3f5f"
                        },
                        "error_y": {
                          "color": "#2a3f5f"
                        },
                        "marker": {
                          "line": {
                            "color": "#E5ECF6",
                            "width": 0.5
                          },
                          "pattern": {
                            "fillmode": "overlay",
                            "size": 10,
                            "solidity": 0.2
                          }
                        },
                        "type": "bar"
                      }
                    ],
                    "barpolar": [
                      {
                        "marker": {
                          "line": {
                            "color": "#E5ECF6",
                            "width": 0.5
                          },
                          "pattern": {
                            "fillmode": "overlay",
                            "size": 10,
                            "solidity": 0.2
                          }
                        },
                        "type": "barpolar"
                      }
                    ],
                    "carpet": [
                      {
                        "aaxis": {
                          "endlinecolor": "#2a3f5f",
                          "gridcolor": "white",
                          "linecolor": "white",
                          "minorgridcolor": "white",
                          "startlinecolor": "#2a3f5f"
                        },
                        "baxis": {
                          "endlinecolor": "#2a3f5f",
                          "gridcolor": "white",
                          "linecolor": "white",
                          "minorgridcolor": "white",
                          "startlinecolor": "#2a3f5f"
                        },
                        "type": "carpet"
                      }
                    ],
                    "choropleth": [
                      {
                        "colorbar": {
                          "outlinewidth": 0,
                          "ticks": ""
                        },
                        "type": "choropleth"
                      }
                    ],
                    "contour": [
                      {
                        "colorbar": {
                          "outlinewidth": 0,
                          "ticks": ""
                        },
                        "colorscale": [
                          [
                            0,
                            "#0d0887"
                          ],
                          [
                            0.1111111111111111,
                            "#46039f"
                          ],
                          [
                            0.2222222222222222,
                            "#7201a8"
                          ],
                          [
                            0.3333333333333333,
                            "#9c179e"
                          ],
                          [
                            0.4444444444444444,
                            "#bd3786"
                          ],
                          [
                            0.5555555555555556,
                            "#d8576b"
                          ],
                          [
                            0.6666666666666666,
                            "#ed7953"
                          ],
                          [
                            0.7777777777777778,
                            "#fb9f3a"
                          ],
                          [
                            0.8888888888888888,
                            "#fdca26"
                          ],
                          [
                            1,
                            "#f0f921"
                          ]
                        ],
                        "type": "contour"
                      }
                    ],
                    "contourcarpet": [
                      {
                        "colorbar": {
                          "outlinewidth": 0,
                          "ticks": ""
                        },
                        "type": "contourcarpet"
                      }
                    ],
                    "heatmap": [
                      {
                        "colorbar": {
                          "outlinewidth": 0,
                          "ticks": ""
                        },
                        "colorscale": [
                          [
                            0,
                            "#0d0887"
                          ],
                          [
                            0.1111111111111111,
                            "#46039f"
                          ],
                          [
                            0.2222222222222222,
                            "#7201a8"
                          ],
                          [
                            0.3333333333333333,
                            "#9c179e"
                          ],
                          [
                            0.4444444444444444,
                            "#bd3786"
                          ],
                          [
                            0.5555555555555556,
                            "#d8576b"
                          ],
                          [
                            0.6666666666666666,
                            "#ed7953"
                          ],
                          [
                            0.7777777777777778,
                            "#fb9f3a"
                          ],
                          [
                            0.8888888888888888,
                            "#fdca26"
                          ],
                          [
                            1,
                            "#f0f921"
                          ]
                        ],
                        "type": "heatmap"
                      }
                    ],
                    "heatmapgl": [
                      {
                        "colorbar": {
                          "outlinewidth": 0,
                          "ticks": ""
                        },
                        "colorscale": [
                          [
                            0,
                            "#0d0887"
                          ],
                          [
                            0.1111111111111111,
                            "#46039f"
                          ],
                          [
                            0.2222222222222222,
                            "#7201a8"
                          ],
                          [
                            0.3333333333333333,
                            "#9c179e"
                          ],
                          [
                            0.4444444444444444,
                            "#bd3786"
                          ],
                          [
                            0.5555555555555556,
                            "#d8576b"
                          ],
                          [
                            0.6666666666666666,
                            "#ed7953"
                          ],
                          [
                            0.7777777777777778,
                            "#fb9f3a"
                          ],
                          [
                            0.8888888888888888,
                            "#fdca26"
                          ],
                          [
                            1,
                            "#f0f921"
                          ]
                        ],
                        "type": "heatmapgl"
                      }
                    ],
                    "histogram": [
                      {
                        "marker": {
                          "pattern": {
                            "fillmode": "overlay",
                            "size": 10,
                            "solidity": 0.2
                          }
                        },
                        "type": "histogram"
                      }
                    ],
                    "histogram2d": [
                      {
                        "colorbar": {
                          "outlinewidth": 0,
                          "ticks": ""
                        },
                        "colorscale": [
                          [
                            0,
                            "#0d0887"
                          ],
                          [
                            0.1111111111111111,
                            "#46039f"
                          ],
                          [
                            0.2222222222222222,
                            "#7201a8"
                          ],
                          [
                            0.3333333333333333,
                            "#9c179e"
                          ],
                          [
                            0.4444444444444444,
                            "#bd3786"
                          ],
                          [
                            0.5555555555555556,
                            "#d8576b"
                          ],
                          [
                            0.6666666666666666,
                            "#ed7953"
                          ],
                          [
                            0.7777777777777778,
                            "#fb9f3a"
                          ],
                          [
                            0.8888888888888888,
                            "#fdca26"
                          ],
                          [
                            1,
                            "#f0f921"
                          ]
                        ],
                        "type": "histogram2d"
                      }
                    ],
                    "histogram2dcontour": [
                      {
                        "colorbar": {
                          "outlinewidth": 0,
                          "ticks": ""
                        },
                        "colorscale": [
                          [
                            0,
                            "#0d0887"
                          ],
                          [
                            0.1111111111111111,
                            "#46039f"
                          ],
                          [
                            0.2222222222222222,
                            "#7201a8"
                          ],
                          [
                            0.3333333333333333,
                            "#9c179e"
                          ],
                          [
                            0.4444444444444444,
                            "#bd3786"
                          ],
                          [
                            0.5555555555555556,
                            "#d8576b"
                          ],
                          [
                            0.6666666666666666,
                            "#ed7953"
                          ],
                          [
                            0.7777777777777778,
                            "#fb9f3a"
                          ],
                          [
                            0.8888888888888888,
                            "#fdca26"
                          ],
                          [
                            1,
                            "#f0f921"
                          ]
                        ],
                        "type": "histogram2dcontour"
                      }
                    ],
                    "mesh3d": [
                      {
                        "colorbar": {
                          "outlinewidth": 0,
                          "ticks": ""
                        },
                        "type": "mesh3d"
                      }
                    ],
                    "parcoords": [
                      {
                        "line": {
                          "colorbar": {
                            "outlinewidth": 0,
                            "ticks": ""
                          }
                        },
                        "type": "parcoords"
                      }
                    ],
                    "pie": [
                      {
                        "automargin": true,
                        "type": "pie"
                      }
                    ],
                    "scatter": [
                      {
                        "marker": {
                          "colorbar": {
                            "outlinewidth": 0,
                            "ticks": ""
                          }
                        },
                        "type": "scatter"
                      }
                    ],
                    "scatter3d": [
                      {
                        "line": {
                          "colorbar": {
                            "outlinewidth": 0,
                            "ticks": ""
                          }
                        },
                        "marker": {
                          "colorbar": {
                            "outlinewidth": 0,
                            "ticks": ""
                          }
                        },
                        "type": "scatter3d"
                      }
                    ],
                    "scattercarpet": [
                      {
                        "marker": {
                          "colorbar": {
                            "outlinewidth": 0,
                            "ticks": ""
                          }
                        },
                        "type": "scattercarpet"
                      }
                    ],
                    "scattergeo": [
                      {
                        "marker": {
                          "colorbar": {
                            "outlinewidth": 0,
                            "ticks": ""
                          }
                        },
                        "type": "scattergeo"
                      }
                    ],
                    "scattergl": [
                      {
                        "marker": {
                          "colorbar": {
                            "outlinewidth": 0,
                            "ticks": ""
                          }
                        },
                        "type": "scattergl"
                      }
                    ],
                    "scattermapbox": [
                      {
                        "marker": {
                          "colorbar": {
                            "outlinewidth": 0,
                            "ticks": ""
                          }
                        },
                        "type": "scattermapbox"
                      }
                    ],
                    "scatterpolar": [
                      {
                        "marker": {
                          "colorbar": {
                            "outlinewidth": 0,
                            "ticks": ""
                          }
                        },
                        "type": "scatterpolar"
                      }
                    ],
                    "scatterpolargl": [
                      {
                        "marker": {
                          "colorbar": {
                            "outlinewidth": 0,
                            "ticks": ""
                          }
                        },
                        "type": "scatterpolargl"
                      }
                    ],
                    "scatterternary": [
                      {
                        "marker": {
                          "colorbar": {
                            "outlinewidth": 0,
                            "ticks": ""
                          }
                        },
                        "type": "scatterternary"
                      }
                    ],
                    "surface": [
                      {
                        "colorbar": {
                          "outlinewidth": 0,
                          "ticks": ""
                        },
                        "colorscale": [
                          [
                            0,
                            "#0d0887"
                          ],
                          [
                            0.1111111111111111,
                            "#46039f"
                          ],
                          [
                            0.2222222222222222,
                            "#7201a8"
                          ],
                          [
                            0.3333333333333333,
                            "#9c179e"
                          ],
                          [
                            0.4444444444444444,
                            "#bd3786"
                          ],
                          [
                            0.5555555555555556,
                            "#d8576b"
                          ],
                          [
                            0.6666666666666666,
                            "#ed7953"
                          ],
                          [
                            0.7777777777777778,
                            "#fb9f3a"
                          ],
                          [
                            0.8888888888888888,
                            "#fdca26"
                          ],
                          [
                            1,
                            "#f0f921"
                          ]
                        ],
                        "type": "surface"
                      }
                    ],
                    "table": [
                      {
                        "cells": {
                          "fill": {
                            "color": "#EBF0F8"
                          },
                          "line": {
                            "color": "white"
                          }
                        },
                        "header": {
                          "fill": {
                            "color": "#C8D4E3"
                          },
                          "line": {
                            "color": "white"
                          }
                        },
                        "type": "table"
                      }
                    ]
                  },
                  "layout": {
                    "annotationdefaults": {
                      "arrowcolor": "#2a3f5f",
                      "arrowhead": 0,
                      "arrowwidth": 1
                    },
                    "autotypenumbers": "strict",
                    "coloraxis": {
                      "colorbar": {
                        "outlinewidth": 0,
                        "ticks": ""
                      }
                    },
                    "colorscale": {
                      "diverging": [
                        [
                          0,
                          "#8e0152"
                        ],
                        [
                          0.1,
                          "#c51b7d"
                        ],
                        [
                          0.2,
                          "#de77ae"
                        ],
                        [
                          0.3,
                          "#f1b6da"
                        ],
                        [
                          0.4,
                          "#fde0ef"
                        ],
                        [
                          0.5,
                          "#f7f7f7"
                        ],
                        [
                          0.6,
                          "#e6f5d0"
                        ],
                        [
                          0.7,
                          "#b8e186"
                        ],
                        [
                          0.8,
                          "#7fbc41"
                        ],
                        [
                          0.9,
                          "#4d9221"
                        ],
                        [
                          1,
                          "#276419"
                        ]
                      ],
                      "sequential": [
                        [
                          0,
                          "#0d0887"
                        ],
                        [
                          0.1111111111111111,
                          "#46039f"
                        ],
                        [
                          0.2222222222222222,
                          "#7201a8"
                        ],
                        [
                          0.3333333333333333,
                          "#9c179e"
                        ],
                        [
                          0.4444444444444444,
                          "#bd3786"
                        ],
                        [
                          0.5555555555555556,
                          "#d8576b"
                        ],
                        [
                          0.6666666666666666,
                          "#ed7953"
                        ],
                        [
                          0.7777777777777778,
                          "#fb9f3a"
                        ],
                        [
                          0.8888888888888888,
                          "#fdca26"
                        ],
                        [
                          1,
                          "#f0f921"
                        ]
                      ],
                      "sequentialminus": [
                        [
                          0,
                          "#0d0887"
                        ],
                        [
                          0.1111111111111111,
                          "#46039f"
                        ],
                        [
                          0.2222222222222222,
                          "#7201a8"
                        ],
                        [
                          0.3333333333333333,
                          "#9c179e"
                        ],
                        [
                          0.4444444444444444,
                          "#bd3786"
                        ],
                        [
                          0.5555555555555556,
                          "#d8576b"
                        ],
                        [
                          0.6666666666666666,
                          "#ed7953"
                        ],
                        [
                          0.7777777777777778,
                          "#fb9f3a"
                        ],
                        [
                          0.8888888888888888,
                          "#fdca26"
                        ],
                        [
                          1,
                          "#f0f921"
                        ]
                      ]
                    },
                    "colorway": [
                      "#636efa",
                      "#EF553B",
                      "#00cc96",
                      "#ab63fa",
                      "#FFA15A",
                      "#19d3f3",
                      "#FF6692",
                      "#B6E880",
                      "#FF97FF",
                      "#FECB52"
                    ],
                    "font": {
                      "color": "#2a3f5f"
                    },
                    "geo": {
                      "bgcolor": "white",
                      "lakecolor": "white",
                      "landcolor": "#E5ECF6",
                      "showlakes": true,
                      "showland": true,
                      "subunitcolor": "white"
                    },
                    "hoverlabel": {
                      "align": "left"
                    },
                    "hovermode": "closest",
                    "mapbox": {
                      "style": "light"
                    },
                    "paper_bgcolor": "white",
                    "plot_bgcolor": "#E5ECF6",
                    "polar": {
                      "angularaxis": {
                        "gridcolor": "white",
                        "linecolor": "white",
                        "ticks": ""
                      },
                      "bgcolor": "#E5ECF6",
                      "radialaxis": {
                        "gridcolor": "white",
                        "linecolor": "white",
                        "ticks": ""
                      }
                    },
                    "scene": {
                      "xaxis": {
                        "backgroundcolor": "#E5ECF6",
                        "gridcolor": "white",
                        "gridwidth": 2,
                        "linecolor": "white",
                        "showbackground": true,
                        "ticks": "",
                        "zerolinecolor": "white"
                      },
                      "yaxis": {
                        "backgroundcolor": "#E5ECF6",
                        "gridcolor": "white",
                        "gridwidth": 2,
                        "linecolor": "white",
                        "showbackground": true,
                        "ticks": "",
                        "zerolinecolor": "white"
                      },
                      "zaxis": {
                        "backgroundcolor": "#E5ECF6",
                        "gridcolor": "white",
                        "gridwidth": 2,
                        "linecolor": "white",
                        "showbackground": true,
                        "ticks": "",
                        "zerolinecolor": "white"
                      }
                    },
                    "shapedefaults": {
                      "line": {
                        "color": "#2a3f5f"
                      }
                    },
                    "ternary": {
                      "aaxis": {
                        "gridcolor": "white",
                        "linecolor": "white",
                        "ticks": ""
                      },
                      "baxis": {
                        "gridcolor": "white",
                        "linecolor": "white",
                        "ticks": ""
                      },
                      "bgcolor": "#E5ECF6",
                      "caxis": {
                        "gridcolor": "white",
                        "linecolor": "white",
                        "ticks": ""
                      }
                    },
                    "title": {
                      "x": 0.05
                    },
                    "xaxis": {
                      "automargin": true,
                      "gridcolor": "white",
                      "linecolor": "white",
                      "ticks": "",
                      "title": {
                        "standoff": 15
                      },
                      "zerolinecolor": "white",
                      "zerolinewidth": 2
                    },
                    "yaxis": {
                      "automargin": true,
                      "gridcolor": "white",
                      "linecolor": "white",
                      "ticks": "",
                      "title": {
                        "standoff": 15
                      },
                      "zerolinecolor": "white",
                      "zerolinewidth": 2
                    }
                  }
                }
              }
            }
          },
          "metadata": {},
          "output_type": "display_data"
        }
      ],
      "source": [
        "    # fig\n",
        "lat_col = top_5_destinations['latitude']\n",
        "lon_col = top_5_destinations['longitude']\n",
        "color_col = 'red'\n",
        "size_col= top_5_destinations['volume_rain_7days']\n",
        "\n",
        "fig = px.scatter_mapbox(top_5_destinations, lat=lat_col, lon=lon_col,     \n",
        "                        color=size_col, size=size_col,\n",
        "                        color_continuous_scale=px.colors.cyclical.IceFire, \n",
        "                        size_max=15)\n",
        "\n",
        "fig.show()"
      ]
    },
    {
      "cell_type": "markdown",
      "metadata": {
        "id": "hV72rDpRt9wp"
      },
      "source": [
        "Scrape Booking.com"
      ]
    },
    {
      "cell_type": "code",
      "execution_count": 18,
      "metadata": {},
      "outputs": [],
      "source": [
        "class HotelsSpider(scrapy.Spider):\n",
        "    name = \"hotels\"\n",
        "    def start_requests(self):\n",
        "\n",
        "        # first page by city\n",
        "        urls = [\n",
        "            'https://www.booking.com/searchresults.fr.html?label=gen173nr-1FCAEoggI46AdIM1gEaE2IAQGYAQ24AQfIAQzYAQHoAQH4AQuIAgGoAgO4Arm1mo0GwAIB0gIkZjE3NDZhZDItOTUyYS00NjljLWE5N2ItNzUxZjIxMTdjNDdi2AIG4AIB&sid=a8d69dac58d2b76c1d2bb743d5182840&aid=304142&src=searchresults&error_url=https%3A%2F%2Fwww.booking.com%2Fsearchresults.fr.html%3Faid%3D304142%3Blabel%3Dgen173nr-1FCAEoggI46AdIM1gEaE2IAQGYAQ24AQfIAQzYAQHoAQH4AQuIAgGoAgO4Arm1mo0GwAIB0gIkZjE3NDZhZDItOTUyYS00NjljLWE5N2ItNzUxZjIxMTdjNDdi2AIG4AIB%3Bsid%3Da8d69dac58d2b76c1d2bb743d5182840%3Btmpl%3Dsearchresults%3Bac_click_type%3Db%3Bac_position%3D0%3Bclass_interval%3D1%3Bdest_id%3D-1413801%3Bdest_type%3Dcity%3Bdtdisc%3D0%3Bfrom_sf%3D1%3Bgroup_adults%3D2%3Bgroup_children%3D0%3Binac%3D0%3Bindex_postcard%3D0%3Blabel_click%3Dundef%3Bnflt%3Dht_id%253D204%3Bno_rooms%3D1%3Boffset%3D25%3Bpostcard%3D0%3Braw_dest_type%3Dcity%3Broom1%3DA%252CA%3Bsb_price_type%3Dtotal%3Bsearch_selected%3D1%3Bshw_aparth%3D1%3Bslp_r_match%3D0%3Bsrc%3Dindex%3Bsrpvid%3De2c56fbc232b004e%3Bss%3DBormes-les-Mimosas%252C%2520Provence-Alpes-C%25C3%25B4te%2520d%2527Azur%252C%2520France%3Bss_all%3D0%3Bss_raw%3Dbormes%3Bssb%3Dempty%3Bsshis%3D0%3Btop_ufis%3D1%26%3B&ss=Le+Mont-Saint-Michel%2C+Basse-Normandie%2C+France&is_ski_area=&ssne=Bormes-les-Mimosas&ssne_untouched=Bormes-les-Mimosas&city=-1413801&checkin_year=&checkin_month=&checkout_year=&checkout_month=&group_adults=2&group_children=0&no_rooms=1&from_sf=1&ss_raw=Mont+Saint+Michel&ac_position=0&ac_langcode=fr&ac_click_type=b&dest_id=900039327&dest_type=city&place_id_lat=48.636&place_id_lon=-1.511&search_pageview_id=e2c56fbc232b004e&search_selected=true&search_pageview_id=e2c56fbc232b004e&ac_suggestion_list_length=5&ac_suggestion_theme_list_length=0&nflt=ht_id%3D204',\n",
        "            'https://www.booking.com/searchresults.fr.html?label=gen173nr-1FCAEoggI46AdIM1gEaE2IAQGYAQ24AQfIAQzYAQHoAQH4AQuIAgGoAgO4Arm1mo0GwAIB0gIkZjE3NDZhZDItOTUyYS00NjljLWE5N2ItNzUxZjIxMTdjNDdi2AIG4AIB&sid=a8d69dac58d2b76c1d2bb743d5182840&aid=304142&src=searchresults&error_url=https%3A%2F%2Fwww.booking.com%2Fsearchresults.fr.html%3Faid%3D304142%3Blabel%3Dgen173nr-1FCAEoggI46AdIM1gEaE2IAQGYAQ24AQfIAQzYAQHoAQH4AQuIAgGoAgO4Arm1mo0GwAIB0gIkZjE3NDZhZDItOTUyYS00NjljLWE5N2ItNzUxZjIxMTdjNDdi2AIG4AIB%3Bsid%3Da8d69dac58d2b76c1d2bb743d5182840%3Btmpl%3Dsearchresults%3Bac_click_type%3Db%3Bac_position%3D0%3Bcity%3D-1413801%3Bclass_interval%3D1%3Bdest_id%3D900039327%3Bdest_type%3Dcity%3Bdtdisc%3D0%3Bfrom_sf%3D1%3Bgroup_adults%3D2%3Bgroup_children%3D0%3Binac%3D0%3Bindex_postcard%3D0%3Blabel_click%3Dundef%3Bno_rooms%3D1%3Boffset%3D0%3Bpostcard%3D0%3Braw_dest_type%3Dcity%3Broom1%3DA%252CA%3Bsb_price_type%3Dtotal%3Bsearch_selected%3D1%3Bshw_aparth%3D1%3Bslp_r_match%3D0%3Bsrc%3Dsearchresults%3Bsrc_elem%3Dsb%3Bsrpvid%3Db609813456090076%3Bss%3DLe%2520Mont-Saint-Michel%252C%2520Basse-Normandie%252C%2520France%3Bss_all%3D0%3Bss_raw%3DMont%2520Saint%2520Michel%3Bssb%3Dempty%3Bsshis%3D0%3Bssne%3DBormes-les-Mimosas%3Bssne_untouched%3DBormes-les-Mimosas%3Btop_ufis%3D1%26%3B&ss=Saint-Malo%2C+Bretagne%2C+France&is_ski_area=&ssne=Le+Mont-Saint-Michel&ssne_untouched=Le+Mont-Saint-Michel&city=900039327&checkin_year=&checkin_month=&checkout_year=&checkout_month=&group_adults=2&group_children=0&no_rooms=1&from_sf=1&ss_raw=St+Malo&ac_position=0&ac_langcode=fr&ac_click_type=b&dest_id=-1466824&dest_type=city&place_id_lat=48.649616&place_id_lon=-2.025677&search_pageview_id=b609813456090076&search_selected=true&search_pageview_id=b609813456090076&ac_suggestion_list_length=5&ac_suggestion_theme_list_length=0&nflt=ht_id%3D204',\n",
        "            'https://www.booking.com/searchresults.fr.html?label=gen173nr-1FCAEoggI46AdIM1gEaE2IAQGYAQ24AQfIAQzYAQHoAQH4AQuIAgGoAgO4Arm1mo0GwAIB0gIkZjE3NDZhZDItOTUyYS00NjljLWE5N2ItNzUxZjIxMTdjNDdi2AIG4AIB&sid=a8d69dac58d2b76c1d2bb743d5182840&aid=304142&src=searchresults&error_url=https%3A%2F%2Fwww.booking.com%2Fsearchresults.fr.html%3Faid%3D304142%3Blabel%3Dgen173nr-1FCAEoggI46AdIM1gEaE2IAQGYAQ24AQfIAQzYAQHoAQH4AQuIAgGoAgO4Arm1mo0GwAIB0gIkZjE3NDZhZDItOTUyYS00NjljLWE5N2ItNzUxZjIxMTdjNDdi2AIG4AIB%3Bsid%3Da8d69dac58d2b76c1d2bb743d5182840%3Btmpl%3Dsearchresults%3Bac_click_type%3Db%3Bac_position%3D0%3Bcity%3D900039327%3Bclass_interval%3D1%3Bdest_id%3D-1466824%3Bdest_type%3Dcity%3Bdtdisc%3D0%3Bfrom_sf%3D1%3Bgroup_adults%3D2%3Bgroup_children%3D0%3Binac%3D0%3Bindex_postcard%3D0%3Blabel_click%3Dundef%3Bno_rooms%3D1%3Boffset%3D0%3Bpostcard%3D0%3Braw_dest_type%3Dcity%3Broom1%3DA%252CA%3Bsb_price_type%3Dtotal%3Bsearch_selected%3D1%3Bshw_aparth%3D1%3Bslp_r_match%3D0%3Bsrc%3Dsearchresults%3Bsrc_elem%3Dsb%3Bsrpvid%3Dc635814e1d6f00b5%3Bss%3DSaint-Malo%252C%2520Bretagne%252C%2520France%3Bss_all%3D0%3Bss_raw%3DSt%2520Malo%3Bssb%3Dempty%3Bsshis%3D0%3Bssne%3DLe%2520Mont-Saint-Michel%3Bssne_untouched%3DLe%2520Mont-Saint-Michel%3Btop_ufis%3D1%26%3B&ss=Bayeux&is_ski_area=0&ssne=Saint-Malo&ssne_untouched=Saint-Malo&city=-1466824&checkin_year=&checkin_month=&checkout_year=&checkout_month=&group_adults=2&group_children=0&no_rooms=1&from_sf=1&ss_raw=Bayeux&search_pageview_id=c635814e1d6f00b5&nflt=ht_id%3D204',\n",
        "            'https://www.booking.com/searchresults.fr.html?label=gen173nr-1FCAEoggI46AdIM1gEaE2IAQGYAQ24AQfIAQzYAQHoAQH4AQuIAgGoAgO4Arm1mo0GwAIB0gIkZjE3NDZhZDItOTUyYS00NjljLWE5N2ItNzUxZjIxMTdjNDdi2AIG4AIB&sid=a8d69dac58d2b76c1d2bb743d5182840&aid=304142&src=searchresults&error_url=https%3A%2F%2Fwww.booking.com%2Fsearchresults.fr.html%3Faid%3D304142%3Blabel%3Dgen173nr-1FCAEoggI46AdIM1gEaE2IAQGYAQ24AQfIAQzYAQHoAQH4AQuIAgGoAgO4Arm1mo0GwAIB0gIkZjE3NDZhZDItOTUyYS00NjljLWE5N2ItNzUxZjIxMTdjNDdi2AIG4AIB%3Bsid%3Da8d69dac58d2b76c1d2bb743d5182840%3Btmpl%3Dsearchresults%3Bcity%3D-1466824%3Bclass_interval%3D1%3Bdest_id%3D-1466824%3Bdest_type%3Dcity%3Bdtdisc%3D0%3Bfrom_sf%3D1%3Bgroup_adults%3D2%3Bgroup_children%3D0%3Binac%3D0%3Bindex_postcard%3D0%3Blabel_click%3Dundef%3Bno_rooms%3D1%3Boffset%3D0%3Bpostcard%3D0%3Broom1%3DA%252CA%3Bsb_price_type%3Dtotal%3Bsearch_pageview_id%3Dc635814e1d6f00b5%3Bshw_aparth%3D1%3Bslp_r_match%3D0%3Bsrc%3Dsearchresults%3Bsrc_elem%3Dsb%3Bsrpvid%3D058e81590c390178%3Bss%3DBayeux%3Bss_all%3D0%3Bss_raw%3DBayeux%3Bssb%3Dempty%3Bsshis%3D0%3Bssne%3DSaint-Malo%3Bssne_untouched%3DSaint-Malo%3Btop_ufis%3D1%26%3B&ss=Le+Havre%2C+Haute-Normandie%2C+France&is_ski_area=&ssne=Saint-Malo&ssne_untouched=Saint-Malo&city=-1466824&checkin_year=&checkin_month=&checkout_year=&checkout_month=&group_adults=2&group_children=0&no_rooms=1&from_sf=1&ss_raw=Le+Havre&ac_position=0&ac_langcode=fr&ac_click_type=b&dest_id=-1441598&dest_type=city&place_id_lat=49.49489&place_id_lon=0.107723&search_pageview_id=058e81590c390178&search_selected=true&search_pageview_id=058e81590c390178&ac_suggestion_list_length=5&ac_suggestion_theme_list_length=0&nflt=ht_id%3D204',\n",
        "            'https://www.booking.com/searchresults.fr.html?label=gen173nr-1FCAEoggI46AdIM1gEaE2IAQGYAQ24AQfIAQzYAQHoAQH4AQuIAgGoAgO4Arm1mo0GwAIB0gIkZjE3NDZhZDItOTUyYS00NjljLWE5N2ItNzUxZjIxMTdjNDdi2AIG4AIB&sid=a8d69dac58d2b76c1d2bb743d5182840&aid=304142&src=searchresults&error_url=https%3A%2F%2Fwww.booking.com%2Fsearchresults.fr.html%3Faid%3D304142%3Blabel%3Dgen173nr-1FCAEoggI46AdIM1gEaE2IAQGYAQ24AQfIAQzYAQHoAQH4AQuIAgGoAgO4Arm1mo0GwAIB0gIkZjE3NDZhZDItOTUyYS00NjljLWE5N2ItNzUxZjIxMTdjNDdi2AIG4AIB%3Bsid%3Da8d69dac58d2b76c1d2bb743d5182840%3Btmpl%3Dsearchresults%3Bac_click_type%3Db%3Bac_position%3D0%3Bcity%3D-1466824%3Bclass_interval%3D1%3Bdest_id%3D-1441598%3Bdest_type%3Dcity%3Bdtdisc%3D0%3Bfrom_sf%3D1%3Bgroup_adults%3D2%3Bgroup_children%3D0%3Binac%3D0%3Bindex_postcard%3D0%3Blabel_click%3Dundef%3Bno_rooms%3D1%3Boffset%3D0%3Bpostcard%3D0%3Braw_dest_type%3Dcity%3Broom1%3DA%252CA%3Bsb_price_type%3Dtotal%3Bsearch_selected%3D1%3Bshw_aparth%3D1%3Bslp_r_match%3D0%3Bsrc%3Dsearchresults%3Bsrc_elem%3Dsb%3Bsrpvid%3D74678168e1e70029%3Bss%3DLe%2520Havre%252C%2520Haute-Normandie%252C%2520France%3Bss_all%3D0%3Bss_raw%3DLe%2520Havre%3Bssb%3Dempty%3Bsshis%3D0%3Bssne%3DSaint-Malo%3Bssne_untouched%3DSaint-Malo%3Btop_ufis%3D1%26%3B&ss=Rouen%2C+Haute-Normandie%2C+France&is_ski_area=&ssne=Le+Havre&ssne_untouched=Le+Havre&city=-1441598&checkin_year=&checkin_month=&checkout_year=&checkout_month=&group_adults=2&group_children=0&no_rooms=1&from_sf=1&ss_raw=Rouen&ac_position=0&ac_langcode=fr&ac_click_type=b&dest_id=-1462807&dest_type=city&place_id_lat=49.44046&place_id_lon=1.09397&search_pageview_id=74678168e1e70029&search_selected=true&search_pageview_id=74678168e1e70029&ac_suggestion_list_length=5&ac_suggestion_theme_list_length=0&nflt=ht_id%3D204',\n",
        "            'https://www.booking.com/searchresults.fr.html?label=gen173nr-1FCAEoggI46AdIM1gEaE2IAQGYAQ24AQfIAQzYAQHoAQH4AQuIAgGoAgO4Arm1mo0GwAIB0gIkZjE3NDZhZDItOTUyYS00NjljLWE5N2ItNzUxZjIxMTdjNDdi2AIG4AIB&sid=a8d69dac58d2b76c1d2bb743d5182840&aid=304142&src=searchresults&error_url=https%3A%2F%2Fwww.booking.com%2Fsearchresults.fr.html%3Faid%3D304142%3Blabel%3Dgen173nr-1FCAEoggI46AdIM1gEaE2IAQGYAQ24AQfIAQzYAQHoAQH4AQuIAgGoAgO4Arm1mo0GwAIB0gIkZjE3NDZhZDItOTUyYS00NjljLWE5N2ItNzUxZjIxMTdjNDdi2AIG4AIB%3Bsid%3Da8d69dac58d2b76c1d2bb743d5182840%3Btmpl%3Dsearchresults%3Bac_click_type%3Db%3Bac_position%3D0%3Bcity%3D-1441598%3Bclass_interval%3D1%3Bdest_id%3D-1462807%3Bdest_type%3Dcity%3Bdtdisc%3D0%3Bfrom_sf%3D1%3Bgroup_adults%3D2%3Bgroup_children%3D0%3Binac%3D0%3Bindex_postcard%3D0%3Blabel_click%3Dundef%3Bno_rooms%3D1%3Boffset%3D0%3Bpostcard%3D0%3Braw_dest_type%3Dcity%3Broom1%3DA%252CA%3Bsb_price_type%3Dtotal%3Bsearch_selected%3D1%3Bshw_aparth%3D1%3Bslp_r_match%3D0%3Bsrc%3Dsearchresults%3Bsrc_elem%3Dsb%3Bsrpvid%3D9c39817b30540031%3Bss%3DRouen%252C%2520Haute-Normandie%252C%2520France%3Bss_all%3D0%3Bss_raw%3DRouen%3Bssb%3Dempty%3Bsshis%3D0%3Bssne%3DLe%2520Havre%3Bssne_untouched%3DLe%2520Havre%3Btop_ufis%3D1%26%3B&ss=Paris%2C+%C3%8Ele-de-France%2C+France&is_ski_area=0&ssne=Rouen&ssne_untouched=Rouen&city=-1462807&checkin_year=&checkin_month=&checkout_year=&checkout_month=&group_adults=2&group_children=0&no_rooms=1&from_sf=1&ss_raw=Paris&ac_position=0&ac_langcode=fr&ac_click_type=b&dest_id=-1456928&dest_type=city&iata=PAR&place_id_lat=48.85668&place_id_lon=2.351476&search_pageview_id=9c39817b30540031&search_selected=true&nflt=ht_id%3D204',\n",
        "            'https://www.booking.com/searchresults.fr.html?label=gen173nr-1FCAEoggI46AdIM1gEaE2IAQGYAQ24AQfIAQzYAQHoAQH4AQuIAgGoAgO4Arm1mo0GwAIB0gIkZjE3NDZhZDItOTUyYS00NjljLWE5N2ItNzUxZjIxMTdjNDdi2AIG4AIB&sid=a8d69dac58d2b76c1d2bb743d5182840&aid=304142&src=searchresults&error_url=https%3A%2F%2Fwww.booking.com%2Fsearchresults.fr.html%3Faid%3D304142%3Blabel%3Dgen173nr-1FCAEoggI46AdIM1gEaE2IAQGYAQ24AQfIAQzYAQHoAQH4AQuIAgGoAgO4Arm1mo0GwAIB0gIkZjE3NDZhZDItOTUyYS00NjljLWE5N2ItNzUxZjIxMTdjNDdi2AIG4AIB%3Bsid%3Da8d69dac58d2b76c1d2bb743d5182840%3Btmpl%3Dsearchresults%3Bcity%3D-1456928%3Bclass_interval%3D1%3Bdest_id%3D-1456928%3Bdest_type%3Dcity%3Bdtdisc%3D0%3Bfrom_sf%3D1%3Bgroup_adults%3D2%3Bgroup_children%3D0%3Binac%3D0%3Bindex_postcard%3D0%3Blabel_click%3Dundef%3Bno_rooms%3D1%3Boffset%3D0%3Bpostcard%3D0%3Broom1%3DA%252CA%3Bsb_price_type%3Dtotal%3Bsearch_pageview_id%3D96838187422b0181%3Bshw_aparth%3D1%3Bslp_r_match%3D0%3Bsrc%3Dsearchresults%3Bsrc_elem%3Dsb%3Bsrpvid%3D44fb81931f11015b%3Bss%3DAmiens%3Bss_all%3D0%3Bss_raw%3DAmiens%3Bssb%3Dempty%3Bsshis%3D0%3Bssne%3DParis%3Bssne_untouched%3DParis%3Btop_ufis%3D1%26%3B&ss=Amiens%2C+Picardie%2C+France&is_ski_area=&ssne=Paris&ssne_untouched=Paris&city=-1456928&checkin_year=&checkin_month=&checkout_year=&checkout_month=&group_adults=2&group_children=0&no_rooms=1&from_sf=1&ss_raw=Amiens&ac_position=0&ac_langcode=fr&ac_click_type=b&dest_id=-1407447&dest_type=city&place_id_lat=49.895454&place_id_lon=2.299816&search_pageview_id=44fb81931f11015b&search_selected=true&search_pageview_id=44fb81931f11015b&ac_suggestion_list_length=5&ac_suggestion_theme_list_length=0&nflt=ht_id%3D204',\n",
        "            'https://www.booking.com/searchresults.fr.html?label=gen173nr-1FCAEoggI46AdIM1gEaE2IAQGYAQ24AQfIAQzYAQHoAQH4AQuIAgGoAgO4Arm1mo0GwAIB0gIkZjE3NDZhZDItOTUyYS00NjljLWE5N2ItNzUxZjIxMTdjNDdi2AIG4AIB&sid=a8d69dac58d2b76c1d2bb743d5182840&aid=304142&src=searchresults&error_url=https%3A%2F%2Fwww.booking.com%2Fsearchresults.fr.html%3Faid%3D304142%3Blabel%3Dgen173nr-1FCAEoggI46AdIM1gEaE2IAQGYAQ24AQfIAQzYAQHoAQH4AQuIAgGoAgO4Arm1mo0GwAIB0gIkZjE3NDZhZDItOTUyYS00NjljLWE5N2ItNzUxZjIxMTdjNDdi2AIG4AIB%3Bsid%3Da8d69dac58d2b76c1d2bb743d5182840%3Btmpl%3Dsearchresults%3Bac_click_type%3Db%3Bac_position%3D0%3Bcity%3D-1456928%3Bclass_interval%3D1%3Bdest_id%3D-1407447%3Bdest_type%3Dcity%3Bdtdisc%3D0%3Bfrom_sf%3D1%3Bgroup_adults%3D2%3Bgroup_children%3D0%3Binac%3D0%3Bindex_postcard%3D0%3Blabel_click%3Dundef%3Bno_rooms%3D1%3Boffset%3D0%3Bpostcard%3D0%3Braw_dest_type%3Dcity%3Broom1%3DA%252CA%3Bsb_price_type%3Dtotal%3Bsearch_selected%3D1%3Bshw_aparth%3D1%3Bslp_r_match%3D0%3Bsrc%3Dsearchresults%3Bsrc_elem%3Dsb%3Bsrpvid%3D19cc8198cf82016e%3Bss%3DAmiens%252C%2520Picardie%252C%2520France%3Bss_all%3D0%3Bss_raw%3DAmiens%3Bssb%3Dempty%3Bsshis%3D0%3Bssne%3DParis%3Bssne_untouched%3DParis%3Btop_ufis%3D1%26%3B&ss=Lille%2C+Nord-Pas-de-Calais%2C+France&is_ski_area=&ssne=Amiens&ssne_untouched=Amiens&city=-1407447&checkin_year=&checkin_month=&checkout_year=&checkout_month=&group_adults=2&group_children=0&no_rooms=1&from_sf=1&ss_raw=Lille&ac_position=0&ac_langcode=fr&ac_click_type=b&dest_id=-1447079&dest_type=city&iata=LIL&place_id_lat=50.636845&place_id_lon=3.063454&search_pageview_id=19cc8198cf82016e&search_selected=true&search_pageview_id=19cc8198cf82016e&ac_suggestion_list_length=5&ac_suggestion_theme_list_length=0&nflt=ht_id%3D204',\n",
        "            'https://www.booking.com/searchresults.fr.html?label=gen173nr-1FCAEoggI46AdIM1gEaE2IAQGYAQ24AQfIAQzYAQHoAQH4AQuIAgGoAgO4Arm1mo0GwAIB0gIkZjE3NDZhZDItOTUyYS00NjljLWE5N2ItNzUxZjIxMTdjNDdi2AIG4AIB&sid=a8d69dac58d2b76c1d2bb743d5182840&aid=304142&src=searchresults&error_url=https%3A%2F%2Fwww.booking.com%2Fsearchresults.fr.html%3Faid%3D304142%3Blabel%3Dgen173nr-1FCAEoggI46AdIM1gEaE2IAQGYAQ24AQfIAQzYAQHoAQH4AQuIAgGoAgO4Arm1mo0GwAIB0gIkZjE3NDZhZDItOTUyYS00NjljLWE5N2ItNzUxZjIxMTdjNDdi2AIG4AIB%3Bsid%3Da8d69dac58d2b76c1d2bb743d5182840%3Btmpl%3Dsearchresults%3Bac_click_type%3Db%3Bac_position%3D0%3Bcity%3D-1407447%3Bclass_interval%3D1%3Bdest_id%3D-1447079%3Bdest_type%3Dcity%3Bdtdisc%3D0%3Bfrom_sf%3D1%3Bgroup_adults%3D2%3Bgroup_children%3D0%3Biata%3DLIL%3Binac%3D0%3Bindex_postcard%3D0%3Blabel_click%3Dundef%3Bno_rooms%3D1%3Boffset%3D0%3Bpostcard%3D0%3Braw_dest_type%3Dcity%3Broom1%3DA%252CA%3Bsb_price_type%3Dtotal%3Bsearch_selected%3D1%3Bshw_aparth%3D1%3Bslp_r_match%3D0%3Bsrc%3Dsearchresults%3Bsrc_elem%3Dsb%3Bsrpvid%3Deb1981a576570052%3Bss%3DLille%252C%2520Nord-Pas-de-Calais%252C%2520France%3Bss_all%3D0%3Bss_raw%3DLille%3Bssb%3Dempty%3Bsshis%3D0%3Bssne%3DAmiens%3Bssne_untouched%3DAmiens%3Btop_ufis%3D1%26%3B&ss=Strasbourg%2C+Alsace%2C+France&is_ski_area=0&ssne=Lille&ssne_untouched=Lille&city=-1447079&checkin_year=&checkin_month=&checkout_year=&checkout_month=&group_adults=2&group_children=0&no_rooms=1&from_sf=1&ac_position=0&ac_langcode=fr&ac_click_type=b&dest_id=-1471697&dest_type=city&iata=SXB&place_id_lat=48.5834&place_id_lon=7.7458&search_pageview_id=eb1981a576570052&search_selected=true&ss_raw=Strasbourg&nflt=ht_id%3D204',\n",
        "            'https://www.booking.com/searchresults.fr.html?label=gen173nr-1FCAEoggI46AdIM1gEaE2IAQGYAQ24AQfIAQzYAQHoAQH4AQuIAgGoAgO4Arm1mo0GwAIB0gIkZjE3NDZhZDItOTUyYS00NjljLWE5N2ItNzUxZjIxMTdjNDdi2AIG4AIB&sid=a8d69dac58d2b76c1d2bb743d5182840&aid=304142&src=searchresults&error_url=https%3A%2F%2Fwww.booking.com%2Fsearchresults.fr.html%3Faid%3D304142%3Blabel%3Dgen173nr-1FCAEoggI46AdIM1gEaE2IAQGYAQ24AQfIAQzYAQHoAQH4AQuIAgGoAgO4Arm1mo0GwAIB0gIkZjE3NDZhZDItOTUyYS00NjljLWE5N2ItNzUxZjIxMTdjNDdi2AIG4AIB%3Bsid%3Da8d69dac58d2b76c1d2bb743d5182840%3Btmpl%3Dsearchresults%3Bac_click_type%3Db%3Bac_position%3D0%3Bcity%3D-1447079%3Bclass_interval%3D1%3Bdest_id%3D-1471697%3Bdest_type%3Dcity%3Bdtdisc%3D0%3Bfrom_sf%3D1%3Bgroup_adults%3D2%3Bgroup_children%3D0%3Biata%3DSXB%3Binac%3D0%3Bindex_postcard%3D0%3Blabel_click%3Dundef%3Bno_rooms%3D1%3Boffset%3D0%3Bpostcard%3D0%3Braw_dest_type%3Dcity%3Broom1%3DA%252CA%3Bsb_price_type%3Dtotal%3Bsearch_selected%3D1%3Bshw_aparth%3D1%3Bslp_r_match%3D0%3Bsrc%3Dsearchresults%3Bsrc_elem%3Dsb%3Bsrpvid%3Dd16681b280140136%3Bss%3DStrasbourg%252C%2520Alsace%252C%2520France%3Bss_all%3D0%3Bss_raw%3DStrasbourg%3Bssb%3Dempty%3Bsshis%3D0%3Bssne%3DLille%3Bssne_untouched%3DLille%3Btop_ufis%3D1%26%3B&ss=Ch%C3%A2teau+du+Haut-K%C5%93nigsbourg%2C+Saint-Hippolyte%2C+Alsace%2C+France&is_ski_area=&ssne=Strasbourg&ssne_untouched=Strasbourg&city=-1471697&checkin_year=&checkin_month=&checkout_year=&checkout_month=&group_adults=2&group_children=0&no_rooms=1&from_sf=1&search_pageview_id=d16681b280140136&ac_suggestion_list_length=3&ac_suggestion_theme_list_length=0&ac_position=0&ac_langcode=fr&ac_click_type=b&dest_id=204055&dest_type=landmark&place_id_lat=48.24931&place_id_lon=7.34445&search_pageview_id=d16681b280140136&search_selected=true&ss_raw=Chateau+du+Haut+Koenigsbourg&nflt=ht_id%3D204',\n",
        "            'https://www.booking.com/searchresults.fr.html?label=gen173nr-1FCAEoggI46AdIM1gEaE2IAQGYAQ24AQfIAQzYAQHoAQH4AQuIAgGoAgO4Arm1mo0GwAIB0gIkZjE3NDZhZDItOTUyYS00NjljLWE5N2ItNzUxZjIxMTdjNDdi2AIG4AIB&sid=a8d69dac58d2b76c1d2bb743d5182840&aid=304142&src=searchresults&error_url=https%3A%2F%2Fwww.booking.com%2Fsearchresults.fr.html%3Faid%3D304142%3Blabel%3Dgen173nr-1FCAEoggI46AdIM1gEaE2IAQGYAQ24AQfIAQzYAQHoAQH4AQuIAgGoAgO4Arm1mo0GwAIB0gIkZjE3NDZhZDItOTUyYS00NjljLWE5N2ItNzUxZjIxMTdjNDdi2AIG4AIB%3Bsid%3Da8d69dac58d2b76c1d2bb743d5182840%3Btmpl%3Dsearchresults%3Bac_click_type%3Db%3Bac_position%3D0%3Bcity%3D-1471697%3Bclass_interval%3D1%3Bdest_id%3D204055%3Bdest_type%3Dlandmark%3Bdtdisc%3D0%3Bfrom_sf%3D1%3Bgroup_adults%3D2%3Bgroup_children%3D0%3Binac%3D0%3Bindex_postcard%3D0%3Blabel_click%3Dundef%3Bno_rooms%3D1%3Boffset%3D0%3Bpostcard%3D0%3Braw_dest_type%3Dlandmark%3Broom1%3DA%252CA%3Bsb_price_type%3Dtotal%3Bsearch_selected%3D1%3Bshw_aparth%3D1%3Bslp_r_match%3D0%3Bsrc%3Dsearchresults%3Bsrc_elem%3Dsb%3Bsrpvid%3D119981c3883200d7%3Bss%3DCh%25C3%25A2teau%2520du%2520Haut-K%25C5%2593nigsbourg%252C%2520Saint-Hippolyte%252C%2520Alsace%252C%2520France%3Bss_all%3D0%3Bss_raw%3DChateau%2520du%2520Haut%2520Koenigsbourg%3Bssb%3Dempty%3Bsshis%3D0%3Bssne%3DStrasbourg%3Bssne_untouched%3DStrasbourg%3Btop_ufis%3D1%26%3B&ss=Colmar%2C+Alsace%2C+France&is_ski_area=&ssne=Ch%C3%A2teau+du+Haut-K%C5%93nigsbourg&ssne_untouched=Ch%C3%A2teau+du+Haut-K%C5%93nigsbourg&checkin_year=&checkin_month=&checkout_year=&checkout_month=&group_adults=2&group_children=0&no_rooms=1&from_sf=1&ss_raw=Colmar&ac_position=0&ac_langcode=fr&ac_click_type=b&dest_id=-1421049&dest_type=city&place_id_lat=48.079155&place_id_lon=7.357718&search_pageview_id=119981c3883200d7&search_selected=true&search_pageview_id=119981c3883200d7&ac_suggestion_list_length=5&ac_suggestion_theme_list_length=0&nflt=ht_id%3D204',\n",
        "            'https://www.booking.com/searchresults.fr.html?label=gen173nr-1FCAEoggI46AdIM1gEaE2IAQGYAQ24AQfIAQzYAQHoAQH4AQuIAgGoAgO4Arm1mo0GwAIB0gIkZjE3NDZhZDItOTUyYS00NjljLWE5N2ItNzUxZjIxMTdjNDdi2AIG4AIB&sid=a8d69dac58d2b76c1d2bb743d5182840&aid=304142&src=searchresults&error_url=https%3A%2F%2Fwww.booking.com%2Fsearchresults.fr.html%3Faid%3D304142%3Blabel%3Dgen173nr-1FCAEoggI46AdIM1gEaE2IAQGYAQ24AQfIAQzYAQHoAQH4AQuIAgGoAgO4Arm1mo0GwAIB0gIkZjE3NDZhZDItOTUyYS00NjljLWE5N2ItNzUxZjIxMTdjNDdi2AIG4AIB%3Bsid%3Da8d69dac58d2b76c1d2bb743d5182840%3Btmpl%3Dsearchresults%3Bac_click_type%3Db%3Bac_position%3D0%3Bclass_interval%3D1%3Bdest_id%3D-1421049%3Bdest_type%3Dcity%3Bdtdisc%3D0%3Bfrom_sf%3D1%3Bgroup_adults%3D2%3Bgroup_children%3D0%3Binac%3D0%3Bindex_postcard%3D0%3Blabel_click%3Dundef%3Bno_rooms%3D1%3Boffset%3D0%3Bpostcard%3D0%3Braw_dest_type%3Dcity%3Broom1%3DA%252CA%3Bsb_price_type%3Dtotal%3Bsearch_selected%3D1%3Bshw_aparth%3D1%3Bslp_r_match%3D0%3Bsrc%3Dsearchresults%3Bsrc_elem%3Dsb%3Bsrpvid%3Da96481d31d3c0147%3Bss%3DColmar%252C%2520Alsace%252C%2520France%3Bss_all%3D0%3Bss_raw%3DColmar%3Bssb%3Dempty%3Bsshis%3D0%3Bssne%3DCh%25C3%25A2teau%2520du%2520Haut-K%25C5%2593nigsbourg%3Bssne_untouched%3DCh%25C3%25A2teau%2520du%2520Haut-K%25C5%2593nigsbourg%3Btop_ufis%3D1%26%3B&ss=Eguisheim%2C+Alsace%2C+France&is_ski_area=&ssne=Colmar&ssne_untouched=Colmar&city=-1421049&checkin_year=&checkin_month=&checkout_year=&checkout_month=&group_adults=2&group_children=0&no_rooms=1&from_sf=1&search_pageview_id=a96481d31d3c0147&ac_suggestion_list_length=5&ac_suggestion_theme_list_length=0&ac_position=0&ac_langcode=fr&ac_click_type=b&dest_id=-1425030&dest_type=city&place_id_lat=48.04231&place_id_lon=7.30543&search_pageview_id=a96481d31d3c0147&search_selected=true&ss_raw=Eguisheim&nflt=health_and_hygiene%3D1',\n",
        "            'https://www.booking.com/searchresults.fr.html?label=gen173nr-1FCAEoggI46AdIM1gEaE2IAQGYAQ24AQfIAQzYAQHoAQH4AQuIAgGoAgO4Arm1mo0GwAIB0gIkZjE3NDZhZDItOTUyYS00NjljLWE5N2ItNzUxZjIxMTdjNDdi2AIG4AIB&sid=a8d69dac58d2b76c1d2bb743d5182840&aid=304142&src=searchresults&error_url=https%3A%2F%2Fwww.booking.com%2Fsearchresults.fr.html%3Faid%3D304142%3Blabel%3Dgen173nr-1FCAEoggI46AdIM1gEaE2IAQGYAQ24AQfIAQzYAQHoAQH4AQuIAgGoAgO4Arm1mo0GwAIB0gIkZjE3NDZhZDItOTUyYS00NjljLWE5N2ItNzUxZjIxMTdjNDdi2AIG4AIB%3Bsid%3Da8d69dac58d2b76c1d2bb743d5182840%3Btmpl%3Dsearchresults%3Bac_click_type%3Db%3Bac_position%3D0%3Bcity%3D-1421049%3Bclass_interval%3D1%3Bdest_id%3D-1425030%3Bdest_type%3Dcity%3Bdtdisc%3D0%3Bfrom_sf%3D1%3Bgroup_adults%3D2%3Bgroup_children%3D0%3Binac%3D0%3Bindex_postcard%3D0%3Blabel_click%3Dundef%3Bno_rooms%3D1%3Boffset%3D0%3Bpostcard%3D0%3Braw_dest_type%3Dcity%3Broom1%3DA%252CA%3Bsb_price_type%3Dtotal%3Bsearch_selected%3D1%3Bshw_aparth%3D1%3Bslp_r_match%3D0%3Bsrc%3Dsearchresults%3Bsrc_elem%3Dsb%3Bsrpvid%3D783681e176630022%3Bss%3DEguisheim%252C%2520Alsace%252C%2520France%3Bss_all%3D0%3Bss_raw%3DEguisheim%3Bssb%3Dempty%3Bsshis%3D0%3Bssne%3DColmar%3Bssne_untouched%3DColmar%3Btop_ufis%3D1%26%3B&ss=Besan%C3%A7on%2C+Franche-Comt%C3%A9%2C+France&is_ski_area=&ssne=Eguisheim&ssne_untouched=Eguisheim&city=-1425030&checkin_year=&checkin_month=&checkout_year=&checkout_month=&group_adults=2&group_children=0&no_rooms=1&from_sf=1&search_pageview_id=783681e176630022&ac_suggestion_list_length=5&ac_suggestion_theme_list_length=0&ac_position=0&ac_langcode=fr&ac_click_type=b&dest_id=-1412198&dest_type=city&place_id_lat=47.240215&place_id_lon=6.023773&search_pageview_id=783681e176630022&search_selected=true&ss_raw=Besancon&nflt=ht_id%3D204',\n",
        "            'https://www.booking.com/searchresults.fr.html?label=gen173nr-1FCAEoggI46AdIM1gEaE2IAQGYAQ24AQfIAQzYAQHoAQH4AQuIAgGoAgO4Arm1mo0GwAIB0gIkZjE3NDZhZDItOTUyYS00NjljLWE5N2ItNzUxZjIxMTdjNDdi2AIG4AIB&sid=a8d69dac58d2b76c1d2bb743d5182840&aid=304142&src=searchresults&error_url=https%3A%2F%2Fwww.booking.com%2Fsearchresults.fr.html%3Faid%3D304142%3Blabel%3Dgen173nr-1FCAEoggI46AdIM1gEaE2IAQGYAQ24AQfIAQzYAQHoAQH4AQuIAgGoAgO4Arm1mo0GwAIB0gIkZjE3NDZhZDItOTUyYS00NjljLWE5N2ItNzUxZjIxMTdjNDdi2AIG4AIB%3Bsid%3Da8d69dac58d2b76c1d2bb743d5182840%3Btmpl%3Dsearchresults%3Bac_click_type%3Db%3Bac_position%3D0%3Bcity%3D-1425030%3Bclass_interval%3D1%3Bdest_id%3D-1412198%3Bdest_type%3Dcity%3Bdtdisc%3D0%3Bfrom_sf%3D1%3Bgroup_adults%3D2%3Bgroup_children%3D0%3Binac%3D0%3Bindex_postcard%3D0%3Blabel_click%3Dundef%3Bno_rooms%3D1%3Boffset%3D0%3Bpostcard%3D0%3Braw_dest_type%3Dcity%3Broom1%3DA%252CA%3Bsb_price_type%3Dtotal%3Bsearch_selected%3D1%3Bshw_aparth%3D1%3Bslp_r_match%3D0%3Bsrc%3Dsearchresults%3Bsrc_elem%3Dsb%3Bsrpvid%3D17b581f1c397017a%3Bss%3DBesan%25C3%25A7on%252C%2520Franche-Comt%25C3%25A9%252C%2520France%3Bss_all%3D0%3Bss_raw%3DBesancon%3Bssb%3Dempty%3Bsshis%3D0%3Bssne%3DEguisheim%3Bssne_untouched%3DEguisheim%3Btop_ufis%3D1%26%3B&ss=Dijon%2C+Bourgogne%2C+France&is_ski_area=&ssne=Besan%C3%A7on&ssne_untouched=Besan%C3%A7on&city=-1412198&checkin_year=&checkin_month=&checkout_year=&checkout_month=&group_adults=2&group_children=0&no_rooms=1&from_sf=1&search_pageview_id=17b581f1c397017a&ac_suggestion_list_length=5&ac_suggestion_theme_list_length=0&ac_position=0&ac_langcode=fr&ac_click_type=b&dest_id=-1423981&dest_type=city&place_id_lat=47.321762&place_id_lon=5.039809&search_pageview_id=17b581f1c397017a&search_selected=true&ss_raw=Dijon&nflt=ht_id%3D204',\n",
        "            'https://www.booking.com/searchresults.fr.html?label=gen173nr-1FCAEoggI46AdIM1gEaE2IAQGYAQ24AQfIAQzYAQHoAQH4AQuIAgGoAgO4Arm1mo0GwAIB0gIkZjE3NDZhZDItOTUyYS00NjljLWE5N2ItNzUxZjIxMTdjNDdi2AIG4AIB&sid=a8d69dac58d2b76c1d2bb743d5182840&aid=304142&src=searchresults&error_url=https%3A%2F%2Fwww.booking.com%2Fsearchresults.fr.html%3Faid%3D304142%3Blabel%3Dgen173nr-1FCAEoggI46AdIM1gEaE2IAQGYAQ24AQfIAQzYAQHoAQH4AQuIAgGoAgO4Arm1mo0GwAIB0gIkZjE3NDZhZDItOTUyYS00NjljLWE5N2ItNzUxZjIxMTdjNDdi2AIG4AIB%3Bsid%3Da8d69dac58d2b76c1d2bb743d5182840%3Btmpl%3Dsearchresults%3Bac_click_type%3Db%3Bac_position%3D0%3Bcity%3D-1412198%3Bclass_interval%3D1%3Bdest_id%3D-1423981%3Bdest_type%3Dcity%3Bdtdisc%3D0%3Bfrom_sf%3D1%3Bgroup_adults%3D2%3Bgroup_children%3D0%3Binac%3D0%3Bindex_postcard%3D0%3Blabel_click%3Dundef%3Bno_rooms%3D1%3Boffset%3D0%3Bpostcard%3D0%3Braw_dest_type%3Dcity%3Broom1%3DA%252CA%3Bsb_price_type%3Dtotal%3Bsearch_selected%3D1%3Bshw_aparth%3D1%3Bslp_r_match%3D0%3Bsrc%3Dsearchresults%3Bsrc_elem%3Dsb%3Bsrpvid%3Da332820097fb0091%3Bss%3DDijon%252C%2520Bourgogne%252C%2520France%3Bss_all%3D0%3Bss_raw%3DDijon%3Bssb%3Dempty%3Bsshis%3D0%3Bssne%3DBesan%25C3%25A7on%3Bssne_untouched%3DBesan%25C3%25A7on%3Btop_ufis%3D1%26%3B&ss=Annecy%2C+Rh%C3%B4ne-Alpes%2C+France&is_ski_area=&ssne=Dijon&ssne_untouched=Dijon&city=-1423981&checkin_year=&checkin_month=&checkout_year=&checkout_month=&group_adults=2&group_children=0&no_rooms=1&from_sf=1&search_pageview_id=a332820097fb0091&ac_suggestion_list_length=5&ac_suggestion_theme_list_length=0&ac_position=0&ac_langcode=fr&ac_click_type=b&dest_id=-1407760&dest_type=city&iata=NCY&place_id_lat=45.899727&place_id_lon=6.127196&search_pageview_id=a332820097fb0091&search_selected=true&ss_raw=Annecy&nflt=ht_id%3D204',\n",
        "            'https://www.booking.com/searchresults.fr.html?label=gen173nr-1FCAEoggI46AdIM1gEaE2IAQGYAQ24AQfIAQzYAQHoAQH4AQuIAgGoAgO4Arm1mo0GwAIB0gIkZjE3NDZhZDItOTUyYS00NjljLWE5N2ItNzUxZjIxMTdjNDdi2AIG4AIB&sid=a8d69dac58d2b76c1d2bb743d5182840&aid=304142&src=searchresults&error_url=https%3A%2F%2Fwww.booking.com%2Fsearchresults.fr.html%3Faid%3D304142%3Blabel%3Dgen173nr-1FCAEoggI46AdIM1gEaE2IAQGYAQ24AQfIAQzYAQHoAQH4AQuIAgGoAgO4Arm1mo0GwAIB0gIkZjE3NDZhZDItOTUyYS00NjljLWE5N2ItNzUxZjIxMTdjNDdi2AIG4AIB%3Bsid%3Da8d69dac58d2b76c1d2bb743d5182840%3Btmpl%3Dsearchresults%3Bac_click_type%3Db%3Bac_position%3D0%3Bcity%3D-1423981%3Bclass_interval%3D1%3Bdest_id%3D-1407760%3Bdest_type%3Dcity%3Bdtdisc%3D0%3Bfrom_sf%3D1%3Bgroup_adults%3D2%3Bgroup_children%3D0%3Biata%3DNCY%3Binac%3D0%3Bindex_postcard%3D0%3Blabel_click%3Dundef%3Bno_rooms%3D1%3Boffset%3D0%3Bpostcard%3D0%3Braw_dest_type%3Dcity%3Broom1%3DA%252CA%3Bsb_price_type%3Dtotal%3Bsearch_selected%3D1%3Bshw_aparth%3D1%3Bslp_r_match%3D0%3Bsrc%3Dsearchresults%3Bsrc_elem%3Dsb%3Bsrpvid%3D3a96820d7681016d%3Bss%3DAnnecy%252C%2520Rh%25C3%25B4ne-Alpes%252C%2520France%3Bss_all%3D0%3Bss_raw%3DAnnecy%3Bssb%3Dempty%3Bsshis%3D0%3Bssne%3DDijon%3Bssne_untouched%3DDijon%3Btop_ufis%3D1%26%3B&ss=Grenoble%2C+Rh%C3%B4ne-Alpes%2C+France&is_ski_area=&ssne=Annecy&ssne_untouched=Annecy&city=-1407760&checkin_year=&checkin_month=&checkout_year=&checkout_month=&group_adults=2&group_children=0&no_rooms=1&from_sf=1&search_pageview_id=3a96820d7681016d&ac_suggestion_list_length=5&ac_suggestion_theme_list_length=0&ac_position=0&ac_langcode=fr&ac_click_type=b&dest_id=-1430647&dest_type=city&place_id_lat=45.192505&place_id_lon=5.724973&search_pageview_id=3a96820d7681016d&search_selected=true&ss_raw=Grenoble&nflt=ht_id%3D204',\n",
        "            'https://www.booking.com/searchresults.fr.html?label=gen173nr-1FCAEoggI46AdIM1gEaE2IAQGYAQ24AQfIAQzYAQHoAQH4AQuIAgGoAgO4Arm1mo0GwAIB0gIkZjE3NDZhZDItOTUyYS00NjljLWE5N2ItNzUxZjIxMTdjNDdi2AIG4AIB&sid=a8d69dac58d2b76c1d2bb743d5182840&aid=304142&src=searchresults&error_url=https%3A%2F%2Fwww.booking.com%2Fsearchresults.fr.html%3Faid%3D304142%3Blabel%3Dgen173nr-1FCAEoggI46AdIM1gEaE2IAQGYAQ24AQfIAQzYAQHoAQH4AQuIAgGoAgO4Arm1mo0GwAIB0gIkZjE3NDZhZDItOTUyYS00NjljLWE5N2ItNzUxZjIxMTdjNDdi2AIG4AIB%3Bsid%3Da8d69dac58d2b76c1d2bb743d5182840%3Btmpl%3Dsearchresults%3Bac_click_type%3Db%3Bac_position%3D0%3Bcity%3D-1407760%3Bclass_interval%3D1%3Bdest_id%3D-1430647%3Bdest_type%3Dcity%3Bdtdisc%3D0%3Bfrom_sf%3D1%3Bgroup_adults%3D2%3Bgroup_children%3D0%3Binac%3D0%3Bindex_postcard%3D0%3Blabel_click%3Dundef%3Bno_rooms%3D1%3Boffset%3D0%3Bpostcard%3D0%3Braw_dest_type%3Dcity%3Broom1%3DA%252CA%3Bsb_price_type%3Dtotal%3Bsearch_selected%3D1%3Bshw_aparth%3D1%3Bslp_r_match%3D0%3Bsrc%3Dsearchresults%3Bsrc_elem%3Dsb%3Bsrpvid%3Db13d821e522a01fd%3Bss%3DGrenoble%252C%2520Rh%25C3%25B4ne-Alpes%252C%2520France%3Bss_all%3D0%3Bss_raw%3DGrenoble%3Bssb%3Dempty%3Bsshis%3D0%3Bssne%3DAnnecy%3Bssne_untouched%3DAnnecy%3Btop_ufis%3D1%26%3B&ss=Lyon%2C+Rh%C3%B4ne-Alpes%2C+France&is_ski_area=&ssne=Grenoble&ssne_untouched=Grenoble&city=-1430647&checkin_year=&checkin_month=&checkout_year=&checkout_month=&group_adults=2&group_children=0&no_rooms=1&from_sf=1&search_pageview_id=b13d821e522a01fd&ac_suggestion_list_length=5&ac_suggestion_theme_list_length=0&ac_position=0&ac_langcode=fr&ac_click_type=b&dest_id=-1448468&dest_type=city&iata=LYS&place_id_lat=45.757767&place_id_lon=4.832204&search_pageview_id=b13d821e522a01fd&search_selected=true&ss_raw=Lyon&nflt=ht_id%3D204',\n",
        "            'https://www.booking.com/searchresults.fr.html?label=gen173nr-1FCAEoggI46AdIM1gEaE2IAQGYAQ24AQfIAQzYAQHoAQH4AQuIAgGoAgO4Arm1mo0GwAIB0gIkZjE3NDZhZDItOTUyYS00NjljLWE5N2ItNzUxZjIxMTdjNDdi2AIG4AIB&sid=a8d69dac58d2b76c1d2bb743d5182840&aid=304142&src=searchresults&error_url=https%3A%2F%2Fwww.booking.com%2Fsearchresults.fr.html%3Faid%3D304142%3Blabel%3Dgen173nr-1FCAEoggI46AdIM1gEaE2IAQGYAQ24AQfIAQzYAQHoAQH4AQuIAgGoAgO4Arm1mo0GwAIB0gIkZjE3NDZhZDItOTUyYS00NjljLWE5N2ItNzUxZjIxMTdjNDdi2AIG4AIB%3Bsid%3Da8d69dac58d2b76c1d2bb743d5182840%3Btmpl%3Dsearchresults%3Bac_click_type%3Db%3Bac_position%3D0%3Bcity%3D-1430647%3Bclass_interval%3D1%3Bdest_id%3D-1448468%3Bdest_type%3Dcity%3Bdtdisc%3D0%3Bfrom_sf%3D1%3Bgroup_adults%3D2%3Bgroup_children%3D0%3Biata%3DLYS%3Binac%3D0%3Bindex_postcard%3D0%3Blabel_click%3Dundef%3Bno_rooms%3D1%3Boffset%3D0%3Bpostcard%3D0%3Braw_dest_type%3Dcity%3Broom1%3DA%252CA%3Bsb_price_type%3Dtotal%3Bsearch_selected%3D1%3Bshw_aparth%3D1%3Bslp_r_match%3D0%3Bsrc%3Dsearchresults%3Bsrc_elem%3Dsb%3Bsrpvid%3D71a0822b130200f7%3Bss%3DLyon%252C%2520Rh%25C3%25B4ne-Alpes%252C%2520France%3Bss_all%3D0%3Bss_raw%3DLyon%3Bssb%3Dempty%3Bsshis%3D0%3Bssne%3DGrenoble%3Bssne_untouched%3DGrenoble%3Btop_ufis%3D1%26%3B&ss=Gorges+du+Verdon%2C+France&is_ski_area=&ssne=Lyon&ssne_untouched=Lyon&city=-1448468&checkin_year=&checkin_month=&checkout_year=&checkout_month=&group_adults=2&group_children=0&no_rooms=1&from_sf=1&ss_raw=Gorges+du+Verdon&ac_position=0&ac_langcode=fr&ac_click_type=b&dest_id=2746&dest_type=region&place_id_lat=43.78571&place_id_lon=6.127711&search_pageview_id=71a0822b130200f7&search_selected=true&search_pageview_id=71a0822b130200f7&ac_suggestion_list_length=5&ac_suggestion_theme_list_length=0&nflt=ht_id%3D204',\n",
        "            'https://www.booking.com/searchresults.fr.html?label=gen173nr-1FCAEoggI46AdIM1gEaE2IAQGYAQ24AQfIAQzYAQHoAQH4AQuIAgGoAgO4Arm1mo0GwAIB0gIkZjE3NDZhZDItOTUyYS00NjljLWE5N2ItNzUxZjIxMTdjNDdi2AIG4AIB&sid=a8d69dac58d2b76c1d2bb743d5182840&aid=304142&src=searchresults&error_url=https%3A%2F%2Fwww.booking.com%2Fsearchresults.fr.html%3Faid%3D304142%3Blabel%3Dgen173nr-1FCAEoggI46AdIM1gEaE2IAQGYAQ24AQfIAQzYAQHoAQH4AQuIAgGoAgO4Arm1mo0GwAIB0gIkZjE3NDZhZDItOTUyYS00NjljLWE5N2ItNzUxZjIxMTdjNDdi2AIG4AIB%3Bsid%3Da8d69dac58d2b76c1d2bb743d5182840%3Btmpl%3Dsearchresults%3Bac_click_type%3Db%3Bac_position%3D0%3Bcity%3D-1448468%3Bclass_interval%3D1%3Bdest_id%3D2746%3Bdest_type%3Dregion%3Bdtdisc%3D0%3Bfrom_sf%3D1%3Bgroup_adults%3D2%3Bgroup_children%3D0%3Binac%3D0%3Bindex_postcard%3D0%3Blabel_click%3Dundef%3Bno_rooms%3D1%3Boffset%3D0%3Bpostcard%3D0%3Braw_dest_type%3Dregion%3Broom1%3DA%252CA%3Bsb_price_type%3Dtotal%3Bsearch_selected%3D1%3Bshw_aparth%3D1%3Bslp_r_match%3D0%3Bsrc%3Dsearchresults%3Bsrc_elem%3Dsb%3Bsrpvid%3D65a68243dd260133%3Bss%3DGorges%2520du%2520Verdon%252C%2520France%3Bss_all%3D0%3Bss_raw%3DGorges%2520du%2520Verdon%3Bssb%3Dempty%3Bsshis%3D0%3Bssne%3DLyon%3Bssne_untouched%3DLyon%3Btop_ufis%3D1%26%3B&ss=Bormes-les-Mimosas%2C+Provence-Alpes-C%C3%B4te+d%27Azur%2C+France&is_ski_area=&ssne=Gorges+du+Verdon&ssne_untouched=Gorges+du+Verdon&checkin_year=&checkin_month=&checkout_year=&checkout_month=&group_adults=2&group_children=0&no_rooms=1&from_sf=1&search_pageview_id=65a68243dd260133&ac_suggestion_list_length=5&ac_suggestion_theme_list_length=0&ac_position=0&ac_langcode=fr&ac_click_type=b&dest_id=-1413801&dest_type=city&place_id_lat=43.1507&place_id_lon=6.34193&search_pageview_id=65a68243dd260133&search_selected=true&ss_raw=Bormes+les+Mimosas&nflt=ht_id%3D204',\n",
        "            'https://www.booking.com/searchresults.fr.html?label=gen173nr-1FCAEoggI46AdIM1gEaE2IAQGYAQ24AQfIAQzYAQHoAQH4AQuIAgGoAgO4Arm1mo0GwAIB0gIkZjE3NDZhZDItOTUyYS00NjljLWE5N2ItNzUxZjIxMTdjNDdi2AIG4AIB&sid=a8d69dac58d2b76c1d2bb743d5182840&aid=304142&src=searchresults&error_url=https%3A%2F%2Fwww.booking.com%2Fsearchresults.fr.html%3Faid%3D304142%3Blabel%3Dgen173nr-1FCAEoggI46AdIM1gEaE2IAQGYAQ24AQfIAQzYAQHoAQH4AQuIAgGoAgO4Arm1mo0GwAIB0gIkZjE3NDZhZDItOTUyYS00NjljLWE5N2ItNzUxZjIxMTdjNDdi2AIG4AIB%3Bsid%3Da8d69dac58d2b76c1d2bb743d5182840%3Btmpl%3Dsearchresults%3Bac_click_type%3Db%3Bac_position%3D0%3Bclass_interval%3D1%3Bdest_id%3D-1413801%3Bdest_type%3Dcity%3Bdtdisc%3D0%3Bfrom_sf%3D1%3Bgroup_adults%3D2%3Bgroup_children%3D0%3Binac%3D0%3Bindex_postcard%3D0%3Blabel_click%3Dundef%3Bno_rooms%3D1%3Boffset%3D0%3Bpostcard%3D0%3Braw_dest_type%3Dcity%3Broom1%3DA%252CA%3Bsb_price_type%3Dtotal%3Bsearch_selected%3D1%3Bshw_aparth%3D1%3Bslp_r_match%3D0%3Bsrc%3Dsearchresults%3Bsrc_elem%3Dsb%3Bsrpvid%3D359f8277033700cb%3Bss%3DBormes-les-Mimosas%252C%2520Provence-Alpes-C%25C3%25B4te%2520d%2527Azur%252C%2520France%3Bss_all%3D0%3Bss_raw%3DBormes%2520les%2520Mimosas%3Bssb%3Dempty%3Bsshis%3D0%3Bssne%3DGorges%2520du%2520Verdon%3Bssne_untouched%3DGorges%2520du%2520Verdon%3Btop_ufis%3D1%26%3B&ss=Cassis%2C+Provence-Alpes-C%C3%B4te+d%27Azur%2C+France&is_ski_area=&ssne=Bormes-les-Mimosas&ssne_untouched=Bormes-les-Mimosas&city=-1413801&checkin_year=&checkin_month=&checkout_year=&checkout_month=&group_adults=2&group_children=0&no_rooms=1&from_sf=1&search_pageview_id=359f8277033700cb&ac_suggestion_list_length=5&ac_suggestion_theme_list_length=0&ac_position=0&ac_langcode=fr&ac_click_type=b&dest_id=-1416912&dest_type=city&place_id_lat=43.21513&place_id_lon=5.53712&search_pageview_id=359f8277033700cb&search_selected=true&ss_raw=Cassis&nflt=ht_id%3D204',\n",
        "            'https://www.booking.com/searchresults.fr.html?label=gen173nr-1FCAEoggI46AdIM1gEaE2IAQGYAQ24AQfIAQzYAQHoAQH4AQuIAgGoAgO4Arm1mo0GwAIB0gIkZjE3NDZhZDItOTUyYS00NjljLWE5N2ItNzUxZjIxMTdjNDdi2AIG4AIB&sid=a8d69dac58d2b76c1d2bb743d5182840&aid=304142&src=searchresults&error_url=https%3A%2F%2Fwww.booking.com%2Fsearchresults.fr.html%3Faid%3D304142%3Blabel%3Dgen173nr-1FCAEoggI46AdIM1gEaE2IAQGYAQ24AQfIAQzYAQHoAQH4AQuIAgGoAgO4Arm1mo0GwAIB0gIkZjE3NDZhZDItOTUyYS00NjljLWE5N2ItNzUxZjIxMTdjNDdi2AIG4AIB%3Bsid%3Da8d69dac58d2b76c1d2bb743d5182840%3Btmpl%3Dsearchresults%3Bac_click_type%3Db%3Bac_position%3D0%3Bcity%3D-1413801%3Bclass_interval%3D1%3Bdest_id%3D-1416912%3Bdest_type%3Dcity%3Bdtdisc%3D0%3Bfrom_sf%3D1%3Bgroup_adults%3D2%3Bgroup_children%3D0%3Binac%3D0%3Bindex_postcard%3D0%3Blabel_click%3Dundef%3Bno_rooms%3D1%3Boffset%3D0%3Bpostcard%3D0%3Braw_dest_type%3Dcity%3Broom1%3DA%252CA%3Bsb_price_type%3Dtotal%3Bsearch_selected%3D1%3Bshw_aparth%3D1%3Bslp_r_match%3D0%3Bsrc%3Dsearchresults%3Bsrc_elem%3Dsb%3Bsrpvid%3D65e58297e63e0056%3Bss%3DCassis%252C%2520Provence-Alpes-C%25C3%25B4te%2520d%2527Azur%252C%2520France%3Bss_all%3D0%3Bss_raw%3DCassis%3Bssb%3Dempty%3Bsshis%3D0%3Bssne%3DBormes-les-Mimosas%3Bssne_untouched%3DBormes-les-Mimosas%3Btop_ufis%3D1%26%3B&ss=Marseille%2C+Provence-Alpes-C%C3%B4te+d%27Azur%2C+France&is_ski_area=&ssne=Cassis&ssne_untouched=Cassis&city=-1416912&checkin_year=&checkin_month=&checkout_year=&checkout_month=&group_adults=2&group_children=0&no_rooms=1&from_sf=1&ss_raw=Marseille&ac_position=0&ac_langcode=fr&ac_click_type=b&dest_id=-1449947&dest_type=city&iata=MRS&place_id_lat=43.2983&place_id_lon=5.37798&search_pageview_id=65e58297e63e0056&search_selected=true&search_pageview_id=65e58297e63e0056&ac_suggestion_list_length=5&ac_suggestion_theme_list_length=0&nflt=ht_id%3D204',\n",
        "            'https://www.booking.com/searchresults.fr.html?label=gen173nr-1FCAEoggI46AdIM1gEaE2IAQGYAQ24AQfIAQzYAQHoAQH4AQuIAgGoAgO4Arm1mo0GwAIB0gIkZjE3NDZhZDItOTUyYS00NjljLWE5N2ItNzUxZjIxMTdjNDdi2AIG4AIB&sid=a8d69dac58d2b76c1d2bb743d5182840&aid=304142&src=searchresults&error_url=https%3A%2F%2Fwww.booking.com%2Fsearchresults.fr.html%3Faid%3D304142%3Blabel%3Dgen173nr-1FCAEoggI46AdIM1gEaE2IAQGYAQ24AQfIAQzYAQHoAQH4AQuIAgGoAgO4Arm1mo0GwAIB0gIkZjE3NDZhZDItOTUyYS00NjljLWE5N2ItNzUxZjIxMTdjNDdi2AIG4AIB%3Bsid%3Da8d69dac58d2b76c1d2bb743d5182840%3Btmpl%3Dsearchresults%3Bac_click_type%3Db%3Bac_position%3D0%3Bcity%3D-1416912%3Bclass_interval%3D1%3Bdest_id%3D-1449947%3Bdest_type%3Dcity%3Bdtdisc%3D0%3Bfrom_sf%3D1%3Bgroup_adults%3D2%3Bgroup_children%3D0%3Biata%3DMRS%3Binac%3D0%3Bindex_postcard%3D0%3Blabel_click%3Dundef%3Bno_rooms%3D1%3Boffset%3D0%3Bpostcard%3D0%3Braw_dest_type%3Dcity%3Broom1%3DA%252CA%3Bsb_price_type%3Dtotal%3Bsearch_selected%3D1%3Bshw_aparth%3D1%3Bslp_r_match%3D0%3Bsrc%3Dsearchresults%3Bsrc_elem%3Dsb%3Bsrpvid%3D1f2d82a4c76b01df%3Bss%3DMarseille%252C%2520Provence-Alpes-C%25C3%25B4te%2520d%2527Azur%252C%2520France%3Bss_all%3D0%3Bss_raw%3DMarseille%3Bssb%3Dempty%3Bsshis%3D0%3Bssne%3DCassis%3Bssne_untouched%3DCassis%3Btop_ufis%3D1%26%3B&ss=Aix-en-Provence%2C+Provence-Alpes-C%C3%B4te+d%27Azur%2C+France&is_ski_area=&ssne=Marseille&ssne_untouched=Marseille&city=-1449947&checkin_year=&checkin_month=&checkout_year=&checkout_month=&group_adults=2&group_children=0&no_rooms=1&from_sf=1&ss_raw=Aix+en+Provence&ac_position=0&ac_langcode=fr&ac_click_type=b&dest_id=-1406939&dest_type=city&place_id_lat=43.526314&place_id_lon=5.445464&search_pageview_id=1f2d82a4c76b01df&search_selected=true&search_pageview_id=1f2d82a4c76b01df&ac_suggestion_list_length=5&ac_suggestion_theme_list_length=0&nflt=ht_id%3D204',\n",
        "            'https://www.booking.com/searchresults.fr.html?label=gen173nr-1FCAEoggI46AdIM1gEaE2IAQGYAQ24AQfIAQzYAQHoAQH4AQuIAgGoAgO4Arm1mo0GwAIB0gIkZjE3NDZhZDItOTUyYS00NjljLWE5N2ItNzUxZjIxMTdjNDdi2AIG4AIB&sid=a8d69dac58d2b76c1d2bb743d5182840&aid=304142&src=searchresults&error_url=https%3A%2F%2Fwww.booking.com%2Fsearchresults.fr.html%3Faid%3D304142%3Blabel%3Dgen173nr-1FCAEoggI46AdIM1gEaE2IAQGYAQ24AQfIAQzYAQHoAQH4AQuIAgGoAgO4Arm1mo0GwAIB0gIkZjE3NDZhZDItOTUyYS00NjljLWE5N2ItNzUxZjIxMTdjNDdi2AIG4AIB%3Bsid%3Da8d69dac58d2b76c1d2bb743d5182840%3Btmpl%3Dsearchresults%3Bac_click_type%3Db%3Bac_position%3D0%3Bcity%3D-1449947%3Bclass_interval%3D1%3Bdest_id%3D-1406939%3Bdest_type%3Dcity%3Bdtdisc%3D0%3Bfrom_sf%3D1%3Bgroup_adults%3D2%3Bgroup_children%3D0%3Binac%3D0%3Bindex_postcard%3D0%3Blabel_click%3Dundef%3Bno_rooms%3D1%3Boffset%3D0%3Bpostcard%3D0%3Braw_dest_type%3Dcity%3Broom1%3DA%252CA%3Bsb_price_type%3Dtotal%3Bsearch_selected%3D1%3Bshw_aparth%3D1%3Bslp_r_match%3D0%3Bsrc%3Dsearchresults%3Bsrc_elem%3Dsb%3Bsrpvid%3D18b182ba2a9f0111%3Bss%3DAix-en-Provence%252C%2520Provence-Alpes-C%25C3%25B4te%2520d%2527Azur%252C%2520France%3Bss_all%3D0%3Bss_raw%3DAix%2520en%2520Provence%3Bssb%3Dempty%3Bsshis%3D0%3Bssne%3DMarseille%3Bssne_untouched%3DMarseille%3Btop_ufis%3D1%26%3B&ss=Avignon%2C+Provence-Alpes-C%C3%B4te+d%27Azur%2C+France&is_ski_area=&ssne=Aix-en-Provence&ssne_untouched=Aix-en-Provence&city=-1406939&checkin_year=&checkin_month=&checkout_year=&checkout_month=&group_adults=2&group_children=0&no_rooms=1&from_sf=1&search_pageview_id=18b182ba2a9f0111&ac_suggestion_list_length=5&ac_suggestion_theme_list_length=0&ac_position=0&ac_langcode=fr&ac_click_type=b&dest_id=-1409631&dest_type=city&iata=AVN&place_id_lat=43.949&place_id_lon=4.807508&search_pageview_id=18b182ba2a9f0111&search_selected=true&ss_raw=Avignon&nflt=ht_id%3D204',\n",
        "            'https://www.booking.com/searchresults.fr.html?label=gen173nr-1FCAEoggI46AdIM1gEaE2IAQGYAQ24AQfIAQzYAQHoAQH4AQuIAgGoAgO4Arm1mo0GwAIB0gIkZjE3NDZhZDItOTUyYS00NjljLWE5N2ItNzUxZjIxMTdjNDdi2AIG4AIB&sid=a8d69dac58d2b76c1d2bb743d5182840&aid=304142&src=searchresults&error_url=https%3A%2F%2Fwww.booking.com%2Fsearchresults.fr.html%3Faid%3D304142%3Blabel%3Dgen173nr-1FCAEoggI46AdIM1gEaE2IAQGYAQ24AQfIAQzYAQHoAQH4AQuIAgGoAgO4Arm1mo0GwAIB0gIkZjE3NDZhZDItOTUyYS00NjljLWE5N2ItNzUxZjIxMTdjNDdi2AIG4AIB%3Bsid%3Da8d69dac58d2b76c1d2bb743d5182840%3Btmpl%3Dsearchresults%3Bac_click_type%3Db%3Bac_position%3D0%3Bcity%3D-1406939%3Bclass_interval%3D1%3Bdest_id%3D-1409631%3Bdest_type%3Dcity%3Bdtdisc%3D0%3Bfrom_sf%3D1%3Bgroup_adults%3D2%3Bgroup_children%3D0%3Biata%3DAVN%3Binac%3D0%3Bindex_postcard%3D0%3Blabel_click%3Dundef%3Bno_rooms%3D1%3Boffset%3D0%3Bpostcard%3D0%3Braw_dest_type%3Dcity%3Broom1%3DA%252CA%3Bsb_price_type%3Dtotal%3Bsearch_selected%3D1%3Bshw_aparth%3D1%3Bslp_r_match%3D0%3Bsrc%3Dsearchresults%3Bsrc_elem%3Dsb%3Bsrpvid%3Deb1c82c6d060014c%3Bss%3DAvignon%252C%2520Provence-Alpes-C%25C3%25B4te%2520d%2527Azur%252C%2520France%3Bss_all%3D0%3Bss_raw%3DAvignon%3Bssb%3Dempty%3Bsshis%3D0%3Bssne%3DAix-en-Provence%3Bssne_untouched%3DAix-en-Provence%3Btop_ufis%3D1%26%3B&ss=Uz%C3%A8s%2C+Languedoc-Roussillon%2C+France&is_ski_area=&ssne=Avignon&ssne_untouched=Avignon&city=-1409631&checkin_year=&checkin_month=&checkout_year=&checkout_month=&group_adults=2&group_children=0&no_rooms=1&from_sf=1&search_pageview_id=eb1c82c6d060014c&ac_suggestion_list_length=5&ac_suggestion_theme_list_length=0&ac_position=0&ac_langcode=fr&ac_click_type=b&dest_id=-1474231&dest_type=city&place_id_lat=44.01217&place_id_lon=4.41967&search_pageview_id=eb1c82c6d060014c&search_selected=true&ss_raw=Uzes&nflt=ht_id%3D204',\n",
        "            'https://www.booking.com/searchresults.fr.html?label=gen173nr-1FCAEoggI46AdIM1gEaE2IAQGYAQ24AQfIAQzYAQHoAQH4AQuIAgGoAgO4Arm1mo0GwAIB0gIkZjE3NDZhZDItOTUyYS00NjljLWE5N2ItNzUxZjIxMTdjNDdi2AIG4AIB&sid=a8d69dac58d2b76c1d2bb743d5182840&aid=304142&src=searchresults&error_url=https%3A%2F%2Fwww.booking.com%2Fsearchresults.fr.html%3Faid%3D304142%3Blabel%3Dgen173nr-1FCAEoggI46AdIM1gEaE2IAQGYAQ24AQfIAQzYAQHoAQH4AQuIAgGoAgO4Arm1mo0GwAIB0gIkZjE3NDZhZDItOTUyYS00NjljLWE5N2ItNzUxZjIxMTdjNDdi2AIG4AIB%3Bsid%3Da8d69dac58d2b76c1d2bb743d5182840%3Btmpl%3Dsearchresults%3Bac_click_type%3Db%3Bac_position%3D0%3Bcity%3D-1409631%3Bclass_interval%3D1%3Bdest_id%3D-1474231%3Bdest_type%3Dcity%3Bdtdisc%3D0%3Bfrom_sf%3D1%3Bgroup_adults%3D2%3Bgroup_children%3D0%3Binac%3D0%3Bindex_postcard%3D0%3Blabel_click%3Dundef%3Bno_rooms%3D1%3Boffset%3D0%3Bpostcard%3D0%3Braw_dest_type%3Dcity%3Broom1%3DA%252CA%3Bsb_price_type%3Dtotal%3Bsearch_selected%3D1%3Bshw_aparth%3D1%3Bslp_r_match%3D0%3Bsrc%3Dsearchresults%3Bsrc_elem%3Dsb%3Bsrpvid%3D3c9282d968fe002b%3Bss%3DUz%25C3%25A8s%252C%2520Languedoc-Roussillon%252C%2520France%3Bss_all%3D0%3Bss_raw%3DUzes%3Bssb%3Dempty%3Bsshis%3D0%3Bssne%3DAvignon%3Bssne_untouched%3DAvignon%3Btop_ufis%3D1%26%3B&ss=N%C3%AEmes%2C+Languedoc-Roussillon%2C+France&is_ski_area=&ssne=Uz%C3%A8s&ssne_untouched=Uz%C3%A8s&city=-1474231&checkin_year=&checkin_month=&checkout_year=&checkout_month=&group_adults=2&group_children=0&no_rooms=1&from_sf=1&search_pageview_id=3c9282d968fe002b&ac_suggestion_list_length=5&ac_suggestion_theme_list_length=0&ac_position=0&ac_langcode=fr&ac_click_type=b&dest_id=-1455068&dest_type=city&iata=FNI&place_id_lat=43.83742&place_id_lon=4.36007&search_pageview_id=3c9282d968fe002b&search_selected=true&ss_raw=Nimes&nflt=ht_id%3D204',\n",
        "            'https://www.booking.com/searchresults.fr.html?label=gen173nr-1FCAEoggI46AdIM1gEaE2IAQGYAQ24AQfIAQzYAQHoAQH4AQuIAgGoAgO4Arm1mo0GwAIB0gIkZjE3NDZhZDItOTUyYS00NjljLWE5N2ItNzUxZjIxMTdjNDdi2AIG4AIB&sid=a8d69dac58d2b76c1d2bb743d5182840&aid=304142&src=searchresults&error_url=https%3A%2F%2Fwww.booking.com%2Fsearchresults.fr.html%3Faid%3D304142%3Blabel%3Dgen173nr-1FCAEoggI46AdIM1gEaE2IAQGYAQ24AQfIAQzYAQHoAQH4AQuIAgGoAgO4Arm1mo0GwAIB0gIkZjE3NDZhZDItOTUyYS00NjljLWE5N2ItNzUxZjIxMTdjNDdi2AIG4AIB%3Bsid%3Da8d69dac58d2b76c1d2bb743d5182840%3Btmpl%3Dsearchresults%3Bac_click_type%3Db%3Bac_position%3D0%3Bcity%3D-1474231%3Bclass_interval%3D1%3Bdest_id%3D-1455068%3Bdest_type%3Dcity%3Bdtdisc%3D0%3Bfrom_sf%3D1%3Bgroup_adults%3D2%3Bgroup_children%3D0%3Biata%3DFNI%3Binac%3D0%3Bindex_postcard%3D0%3Blabel_click%3Dundef%3Bno_rooms%3D1%3Boffset%3D0%3Bpostcard%3D0%3Braw_dest_type%3Dcity%3Broom1%3DA%252CA%3Bsb_price_type%3Dtotal%3Bsearch_selected%3D1%3Bshw_aparth%3D1%3Bslp_r_match%3D0%3Bsrc%3Dsearchresults%3Bsrc_elem%3Dsb%3Bsrpvid%3Daf0c82e7fdec019d%3Bss%3DN%25C3%25AEmes%252C%2520Languedoc-Roussillon%252C%2520France%3Bss_all%3D0%3Bss_raw%3DNimes%3Bssb%3Dempty%3Bsshis%3D0%3Bssne%3DUz%25C3%25A8s%3Bssne_untouched%3DUz%25C3%25A8s%3Btop_ufis%3D1%26%3B&ss=Aigues-Mortes%2C+Languedoc-Roussillon%2C+France&is_ski_area=&ssne=N%C3%AEmes&ssne_untouched=N%C3%AEmes&city=-1455068&checkin_year=&checkin_month=&checkout_year=&checkout_month=&group_adults=2&group_children=0&no_rooms=1&from_sf=1&search_pageview_id=af0c82e7fdec019d&ac_suggestion_list_length=5&ac_suggestion_theme_list_length=0&ac_position=0&ac_langcode=fr&ac_click_type=b&dest_id=-1406800&dest_type=city&place_id_lat=43.566887&place_id_lon=4.190193&search_pageview_id=af0c82e7fdec019d&search_selected=true&ss_raw=Aigues+Mortes&nflt=ht_id%3D204',\n",
        "            'https://www.booking.com/searchresults.fr.html?label=gen173nr-1FCAEoggI46AdIM1gEaE2IAQGYAQ24AQfIAQzYAQHoAQH4AQuIAgGoAgO4Arm1mo0GwAIB0gIkZjE3NDZhZDItOTUyYS00NjljLWE5N2ItNzUxZjIxMTdjNDdi2AIG4AIB&sid=a8d69dac58d2b76c1d2bb743d5182840&aid=304142&src=searchresults&error_url=https%3A%2F%2Fwww.booking.com%2Fsearchresults.fr.html%3Faid%3D304142%3Blabel%3Dgen173nr-1FCAEoggI46AdIM1gEaE2IAQGYAQ24AQfIAQzYAQHoAQH4AQuIAgGoAgO4Arm1mo0GwAIB0gIkZjE3NDZhZDItOTUyYS00NjljLWE5N2ItNzUxZjIxMTdjNDdi2AIG4AIB%3Bsid%3Da8d69dac58d2b76c1d2bb743d5182840%3Btmpl%3Dsearchresults%3Bac_click_type%3Db%3Bac_position%3D0%3Bcity%3D-1455068%3Bclass_interval%3D1%3Bdest_id%3D-1406800%3Bdest_type%3Dcity%3Bdtdisc%3D0%3Bfrom_sf%3D1%3Bgroup_adults%3D2%3Bgroup_children%3D0%3Binac%3D0%3Bindex_postcard%3D0%3Blabel_click%3Dundef%3Bno_rooms%3D1%3Boffset%3D0%3Bpostcard%3D0%3Braw_dest_type%3Dcity%3Broom1%3DA%252CA%3Bsb_price_type%3Dtotal%3Bsearch_selected%3D1%3Bshw_aparth%3D1%3Bslp_r_match%3D0%3Bsrc%3Dsearchresults%3Bsrc_elem%3Dsb%3Bsrpvid%3Dd16682fbc3b10014%3Bss%3DAigues-Mortes%252C%2520Languedoc-Roussillon%252C%2520France%3Bss_all%3D0%3Bss_raw%3DAigues%2520Mortes%3Bssb%3Dempty%3Bsshis%3D0%3Bssne%3DN%25C3%25AEmes%3Bssne_untouched%3DN%25C3%25AEmes%3Btop_ufis%3D1%26%3B&ss=Les+Saintes-Maries-de-la-Mer%2C+Provence-Alpes-C%C3%B4te+d%27Azur%2C+France&is_ski_area=&ssne=Aigues-Mortes&ssne_untouched=Aigues-Mortes&city=-1406800&checkin_year=&checkin_month=&checkout_year=&checkout_month=&group_adults=2&group_children=0&no_rooms=1&from_sf=1&search_pageview_id=d16682fbc3b10014&ac_suggestion_list_length=5&ac_suggestion_theme_list_length=0&ac_position=0&ac_langcode=fr&ac_click_type=b&dest_id=-1465138&dest_type=city&place_id_lat=43.45233&place_id_lon=4.42871&search_pageview_id=d16682fbc3b10014&search_selected=true&ss_raw=Saintes+Maries+de+la+mer&nflt=ht_id%3D204',\n",
        "            'https://www.booking.com/searchresults.fr.html?label=gen173nr-1FCAEoggI46AdIM1gEaE2IAQGYAQ24AQfIAQzYAQHoAQH4AQuIAgGoAgO4Arm1mo0GwAIB0gIkZjE3NDZhZDItOTUyYS00NjljLWE5N2ItNzUxZjIxMTdjNDdi2AIG4AIB&sid=a8d69dac58d2b76c1d2bb743d5182840&aid=304142&src=searchresults&error_url=https%3A%2F%2Fwww.booking.com%2Fsearchresults.fr.html%3Faid%3D304142%3Blabel%3Dgen173nr-1FCAEoggI46AdIM1gEaE2IAQGYAQ24AQfIAQzYAQHoAQH4AQuIAgGoAgO4Arm1mo0GwAIB0gIkZjE3NDZhZDItOTUyYS00NjljLWE5N2ItNzUxZjIxMTdjNDdi2AIG4AIB%3Bsid%3Da8d69dac58d2b76c1d2bb743d5182840%3Btmpl%3Dsearchresults%3Bac_click_type%3Db%3Bac_position%3D0%3Bcity%3D-1406800%3Bclass_interval%3D1%3Bdest_id%3D-1465138%3Bdest_type%3Dcity%3Bdtdisc%3D0%3Bfrom_sf%3D1%3Bgroup_adults%3D2%3Bgroup_children%3D0%3Binac%3D0%3Bindex_postcard%3D0%3Blabel_click%3Dundef%3Bno_rooms%3D1%3Boffset%3D0%3Bpostcard%3D0%3Braw_dest_type%3Dcity%3Broom1%3DA%252CA%3Bsb_price_type%3Dtotal%3Bsearch_selected%3D1%3Bshw_aparth%3D1%3Bslp_r_match%3D0%3Bsrc%3Dsearchresults%3Bsrc_elem%3Dsb%3Bsrpvid%3D9d91830a74190103%3Bss%3DLes%2520Saintes-Maries-de-la-Mer%252C%2520Provence-Alpes-C%25C3%25B4te%2520d%2527Azur%252C%2520France%3Bss_all%3D0%3Bss_raw%3DSaintes%2520Maries%2520de%2520la%2520mer%3Bssb%3Dempty%3Bsshis%3D0%3Bssne%3DAigues-Mortes%3Bssne_untouched%3DAigues-Mortes%3Btop_ufis%3D1%26%3B&ss=Collioure%2C+Languedoc-Roussillon%2C+France&is_ski_area=&ssne=Les+Saintes-Maries-de-la-Mer&ssne_untouched=Les+Saintes-Maries-de-la-Mer&city=-1465138&checkin_year=&checkin_month=&checkout_year=&checkout_month=&group_adults=2&group_children=0&no_rooms=1&from_sf=1&search_pageview_id=9d91830a74190103&ac_suggestion_list_length=5&ac_suggestion_theme_list_length=0&ac_position=0&ac_langcode=fr&ac_click_type=b&dest_id=-1421032&dest_type=city&place_id_lat=42.52453&place_id_lon=3.082255&search_pageview_id=9d91830a74190103&search_selected=true&ss_raw=Collioure&nflt=ht_id%3D204',\n",
        "            'https://www.booking.com/searchresults.fr.html?label=gen173nr-1FCAEoggI46AdIM1gEaE2IAQGYAQ24AQfIAQzYAQHoAQH4AQuIAgGoAgO4Arm1mo0GwAIB0gIkZjE3NDZhZDItOTUyYS00NjljLWE5N2ItNzUxZjIxMTdjNDdi2AIG4AIB&sid=a8d69dac58d2b76c1d2bb743d5182840&aid=304142&src=searchresults&error_url=https%3A%2F%2Fwww.booking.com%2Fsearchresults.fr.html%3Faid%3D304142%3Blabel%3Dgen173nr-1FCAEoggI46AdIM1gEaE2IAQGYAQ24AQfIAQzYAQHoAQH4AQuIAgGoAgO4Arm1mo0GwAIB0gIkZjE3NDZhZDItOTUyYS00NjljLWE5N2ItNzUxZjIxMTdjNDdi2AIG4AIB%3Bsid%3Da8d69dac58d2b76c1d2bb743d5182840%3Btmpl%3Dsearchresults%3Bac_click_type%3Db%3Bac_position%3D0%3Bcity%3D-1465138%3Bclass_interval%3D1%3Bdest_id%3D-1421032%3Bdest_type%3Dcity%3Bdtdisc%3D0%3Bfrom_sf%3D1%3Bgroup_adults%3D2%3Bgroup_children%3D0%3Binac%3D0%3Bindex_postcard%3D0%3Blabel_click%3Dundef%3Bno_rooms%3D1%3Boffset%3D0%3Bpostcard%3D0%3Braw_dest_type%3Dcity%3Broom1%3DA%252CA%3Bsb_price_type%3Dtotal%3Bsearch_selected%3D1%3Bshw_aparth%3D1%3Bslp_r_match%3D0%3Bsrc%3Dsearchresults%3Bsrc_elem%3Dsb%3Bsrpvid%3D5c798315651700c3%3Bss%3DCollioure%252C%2520Languedoc-Roussillon%252C%2520France%3Bss_all%3D0%3Bss_raw%3DCollioure%3Bssb%3Dempty%3Bsshis%3D0%3Bssne%3DLes%2520Saintes-Maries-de-la-Mer%3Bssne_untouched%3DLes%2520Saintes-Maries-de-la-Mer%3Btop_ufis%3D1%26%3B&ss=Carcassonne%2C+Languedoc-Roussillon%2C+France&is_ski_area=&ssne=Collioure&ssne_untouched=Collioure&city=-1421032&checkin_year=&checkin_month=&checkout_year=&checkout_month=&group_adults=2&group_children=0&no_rooms=1&from_sf=1&search_pageview_id=5c798315651700c3&ac_suggestion_list_length=5&ac_suggestion_theme_list_length=0&ac_position=0&ac_langcode=fr&ac_click_type=b&dest_id=-1416701&dest_type=city&iata=CCF&place_id_lat=43.21304&place_id_lon=2.34911&search_pageview_id=5c798315651700c3&search_selected=true&ss_raw=Carcassonne&nflt=ht_id%3D204',\n",
        "            'https://www.booking.com/searchresults.fr.html?label=gen173nr-1FCAEoggI46AdIM1gEaE2IAQGYAQ24AQfIAQzYAQHoAQH4AQuIAgGoAgO4Arm1mo0GwAIB0gIkZjE3NDZhZDItOTUyYS00NjljLWE5N2ItNzUxZjIxMTdjNDdi2AIG4AIB&sid=a8d69dac58d2b76c1d2bb743d5182840&aid=304142&src=searchresults&error_url=https%3A%2F%2Fwww.booking.com%2Fsearchresults.fr.html%3Faid%3D304142%3Blabel%3Dgen173nr-1FCAEoggI46AdIM1gEaE2IAQGYAQ24AQfIAQzYAQHoAQH4AQuIAgGoAgO4Arm1mo0GwAIB0gIkZjE3NDZhZDItOTUyYS00NjljLWE5N2ItNzUxZjIxMTdjNDdi2AIG4AIB%3Bsid%3Da8d69dac58d2b76c1d2bb743d5182840%3Btmpl%3Dsearchresults%3Bac_click_type%3Db%3Bac_position%3D0%3Bcity%3D-1421032%3Bclass_interval%3D1%3Bdest_id%3D-1416701%3Bdest_type%3Dcity%3Bdtdisc%3D0%3Bfrom_sf%3D1%3Bgroup_adults%3D2%3Bgroup_children%3D0%3Biata%3DCCF%3Binac%3D0%3Bindex_postcard%3D0%3Blabel_click%3Dundef%3Bno_rooms%3D1%3Boffset%3D0%3Bpostcard%3D0%3Braw_dest_type%3Dcity%3Broom1%3DA%252CA%3Bsb_price_type%3Dtotal%3Bsearch_selected%3D1%3Bshw_aparth%3D1%3Bslp_r_match%3D0%3Bsrc%3Dsearchresults%3Bsrc_elem%3Dsb%3Bsrpvid%3Db12b8324d8fb009a%3Bss%3DCarcassonne%252C%2520Languedoc-Roussillon%252C%2520France%3Bss_all%3D0%3Bss_raw%3DCarcassonne%3Bssb%3Dempty%3Bsshis%3D0%3Bssne%3DCollioure%3Bssne_untouched%3DCollioure%3Btop_ufis%3D1%26%3B&ss=Ari%C3%A8ge%2C+France&is_ski_area=&ssne=Carcassonne&ssne_untouched=Carcassonne&city=-1416701&checkin_year=&checkin_month=&checkout_year=&checkout_month=&group_adults=2&group_children=0&no_rooms=1&from_sf=1&search_pageview_id=b12b8324d8fb009a&ac_suggestion_list_length=5&ac_suggestion_theme_list_length=0&ac_position=0&ac_langcode=fr&ac_click_type=b&dest_id=2507&dest_type=region&place_id_lat=42.89857&place_id_lon=1.612595&search_pageview_id=b12b8324d8fb009a&search_selected=true&ss_raw=Ariege&nflt=ht_id%3D204',\n",
        "            'https://www.booking.com/searchresults.fr.html?label=gen173nr-1FCAEoggI46AdIM1gEaE2IAQGYAQ24AQfIAQzYAQHoAQH4AQuIAgGoAgO4Arm1mo0GwAIB0gIkZjE3NDZhZDItOTUyYS00NjljLWE5N2ItNzUxZjIxMTdjNDdi2AIG4AIB&sid=a8d69dac58d2b76c1d2bb743d5182840&aid=304142&src=searchresults&error_url=https%3A%2F%2Fwww.booking.com%2Fsearchresults.fr.html%3Faid%3D304142%3Blabel%3Dgen173nr-1FCAEoggI46AdIM1gEaE2IAQGYAQ24AQfIAQzYAQHoAQH4AQuIAgGoAgO4Arm1mo0GwAIB0gIkZjE3NDZhZDItOTUyYS00NjljLWE5N2ItNzUxZjIxMTdjNDdi2AIG4AIB%3Bsid%3Da8d69dac58d2b76c1d2bb743d5182840%3Btmpl%3Dsearchresults%3Bac_click_type%3Db%3Bac_position%3D0%3Bcity%3D-1416701%3Bclass_interval%3D1%3Bdest_id%3D2507%3Bdest_type%3Dregion%3Bdtdisc%3D0%3Bfrom_sf%3D1%3Bgroup_adults%3D2%3Bgroup_children%3D0%3Binac%3D0%3Bindex_postcard%3D0%3Blabel_click%3Dundef%3Bno_rooms%3D1%3Boffset%3D0%3Bpostcard%3D0%3Braw_dest_type%3Dregion%3Broom1%3DA%252CA%3Bsb_price_type%3Dtotal%3Bsearch_selected%3D1%3Bshw_aparth%3D1%3Bslp_r_match%3D0%3Bsrc%3Dsearchresults%3Bsrc_elem%3Dsb%3Bsrpvid%3D8e3d8331e7670002%3Bss%3DAri%25C3%25A8ge%252C%2520France%3Bss_all%3D0%3Bss_raw%3DAriege%3Bssb%3Dempty%3Bsshis%3D0%3Bssne%3DCarcassonne%3Bssne_untouched%3DCarcassonne%3Btop_ufis%3D1%26%3B&ss=Toulouse%2C+Midi-Pyr%C3%A9n%C3%A9es%2C+France&is_ski_area=&ssne=Ari%C3%A8ge&ssne_untouched=Ari%C3%A8ge&checkin_year=&checkin_month=&checkout_year=&checkout_month=&group_adults=2&group_children=0&no_rooms=1&from_sf=1&search_pageview_id=8e3d8331e7670002&ac_suggestion_list_length=5&ac_suggestion_theme_list_length=0&ac_position=0&ac_langcode=fr&ac_click_type=b&dest_id=-1473166&dest_type=city&iata=TLS&place_id_lat=43.604645&place_id_lon=1.444213&search_pageview_id=8e3d8331e7670002&search_selected=true&ss_raw=Toulouse&nflt=ht_id%3D204',\n",
        "            'https://www.booking.com/searchresults.fr.html?label=gen173nr-1FCAEoggI46AdIM1gEaE2IAQGYAQ24AQfIAQzYAQHoAQH4AQuIAgGoAgO4Arm1mo0GwAIB0gIkZjE3NDZhZDItOTUyYS00NjljLWE5N2ItNzUxZjIxMTdjNDdi2AIG4AIB&sid=a8d69dac58d2b76c1d2bb743d5182840&aid=304142&src=searchresults&error_url=https%3A%2F%2Fwww.booking.com%2Fsearchresults.fr.html%3Faid%3D304142%3Blabel%3Dgen173nr-1FCAEoggI46AdIM1gEaE2IAQGYAQ24AQfIAQzYAQHoAQH4AQuIAgGoAgO4Arm1mo0GwAIB0gIkZjE3NDZhZDItOTUyYS00NjljLWE5N2ItNzUxZjIxMTdjNDdi2AIG4AIB%3Bsid%3Da8d69dac58d2b76c1d2bb743d5182840%3Btmpl%3Dsearchresults%3Bac_click_type%3Db%3Bac_position%3D0%3Bclass_interval%3D1%3Bdest_id%3D-1473166%3Bdest_type%3Dcity%3Bdtdisc%3D0%3Bfrom_sf%3D1%3Bgroup_adults%3D2%3Bgroup_children%3D0%3Biata%3DTLS%3Binac%3D0%3Bindex_postcard%3D0%3Blabel_click%3Dundef%3Bno_rooms%3D1%3Boffset%3D0%3Bpostcard%3D0%3Braw_dest_type%3Dcity%3Broom1%3DA%252CA%3Bsb_price_type%3Dtotal%3Bsearch_selected%3D1%3Bshw_aparth%3D1%3Bslp_r_match%3D0%3Bsrc%3Dsearchresults%3Bsrc_elem%3Dsb%3Bsrpvid%3D45f8833e955e00be%3Bss%3DToulouse%252C%2520Midi-Pyr%25C3%25A9n%25C3%25A9es%252C%2520France%3Bss_all%3D0%3Bss_raw%3DToulouse%3Bssb%3Dempty%3Bsshis%3D0%3Bssne%3DAri%25C3%25A8ge%3Bssne_untouched%3DAri%25C3%25A8ge%3Btop_ufis%3D1%26%3B&ss=Montauban%2C+Midi-Pyr%C3%A9n%C3%A9es%2C+France&is_ski_area=&ssne=Toulouse&ssne_untouched=Toulouse&city=-1473166&checkin_year=&checkin_month=&checkout_year=&checkout_month=&group_adults=2&group_children=0&no_rooms=1&from_sf=1&search_pageview_id=45f8833e955e00be&ac_suggestion_list_length=5&ac_suggestion_theme_list_length=0&ac_position=0&ac_langcode=fr&ac_click_type=b&dest_id=-1452421&dest_type=city&place_id_lat=44.01758&place_id_lon=1.355&search_pageview_id=45f8833e955e00be&search_selected=true&ss_raw=Montauban&nflt=ht_id%3D204',\n",
        "            'https://www.booking.com/searchresults.fr.html?label=gen173nr-1FCAEoggI46AdIM1gEaE2IAQGYAQ24AQfIAQzYAQHoAQH4AQuIAgGoAgO4Arm1mo0GwAIB0gIkZjE3NDZhZDItOTUyYS00NjljLWE5N2ItNzUxZjIxMTdjNDdi2AIG4AIB&sid=a8d69dac58d2b76c1d2bb743d5182840&aid=304142&src=searchresults&error_url=https%3A%2F%2Fwww.booking.com%2Fsearchresults.fr.html%3Faid%3D304142%3Blabel%3Dgen173nr-1FCAEoggI46AdIM1gEaE2IAQGYAQ24AQfIAQzYAQHoAQH4AQuIAgGoAgO4Arm1mo0GwAIB0gIkZjE3NDZhZDItOTUyYS00NjljLWE5N2ItNzUxZjIxMTdjNDdi2AIG4AIB%3Bsid%3Da8d69dac58d2b76c1d2bb743d5182840%3Btmpl%3Dsearchresults%3Bac_click_type%3Db%3Bac_position%3D0%3Bcity%3D-1473166%3Bclass_interval%3D1%3Bdest_id%3D-1452421%3Bdest_type%3Dcity%3Bdtdisc%3D0%3Bfrom_sf%3D1%3Bgroup_adults%3D2%3Bgroup_children%3D0%3Binac%3D0%3Bindex_postcard%3D0%3Blabel_click%3Dundef%3Bno_rooms%3D1%3Boffset%3D0%3Bpostcard%3D0%3Braw_dest_type%3Dcity%3Broom1%3DA%252CA%3Bsb_price_type%3Dtotal%3Bsearch_selected%3D1%3Bshw_aparth%3D1%3Bslp_r_match%3D0%3Bsrc%3Dsearchresults%3Bsrc_elem%3Dsb%3Bsrpvid%3D9cb18360e9040099%3Bss%3DMontauban%252C%2520Midi-Pyr%25C3%25A9n%25C3%25A9es%252C%2520France%3Bss_all%3D0%3Bss_raw%3DMontauban%3Bssb%3Dempty%3Bsshis%3D0%3Bssne%3DToulouse%3Bssne_untouched%3DToulouse%3Btop_ufis%3D1%26%3B&ss=Biarritz%2C+Aquitaine%2C+France&is_ski_area=&ssne=Montauban&ssne_untouched=Montauban&city=-1452421&checkin_year=&checkin_month=&checkout_year=&checkout_month=&group_adults=2&group_children=0&no_rooms=1&from_sf=1&search_pageview_id=9cb18360e9040099&ac_suggestion_list_length=5&ac_suggestion_theme_list_length=0&ac_position=0&ac_langcode=fr&ac_click_type=b&dest_id=-1412526&dest_type=city&iata=BIQ&place_id_lat=43.4804&place_id_lon=-1.56066&search_pageview_id=9cb18360e9040099&search_selected=true&ss_raw=Biarritz&nflt=ht_id%3D204',\n",
        "            'https://www.booking.com/searchresults.fr.html?label=gen173nr-1FCAEoggI46AdIM1gEaE2IAQGYAQ24AQfIAQzYAQHoAQH4AQuIAgGoAgO4Arm1mo0GwAIB0gIkZjE3NDZhZDItOTUyYS00NjljLWE5N2ItNzUxZjIxMTdjNDdi2AIG4AIB&sid=a8d69dac58d2b76c1d2bb743d5182840&aid=304142&src=searchresults&error_url=https%3A%2F%2Fwww.booking.com%2Fsearchresults.fr.html%3Faid%3D304142%3Blabel%3Dgen173nr-1FCAEoggI46AdIM1gEaE2IAQGYAQ24AQfIAQzYAQHoAQH4AQuIAgGoAgO4Arm1mo0GwAIB0gIkZjE3NDZhZDItOTUyYS00NjljLWE5N2ItNzUxZjIxMTdjNDdi2AIG4AIB%3Bsid%3Da8d69dac58d2b76c1d2bb743d5182840%3Btmpl%3Dsearchresults%3Bac_click_type%3Db%3Bac_position%3D0%3Bcity%3D-1452421%3Bclass_interval%3D1%3Bdest_id%3D-1412526%3Bdest_type%3Dcity%3Bdtdisc%3D0%3Bfrom_sf%3D1%3Bgroup_adults%3D2%3Bgroup_children%3D0%3Biata%3DBIQ%3Binac%3D0%3Bindex_postcard%3D0%3Blabel_click%3Dundef%3Bno_rooms%3D1%3Boffset%3D0%3Bpostcard%3D0%3Braw_dest_type%3Dcity%3Broom1%3DA%252CA%3Bsb_price_type%3Dtotal%3Bsearch_selected%3D1%3Bshw_aparth%3D1%3Bslp_r_match%3D0%3Bsrc%3Dsearchresults%3Bsrc_elem%3Dsb%3Bsrpvid%3Df2958372b60201d3%3Bss%3DBiarritz%252C%2520Aquitaine%252C%2520France%3Bss_all%3D0%3Bss_raw%3DBiarritz%3Bssb%3Dempty%3Bsshis%3D0%3Bssne%3DMontauban%3Bssne_untouched%3DMontauban%3Btop_ufis%3D1%26%3B&ss=Bayonne%2C+Aquitaine%2C+France&is_ski_area=&ssne=Biarritz&ssne_untouched=Biarritz&city=-1412526&checkin_year=&checkin_month=&checkout_year=&checkout_month=&group_adults=2&group_children=0&no_rooms=1&from_sf=1&search_pageview_id=f2958372b60201d3&ac_suggestion_list_length=5&ac_suggestion_theme_list_length=0&ac_position=0&ac_langcode=fr&ac_click_type=b&dest_id=-1410844&dest_type=city&place_id_lat=43.49334&place_id_lon=-1.4751&search_pageview_id=f2958372b60201d3&search_selected=true&ss_raw=Bayonne&nflt=ht_id%3D204',\n",
        "            'https://www.booking.com/searchresults.fr.html?label=gen173nr-1FCAEoggI46AdIM1gEaE2IAQGYAQ24AQfIAQzYAQHoAQH4AQuIAgGoAgO4Arm1mo0GwAIB0gIkZjE3NDZhZDItOTUyYS00NjljLWE5N2ItNzUxZjIxMTdjNDdi2AIG4AIB&sid=a8d69dac58d2b76c1d2bb743d5182840&aid=304142&src=searchresults&error_url=https%3A%2F%2Fwww.booking.com%2Fsearchresults.fr.html%3Faid%3D304142%3Blabel%3Dgen173nr-1FCAEoggI46AdIM1gEaE2IAQGYAQ24AQfIAQzYAQHoAQH4AQuIAgGoAgO4Arm1mo0GwAIB0gIkZjE3NDZhZDItOTUyYS00NjljLWE5N2ItNzUxZjIxMTdjNDdi2AIG4AIB%3Bsid%3Da8d69dac58d2b76c1d2bb743d5182840%3Btmpl%3Dsearchresults%3Bac_click_type%3Db%3Bac_position%3D0%3Bcity%3D-1412526%3Bclass_interval%3D1%3Bdest_id%3D-1410844%3Bdest_type%3Dcity%3Bdtdisc%3D0%3Bfrom_sf%3D1%3Bgroup_adults%3D2%3Bgroup_children%3D0%3Binac%3D0%3Bindex_postcard%3D0%3Blabel_click%3Dundef%3Bno_rooms%3D1%3Boffset%3D0%3Bpostcard%3D0%3Braw_dest_type%3Dcity%3Broom1%3DA%252CA%3Bsb_price_type%3Dtotal%3Bsearch_selected%3D1%3Bshw_aparth%3D1%3Bslp_r_match%3D0%3Bsrc%3Dsearchresults%3Bsrc_elem%3Dsb%3Bsrpvid%3D6f438386b3b60013%3Bss%3DBayonne%252C%2520Aquitaine%252C%2520France%3Bss_all%3D0%3Bss_raw%3DBayonne%3Bssb%3Dempty%3Bsshis%3D0%3Bssne%3DBiarritz%3Bssne_untouched%3DBiarritz%3Btop_ufis%3D1%26%3B&ss=La+Rochelle%2C+Poitou-Charentes%2C+France&is_ski_area=&ssne=Bayonne&ssne_untouched=Bayonne&city=-1410844&checkin_year=&checkin_month=&checkout_year=&checkout_month=&group_adults=2&group_children=0&no_rooms=1&from_sf=1&search_pageview_id=6f438386b3b60013&ac_suggestion_list_length=5&ac_suggestion_theme_list_length=0&ac_position=0&ac_langcode=fr&ac_click_type=b&dest_id=-1438604&dest_type=city&iata=LRH&place_id_lat=46.15911&place_id_lon=-1.15204&search_pageview_id=6f438386b3b60013&search_selected=true&ss_raw=La+Rochelle&nflt=ht_id%3D204'\n",
        "        ]\n",
        "        for url in urls:\n",
        "            yield scrapy.Request(url=url, callback=self.parse)\n",
        "\n",
        "    def parse(self, response):\n",
        "        # filename\n",
        "        city = response.url.split(\"/\")[-1].replace(\".fr.html\", \"\")\n",
        "        # hotels card\n",
        "        hotels = response.css('div.sr__card.js-sr-card')\n",
        "        for hotel in hotels:\n",
        "            yield {\n",
        "                'city' : city,\n",
        "                'name': hotel.css('div.sr__card_content div.sr__card_main_row.bui-spacer--large div.sr__card_main header.bui-spacer--medium a h3.bui-spacer--smaller span.bui-card__title::text').get(),\n",
        "                'url': \"booking.com\" + str(hotel.css('div.sr__card_content div.sr__card_main_row.bui-spacer--large div.sr__card_main header.bui-spacer--medium a::attr(href)').get()),\n",
        "                # 'address': hotel.css('div.tags a.tag::text').getall(),\n",
        "                # 'latitude': hotel.css('div.tags a.tag::text').getall(),\n",
        "                # 'longitude': hotel.css('div.tags a.tag::text').getall(),\n",
        "                'image_url': hotel.css('div.sr__card_photo a img::attr(src)').get(),\n",
        "                'score': hotel.css('div.sr__card_content div.sr__card_main_row.bui-spacer--large div.sr__card_review div.bui-review-score.bui-review-score--end.bui-spacer--large div.bui-review-score__badge::text').get(),\n",
        "                'description': hotel.css('div.sr__card_content div.sr__card_main_row.bui-spacer--large div.sr__card_main div.hotel-card__text.bui-spacer--medium p::text').get()\n",
        "            }\n",
        "\n",
        "    def parse_html(self, response):\n",
        "        page = response.url.split(\"/\")\n",
        "\n",
        "        filename = response.url.split(\"/\")[-1]\n",
        "        with open(filename, 'wb') as f:\n",
        "            f.write(response.body)\n",
        "        self.log(f'Saved file {filename}')"
      ]
    },
    {
      "cell_type": "code",
      "execution_count": 19,
      "metadata": {},
      "outputs": [
        {
          "name": "stderr",
          "output_type": "stream",
          "text": [
            "2022-04-21 13:12:39 [scrapy.utils.log] INFO: Scrapy 2.6.1 started (bot: scrapybot)\n",
            "2022-04-21 13:12:39 [scrapy.utils.log] INFO: Versions: lxml 4.8.0.0, libxml2 2.9.12, cssselect 1.1.0, parsel 1.6.0, w3lib 1.22.0, Twisted 22.4.0, Python 3.9.7 (tags/v3.9.7:1016ef3, Aug 30 2021, 20:19:38) [MSC v.1929 64 bit (AMD64)], pyOpenSSL 22.0.0 (OpenSSL 1.1.1n  15 Mar 2022), cryptography 36.0.2, Platform Windows-10-10.0.19043-SP0\n",
            "2022-04-21 13:12:39 [scrapy.crawler] INFO: Overridden settings:\n",
            "{'LOG_LEVEL': 20,\n",
            " 'USER_AGENT': 'Mozilla/4.0 (compatible; MSIE 7.0; Windows NT 5.1)'}\n",
            "2022-04-21 13:12:39 [scrapy.extensions.telnet] INFO: Telnet Password: ea4747badde1dac8\n",
            "2022-04-21 13:12:39 [scrapy.middleware] INFO: Enabled extensions:\n",
            "['scrapy.extensions.corestats.CoreStats',\n",
            " 'scrapy.extensions.telnet.TelnetConsole',\n",
            " 'scrapy.extensions.feedexport.FeedExporter',\n",
            " 'scrapy.extensions.logstats.LogStats']\n",
            "2022-04-21 13:12:40 [scrapy.middleware] INFO: Enabled downloader middlewares:\n",
            "['scrapy.downloadermiddlewares.httpauth.HttpAuthMiddleware',\n",
            " 'scrapy.downloadermiddlewares.downloadtimeout.DownloadTimeoutMiddleware',\n",
            " 'scrapy.downloadermiddlewares.defaultheaders.DefaultHeadersMiddleware',\n",
            " 'scrapy.downloadermiddlewares.useragent.UserAgentMiddleware',\n",
            " 'scrapy.downloadermiddlewares.retry.RetryMiddleware',\n",
            " 'scrapy.downloadermiddlewares.redirect.MetaRefreshMiddleware',\n",
            " 'scrapy.downloadermiddlewares.httpcompression.HttpCompressionMiddleware',\n",
            " 'scrapy.downloadermiddlewares.redirect.RedirectMiddleware',\n",
            " 'scrapy.downloadermiddlewares.cookies.CookiesMiddleware',\n",
            " 'scrapy.downloadermiddlewares.httpproxy.HttpProxyMiddleware',\n",
            " 'scrapy.downloadermiddlewares.stats.DownloaderStats']\n",
            "2022-04-21 13:12:40 [scrapy.middleware] INFO: Enabled spider middlewares:\n",
            "['scrapy.spidermiddlewares.httperror.HttpErrorMiddleware',\n",
            " 'scrapy.spidermiddlewares.offsite.OffsiteMiddleware',\n",
            " 'scrapy.spidermiddlewares.referer.RefererMiddleware',\n",
            " 'scrapy.spidermiddlewares.urllength.UrlLengthMiddleware',\n",
            " 'scrapy.spidermiddlewares.depth.DepthMiddleware']\n",
            "2022-04-21 13:12:40 [scrapy.middleware] INFO: Enabled item pipelines:\n",
            "[]\n",
            "2022-04-21 13:12:40 [scrapy.core.engine] INFO: Spider opened\n",
            "2022-04-21 13:12:41 [scrapy.extensions.logstats] INFO: Crawled 0 pages (at 0 pages/min), scraped 0 items (at 0 items/min)\n",
            "2022-04-21 13:12:41 [scrapy.extensions.telnet] INFO: Telnet console listening on 127.0.0.1:6023\n",
            "2022-04-21 13:12:50 [scrapy.core.engine] INFO: Closing spider (finished)\n",
            "2022-04-21 13:12:50 [scrapy.statscollectors] INFO: Dumping Scrapy stats:\n",
            "{'downloader/request_bytes': 306383,\n",
            " 'downloader/request_count': 139,\n",
            " 'downloader/request_method_count/GET': 139,\n",
            " 'downloader/response_bytes': 340974,\n",
            " 'downloader/response_count': 139,\n",
            " 'downloader/response_status_count/301': 45,\n",
            " 'downloader/response_status_count/302': 94,\n",
            " 'dupefilter/filtered': 35,\n",
            " 'elapsed_time_seconds': 9.510658,\n",
            " 'finish_reason': 'finished',\n",
            " 'finish_time': datetime.datetime(2022, 4, 21, 11, 12, 50, 643887),\n",
            " 'log_count/INFO': 10,\n",
            " 'scheduler/dequeued': 139,\n",
            " 'scheduler/dequeued/memory': 139,\n",
            " 'scheduler/enqueued': 139,\n",
            " 'scheduler/enqueued/memory': 139,\n",
            " 'start_time': datetime.datetime(2022, 4, 21, 11, 12, 41, 133229)}\n",
            "2022-04-21 13:12:50 [scrapy.core.engine] INFO: Spider closed (finished)\n"
          ]
        }
      ],
      "source": [
        "filename = 'hotel.json'\n",
        "\n",
        "process = CrawlerProcess(settings = {\n",
        "    'USER_AGENT': 'Mozilla/4.0 (compatible; MSIE 7.0; Windows NT 5.1)',\n",
        "    'LOG_LEVEL': logging.INFO,\n",
        "    \"FEEDS\": {\n",
        "        'src/' + filename : {\"format\": \"json\"},\n",
        "    }\n",
        "})\n",
        "\n",
        "process.crawl(HotelsSpider)\n",
        "process.start()"
      ]
    },
    {
      "cell_type": "code",
      "execution_count": 32,
      "metadata": {
        "id": "GS8OaWiWtFGX"
      },
      "outputs": [
        {
          "data": {
            "text/plain": [
              "Index(['city', 'name', 'url', 'image_url', 'score', 'description'], dtype='object')"
            ]
          },
          "metadata": {},
          "output_type": "display_data"
        }
      ],
      "source": [
        "# read json from scrapy spider\n",
        "\n",
        "# file to json\n",
        "hotels_json = json.load(open(r'C:\\Users\\Riadh\\Desktop\\Certifications\\Bloc_1\\data\\hotels_booking.json'))\n",
        "\n",
        "# json to df\n",
        "hotels_df = pd.json_normalize(hotels_json)\n",
        "\n",
        "display(hotels_df.columns)"
      ]
    },
    {
      "cell_type": "code",
      "execution_count": 33,
      "metadata": {
        "id": "L2WSfIA4tHXk"
      },
      "outputs": [],
      "source": [
        "# clean some text\n",
        "def clean_text(text) :\n",
        "    return text.replace(\"\\n\", \"\")\n",
        "\n",
        "hotels_df[\"name\"] = hotels_df[\"name\"].apply(lambda x : clean_text(x))\n",
        "hotels_df[\"score\"] = hotels_df[\"score\"].apply(lambda x : clean_text(x))\n",
        "hotels_df[\"description\"] = hotels_df[\"description\"].apply(lambda x : clean_text(x))"
      ]
    },
    {
      "cell_type": "code",
      "execution_count": 34,
      "metadata": {
        "id": "uTN_AweftJyI"
      },
      "outputs": [],
      "source": [
        "# astring score\n",
        "hotels_df[\"score\"] = hotels_df[\"score\"].astype(float)"
      ]
    },
    {
      "cell_type": "code",
      "execution_count": 37,
      "metadata": {
        "id": "EnPJmPSltL4A"
      },
      "outputs": [],
      "source": [
        "# save\n",
        "export_hotels_csv = r\"C:\\Users\\Riadh\\Desktop\\Certifications\\Bloc_1\\data\\hotels_booking.csv\"\n",
        "hotels_df.to_csv(export_hotels_csv)"
      ]
    },
    {
      "cell_type": "markdown",
      "metadata": {
        "id": "6xxtjKvHt3dB"
      },
      "source": [
        "ETL & Datawarehouse"
      ]
    },
    {
      "cell_type": "code",
      "execution_count": null,
      "metadata": {
        "id": "ZhFM64hutPv6"
      },
      "outputs": [],
      "source": [
        "# load dotenv variables\n",
        "load_dotenv()\n",
        "DBUSER = os.getenv('DBUSER')\n",
        "DBPASS = os.getenv('DBPASS')\n",
        "DBHOST = os.getenv('DBHOST')\n",
        "DBNAME = os.getenv('DBNAME')\n",
        "\n",
        "print(f\"RDS Database : {DBNAME}\")"
      ]
    },
    {
      "cell_type": "code",
      "execution_count": null,
      "metadata": {
        "id": "_hW3zVNlu6lk"
      },
      "outputs": [],
      "source": [
        "# engine : connected to our db\n",
        "connection_string = f\"postgresql+psycopg2://{DBUSER}:{DBPASS}@{DBHOST}/{DBNAME}\"\n",
        "engine = create_engine(connection_string, echo=True, future=True)"
      ]
    },
    {
      "cell_type": "code",
      "execution_count": null,
      "metadata": {
        "id": "7VnpSvmUu6pQ"
      },
      "outputs": [],
      "source": [
        "# sqlalchemy session to upload database\n",
        "Session = sessionmaker(bind=engine)\n",
        "local_session = Session()"
      ]
    },
    {
      "cell_type": "code",
      "execution_count": null,
      "metadata": {
        "id": "64HB8AnAu6st"
      },
      "outputs": [],
      "source": [
        "# declarative base\n",
        "Base = declarative_base()\n",
        "\n",
        "# create city table\n",
        "# Let's define our table \n",
        "class City(Base):\n",
        "    __tablename__ = \"cities\"\n",
        "\n",
        "    uuid         = Column(String, primary_key=True)\n",
        "    name         = Column(String)\n",
        "    full_address = Column(String)\n",
        "    latitude     = Column(Float)\n",
        "    longitude    = Column(Float)\n",
        "\n",
        "    def __repr__(self):\n",
        "        return f\"<City(name={self.name})>\"\n",
        "\n",
        "# weather table\n",
        "class Weather(Base):\n",
        "    __tablename__ = \"weathers\"\n",
        "\n",
        "    weather_id    = Column(Integer, primary_key=True)\n",
        "    city_uuid     = Column(String)\n",
        "    volume_rain   = Column(Float)\n",
        "\n",
        "    def __repr__(self):\n",
        "        return f\"<Weather(uuid={self.city_uuid}, volume={self.volume_rain})>\"\n",
        "\n",
        "# hotel table\n",
        "class Hotel(Base):\n",
        "    __tablename__ = \"hotels\"\n",
        "\n",
        "    hotel_id     = Column(Integer, primary_key=True)\n",
        "    name        = Column(String)\n",
        "    city        = Column(String)\n",
        "    url         = Column(String)\n",
        "    image_url   = Column(String)\n",
        "    score       = Column(Float)\n",
        "    description = Column(String)\n",
        "\n",
        "    def __repr__(self):\n",
        "        return f\"<Hotel(name={self.name}, score={self.score})>\""
      ]
    },
    {
      "cell_type": "code",
      "execution_count": null,
      "metadata": {
        "id": "G1F4ya2fu6xT"
      },
      "outputs": [],
      "source": [
        "# create_table\n",
        "INIT = False\n",
        "if INIT : \n",
        "    Base.metadata.create_all(engine)"
      ]
    },
    {
      "cell_type": "markdown",
      "metadata": {
        "id": "gy56cFSVvEpP"
      },
      "source": [
        "Read Datalake files\n",
        "weather_csv\n",
        "hotels_booking_csv"
      ]
    },
    {
      "cell_type": "code",
      "execution_count": null,
      "metadata": {
        "id": "O_-x8Kb6u7Fu"
      },
      "outputs": [],
      "source": [
        "# s3 bucket\n",
        "# dotenv variables\n",
        "load_dotenv()\n",
        "AWSS_ACCESS_KEY = os.getenv('AWS_ACCESS_KEY_ID')\n",
        "AWS_SECRET_ACCESS_KEY = os.getenv('AWS_SECRET_ACCESS_KEY')\n",
        "\n",
        "# aws session\n",
        "session = boto3.Session(aws_access_key_id=AWSS_ACCESS_KEY, aws_secret_access_key=AWS_SECRET_ACCESS_KEY)\n",
        "\n",
        "# s3 service\n",
        "s3 = session.resource(\"s3\")\n",
        "\n",
        "# bucket \n",
        "bucket_name = 'projet_kayak'\n",
        "kayak_bucket = s3.Bucket(bucket_name)"
      ]
    },
    {
      "cell_type": "code",
      "execution_count": null,
      "metadata": {
        "id": "eG1yE-wXu7Jy"
      },
      "outputs": [],
      "source": [
        "# read weather data from s3\n",
        "weather_key = \"weather_data.csv\"\n",
        "weather_csv_obj = s3.Object(bucket_name, weather_key)\n",
        "weather_csv = weather_csv_obj.get()['Body'].read().decode('utf-8') \n",
        "\n",
        "# dataframe\n",
        "weather_df = pd.read_csv(weather_csv, index_col=[0])\n",
        "display(weather_df.sample(2))\n",
        "weather_df.columns"
      ]
    },
    {
      "cell_type": "code",
      "execution_count": null,
      "metadata": {
        "id": "JSyTFePzvLNk"
      },
      "outputs": [],
      "source": [
        "# read hotels data from s3\n",
        "hotels_key = \"hotels_booking.csv\"\n",
        "hotels_key_obj = s3.Object(bucket_name, hotels_key)\n",
        "hotels_csv = hotels_key_obj.get()['Body'].read().decode('utf-8') \n",
        "\n",
        "# dataframe\n",
        "hotels_df = pd.read_csv(hotels_csv, index_col=[0])\n",
        "display(hotels_df.sample(2))"
      ]
    },
    {
      "cell_type": "markdown",
      "metadata": {
        "id": "K5bVUWgAvNpP"
      },
      "source": [
        "ETL"
      ]
    },
    {
      "cell_type": "code",
      "execution_count": 38,
      "metadata": {
        "id": "hXBHs6F2vPH8"
      },
      "outputs": [],
      "source": [
        "# city df\n",
        "keep_col = ['uuid', 'cities', 'full_address', 'latitude', 'longitude']\n",
        "city_df = weather_df[keep_col].copy()"
      ]
    },
    {
      "cell_type": "code",
      "execution_count": 39,
      "metadata": {
        "id": "EjnCBypwvPUi"
      },
      "outputs": [
        {
          "data": {
            "text/html": [
              "<div>\n",
              "<style scoped>\n",
              "    .dataframe tbody tr th:only-of-type {\n",
              "        vertical-align: middle;\n",
              "    }\n",
              "\n",
              "    .dataframe tbody tr th {\n",
              "        vertical-align: top;\n",
              "    }\n",
              "\n",
              "    .dataframe thead th {\n",
              "        text-align: right;\n",
              "    }\n",
              "</style>\n",
              "<table border=\"1\" class=\"dataframe\">\n",
              "  <thead>\n",
              "    <tr style=\"text-align: right;\">\n",
              "      <th></th>\n",
              "      <th>index</th>\n",
              "      <th>uuid</th>\n",
              "      <th>volume_rain_7days</th>\n",
              "    </tr>\n",
              "  </thead>\n",
              "  <tbody>\n",
              "    <tr>\n",
              "      <th>25</th>\n",
              "      <td>25</td>\n",
              "      <td>1b2a51a0-3143-4458-affe-7f4fdcad7ff2</td>\n",
              "      <td>0.929</td>\n",
              "    </tr>\n",
              "    <tr>\n",
              "      <th>0</th>\n",
              "      <td>0</td>\n",
              "      <td>3a80f21a-ebcd-4693-ae1c-a11f12f445cc</td>\n",
              "      <td>3.364</td>\n",
              "    </tr>\n",
              "  </tbody>\n",
              "</table>\n",
              "</div>"
            ],
            "text/plain": [
              "    index                                  uuid  volume_rain_7days\n",
              "25     25  1b2a51a0-3143-4458-affe-7f4fdcad7ff2              0.929\n",
              "0       0  3a80f21a-ebcd-4693-ae1c-a11f12f445cc              3.364"
            ]
          },
          "metadata": {},
          "output_type": "display_data"
        }
      ],
      "source": [
        "# weather df\n",
        "keep_col = ['uuid', 'volume_rain_7days']\n",
        "weather_df_volume = weather_df[keep_col].copy()\n",
        "weather_df_volume = weather_df_volume.reset_index()\n",
        "display(weather_df_volume.sample(2))"
      ]
    },
    {
      "cell_type": "code",
      "execution_count": 40,
      "metadata": {
        "id": "l0uL8ScmvPYF"
      },
      "outputs": [
        {
          "data": {
            "text/html": [
              "<div>\n",
              "<style scoped>\n",
              "    .dataframe tbody tr th:only-of-type {\n",
              "        vertical-align: middle;\n",
              "    }\n",
              "\n",
              "    .dataframe tbody tr th {\n",
              "        vertical-align: top;\n",
              "    }\n",
              "\n",
              "    .dataframe thead th {\n",
              "        text-align: right;\n",
              "    }\n",
              "</style>\n",
              "<table border=\"1\" class=\"dataframe\">\n",
              "  <thead>\n",
              "    <tr style=\"text-align: right;\">\n",
              "      <th></th>\n",
              "      <th>index</th>\n",
              "      <th>city</th>\n",
              "      <th>name</th>\n",
              "      <th>url</th>\n",
              "      <th>image_url</th>\n",
              "      <th>score</th>\n",
              "      <th>description</th>\n",
              "    </tr>\n",
              "  </thead>\n",
              "  <tbody>\n",
              "    <tr>\n",
              "      <th>245</th>\n",
              "      <td>245</td>\n",
              "      <td>carcassonne</td>\n",
              "      <td>Mercure Carcassonne Porte De La Cité</td>\n",
              "      <td>booking.com/hotel/fr/carcassonne-porte-de-la-c...</td>\n",
              "      <td>https://cf.bstatic.com/xdata/images/hotel/squa...</td>\n",
              "      <td>8.2</td>\n",
              "      <td>Offrant une vue sur les remparts de la ville, ...</td>\n",
              "    </tr>\n",
              "    <tr>\n",
              "      <th>291</th>\n",
              "      <td>291</td>\n",
              "      <td>bayonne</td>\n",
              "      <td>Hotel Cote Basque</td>\n",
              "      <td>booking.com/hotel/fr/cote-basque.fr.html?sid=d...</td>\n",
              "      <td>https://cf.bstatic.com/xdata/images/hotel/squa...</td>\n",
              "      <td>8.0</td>\n",
              "      <td>L'Hotel Cote Basque est situé au cœur de la vi...</td>\n",
              "    </tr>\n",
              "  </tbody>\n",
              "</table>\n",
              "</div>"
            ],
            "text/plain": [
              "     index         city                                  name  \\\n",
              "245    245  carcassonne  Mercure Carcassonne Porte De La Cité   \n",
              "291    291      bayonne                     Hotel Cote Basque   \n",
              "\n",
              "                                                   url  \\\n",
              "245  booking.com/hotel/fr/carcassonne-porte-de-la-c...   \n",
              "291  booking.com/hotel/fr/cote-basque.fr.html?sid=d...   \n",
              "\n",
              "                                             image_url  score  \\\n",
              "245  https://cf.bstatic.com/xdata/images/hotel/squa...    8.2   \n",
              "291  https://cf.bstatic.com/xdata/images/hotel/squa...    8.0   \n",
              "\n",
              "                                           description  \n",
              "245  Offrant une vue sur les remparts de la ville, ...  \n",
              "291  L'Hotel Cote Basque est situé au cœur de la vi...  "
            ]
          },
          "metadata": {},
          "output_type": "display_data"
        }
      ],
      "source": [
        "# hotel dataframe\n",
        "hotels_df = hotels_df.reset_index().copy()\n",
        "display(hotels_df.sample(2))"
      ]
    },
    {
      "cell_type": "code",
      "execution_count": 51,
      "metadata": {},
      "outputs": [
        {
          "data": {
            "text/plain": [
              "Index(['index', 'city', 'name', 'url', 'image_url', 'score', 'description'], dtype='object')"
            ]
          },
          "execution_count": 51,
          "metadata": {},
          "output_type": "execute_result"
        }
      ],
      "source": [
        "hotels_df.columns"
      ]
    },
    {
      "cell_type": "code",
      "execution_count": null,
      "metadata": {},
      "outputs": [],
      "source": []
    },
    {
      "cell_type": "code",
      "execution_count": 49,
      "metadata": {},
      "outputs": [],
      "source": [
        "hotels_df.columns\n",
        "hotelstop = hotels_df[['name','score']]\n",
        "hotelstop20= hotelstop.head(20)\n",
        "hotelstop20.to_csv('Top20HOTELS.csv')"
      ]
    },
    {
      "cell_type": "code",
      "execution_count": 50,
      "metadata": {},
      "outputs": [],
      "source": [
        "fig = px.scatter_geo(hotelstop20,lat='lat',lon='long', hover_name=\"id\")\n",
        "fig.update_layout(title = 'World map', title_x=0.5)\n",
        "fig.show"
      ]
    },
    {
      "cell_type": "markdown",
      "metadata": {
        "id": "BYsmE3nUvXIX"
      },
      "source": [
        "DataWarehouse\n",
        "Tables :\n",
        "\n",
        "cities\n",
        "weathers\n",
        "hotels"
      ]
    },
    {
      "cell_type": "code",
      "execution_count": 41,
      "metadata": {
        "id": "bE0nwUqzvPeJ"
      },
      "outputs": [
        {
          "ename": "NameError",
          "evalue": "name 'City' is not defined",
          "output_type": "error",
          "traceback": [
            "\u001b[1;31m---------------------------------------------------------------------------\u001b[0m",
            "\u001b[1;31mNameError\u001b[0m                                 Traceback (most recent call last)",
            "\u001b[1;32m~\\AppData\\Local\\Temp/ipykernel_19532/2408459955.py\u001b[0m in \u001b[0;36m<module>\u001b[1;34m\u001b[0m\n\u001b[0;32m     10\u001b[0m     \u001b[0mcity_latitude\u001b[0m     \u001b[1;33m=\u001b[0m \u001b[0mcity_row\u001b[0m\u001b[1;33m[\u001b[0m\u001b[1;34m\"latitude\"\u001b[0m\u001b[1;33m]\u001b[0m\u001b[1;33m\u001b[0m\u001b[1;33m\u001b[0m\u001b[0m\n\u001b[0;32m     11\u001b[0m     \u001b[0mcity_longitude\u001b[0m    \u001b[1;33m=\u001b[0m \u001b[0mcity_row\u001b[0m\u001b[1;33m[\u001b[0m\u001b[1;34m\"longitude\"\u001b[0m\u001b[1;33m]\u001b[0m\u001b[1;33m\u001b[0m\u001b[1;33m\u001b[0m\u001b[0m\n\u001b[1;32m---> 12\u001b[1;33m     city = City(uuid=city_uuid, name=city_name, full_address=city_fulladdress,\n\u001b[0m\u001b[0;32m     13\u001b[0m                 latitude=city_latitude, longitude=city_longitude)\n\u001b[0;32m     14\u001b[0m \u001b[1;33m\u001b[0m\u001b[0m\n",
            "\u001b[1;31mNameError\u001b[0m: name 'City' is not defined"
          ]
        }
      ],
      "source": [
        "# fill City TABLE\n",
        "for idx in range(city_df.shape[0]) : \n",
        "    # get row\n",
        "    city_row = city_df.iloc[idx]\n",
        "\n",
        "    # create city object\n",
        "    city_uuid         = city_row[\"uuid\"]\n",
        "    city_name         = city_row[\"cities\"]\n",
        "    city_fulladdress  = city_row[\"full_address\"]\n",
        "    city_latitude     = city_row[\"latitude\"]\n",
        "    city_longitude    = city_row[\"longitude\"]\n",
        "    city = City(uuid=city_uuid, name=city_name, full_address=city_fulladdress,\n",
        "                latitude=city_latitude, longitude=city_longitude)\n",
        "\n",
        "    # add & commit\n",
        "    # verify if cities in table\n",
        "    city_in_table = local_session.query(City).filter_by(name=city_name).first()\n",
        "\n",
        "    if not city_in_table : \n",
        "        # Add values to db \n",
        "        local_session.add(city)\n",
        "\n",
        "        # Commit the results \n",
        "        local_session.commit()   \n",
        "        \n",
        "    print(city)"
      ]
    },
    {
      "cell_type": "code",
      "execution_count": null,
      "metadata": {
        "id": "ntnEm6Bsvfo8"
      },
      "outputs": [],
      "source": [
        "# fill Weather TABLE\n",
        "for idx in range(weather_df_volume.shape[0]) : \n",
        "    # get row\n",
        "    weather_row = weather_df_volume.iloc[idx]\n",
        "\n",
        "    # create city object\n",
        "    weather_id        = int(weather_row[\"index\"])\n",
        "    city_uuid         = weather_row[\"uuid\"]\n",
        "    weather_volume    = float(weather_row[\"volume_rain_7days\"])\n",
        "    weather = Weather(weather_id=weather_id, city_uuid=city_uuid, volume_rain=weather_volume)\n",
        "\n",
        "    # add & commit\n",
        "    # verify if cities in table\n",
        "    weather_in_table = local_session.query(Weather).filter_by(weather_id=weather_id).first()\n",
        "\n",
        "    if not weather_in_table : \n",
        "        # Add values to db \n",
        "        local_session.add(weather)\n",
        "\n",
        "        # Commit the results \n",
        "        local_session.commit()   \n",
        "        \n",
        "    print(weather)"
      ]
    },
    {
      "cell_type": "code",
      "execution_count": null,
      "metadata": {
        "id": "ipqauMabvjWr"
      },
      "outputs": [],
      "source": [
        "# fill Hotel TABLE\n",
        "for idx in range(hotels_df.shape[0]) : \n",
        "    # get row\n",
        "    hotel_row = hotels_df.iloc[idx]\n",
        "\n",
        "    # create city object\n",
        "    hotel_id        = int(hotel_row[\"index\"])\n",
        "    name            = hotel_row[\"name\"]\n",
        "    city            = hotel_row[\"city\"]\n",
        "    url             = hotel_row[\"url\"]\n",
        "    image_url       = hotel_row[\"image_url\"]\n",
        "    score           = hotel_row[\"score\"]\n",
        "    description     = hotel_row[\"description\"]\n",
        "\n",
        "    # hotel object\n",
        "    hotel = Hotel(hotel_id=hotel_id, name=name, \n",
        "                    city=city, url=url, \n",
        "                    image_url=image_url, score=score, \n",
        "                    description=description)\n",
        "\n",
        "    # add & commit\n",
        "    # verify if cities in table\n",
        "    hotel_in_table = local_session.query(Hotel).filter_by(name=name).first()\n",
        "\n",
        "    if not hotel_in_table : \n",
        "        # Add values to db \n",
        "        local_session.add(hotel)\n",
        "\n",
        "        # Commit the results \n",
        "        local_session.commit()   \n",
        "        \n",
        "    print(hotel)"
      ]
    },
    {
      "cell_type": "code",
      "execution_count": 67,
      "metadata": {},
      "outputs": [
        {
          "data": {
            "text/html": [
              "<div>\n",
              "<style scoped>\n",
              "    .dataframe tbody tr th:only-of-type {\n",
              "        vertical-align: middle;\n",
              "    }\n",
              "\n",
              "    .dataframe tbody tr th {\n",
              "        vertical-align: top;\n",
              "    }\n",
              "\n",
              "    .dataframe thead th {\n",
              "        text-align: right;\n",
              "    }\n",
              "</style>\n",
              "<table border=\"1\" class=\"dataframe\">\n",
              "  <thead>\n",
              "    <tr style=\"text-align: right;\">\n",
              "      <th></th>\n",
              "      <th>Column1</th>\n",
              "      <th>city</th>\n",
              "      <th>Latitude</th>\n",
              "      <th>Longitude</th>\n",
              "      <th>name</th>\n",
              "      <th>score</th>\n",
              "    </tr>\n",
              "  </thead>\n",
              "  <tbody>\n",
              "    <tr>\n",
              "      <th>0</th>\n",
              "      <td>206</td>\n",
              "      <td>bormes-les-mimosas</td>\n",
              "      <td>43.151682</td>\n",
              "      <td>6.342202</td>\n",
              "      <td>HomeStay Bormes</td>\n",
              "      <td>9.7</td>\n",
              "    </tr>\n",
              "    <tr>\n",
              "      <th>1</th>\n",
              "      <td>226</td>\n",
              "      <td>aigues-mortes</td>\n",
              "      <td>43.567172</td>\n",
              "      <td>4.192587</td>\n",
              "      <td>Boutique Hôtel des Remparts &amp; Spa</td>\n",
              "      <td>9.6</td>\n",
              "    </tr>\n",
              "    <tr>\n",
              "      <th>2</th>\n",
              "      <td>178</td>\n",
              "      <td>uzes</td>\n",
              "      <td>44.012110</td>\n",
              "      <td>4.419946</td>\n",
              "      <td>Le trente trois</td>\n",
              "      <td>9.2</td>\n",
              "    </tr>\n",
              "    <tr>\n",
              "      <th>3</th>\n",
              "      <td>50</td>\n",
              "      <td>strasbourg</td>\n",
              "      <td>48.573405</td>\n",
              "      <td>7.752111</td>\n",
              "      <td>Hôtel ORIGAMI</td>\n",
              "      <td>9.1</td>\n",
              "    </tr>\n",
              "    <tr>\n",
              "      <th>4</th>\n",
              "      <td>94</td>\n",
              "      <td>eguisheim</td>\n",
              "      <td>48.043265</td>\n",
              "      <td>7.306522</td>\n",
              "      <td>L'Hostellerie du Château</td>\n",
              "      <td>9.1</td>\n",
              "    </tr>\n",
              "  </tbody>\n",
              "</table>\n",
              "</div>"
            ],
            "text/plain": [
              "   Column1                city   Latitude  Longitude  \\\n",
              "0      206  bormes-les-mimosas  43.151682   6.342202   \n",
              "1      226       aigues-mortes  43.567172   4.192587   \n",
              "2      178                uzes  44.012110   4.419946   \n",
              "3       50          strasbourg  48.573405   7.752111   \n",
              "4       94           eguisheim  48.043265   7.306522   \n",
              "\n",
              "                                name  score  \n",
              "0                    HomeStay Bormes    9.7  \n",
              "1  Boutique Hôtel des Remparts & Spa    9.6  \n",
              "2                    Le trente trois    9.2  \n",
              "3                      Hôtel ORIGAMI    9.1  \n",
              "4           L'Hostellerie du Château    9.1  "
            ]
          },
          "execution_count": 67,
          "metadata": {},
          "output_type": "execute_result"
        }
      ],
      "source": [
        "df = pd.read_csv(\"C:/Users/Riadh\\Desktop/Certifications/Bloc_1/data/TOP20HOTELS.csv\", sep=';', encoding='latin-1')\n",
        "\n",
        "df.head()\n"
      ]
    },
    {
      "cell_type": "code",
      "execution_count": 85,
      "metadata": {},
      "outputs": [
        {
          "data": {
            "application/vnd.plotly.v1+json": {
              "config": {
                "plotlyServerURL": "https://plot.ly"
              },
              "data": [
                {
                  "customdata": [
                    [
                      9.7
                    ],
                    [
                      9.6
                    ],
                    [
                      9.2
                    ],
                    [
                      9.1
                    ],
                    [
                      9.1
                    ],
                    [
                      9.1
                    ],
                    [
                      9.1
                    ],
                    [
                      9
                    ],
                    [
                      9
                    ],
                    [
                      8.9
                    ],
                    [
                      8.9
                    ],
                    [
                      8.9
                    ],
                    [
                      8.9
                    ],
                    [
                      8.9
                    ],
                    [
                      8.9
                    ],
                    [
                      8.9
                    ],
                    [
                      8.9
                    ],
                    [
                      8.9
                    ],
                    [
                      8.8
                    ],
                    [
                      8.8
                    ]
                  ],
                  "hovertemplate": "Latitude=%{lat}<br>Longitude=%{lon}<br>score=%{customdata[0]}<extra></extra>",
                  "lat": [
                    43.151682,
                    43.567172,
                    44.01211,
                    48.5734053,
                    48.043265,
                    48.043265,
                    48.0793589,
                    48.649337,
                    42.52675199999999,
                    48.856614,
                    48.043265,
                    47.322047,
                    44.01211,
                    44.01211,
                    43.151682,
                    43.567172,
                    43.567172,
                    43.453241,
                    48.5734053,
                    45.188529
                  ],
                  "legendgroup": "",
                  "lon": [
                    6.342201999999999,
                    4.1925869,
                    4.419945999999999,
                    7.752111299999999,
                    7.306521999999999,
                    7.306521999999999,
                    7.358511999999999,
                    -2.025674,
                    3.084631,
                    2.3522219,
                    7.306521999999999,
                    5.04148,
                    4.419945999999999,
                    4.419945999999999,
                    6.342201999999999,
                    4.1925869,
                    4.1925869,
                    4.429074,
                    7.752111299999999,
                    5.724524
                  ],
                  "marker": {
                    "color": "#636efa"
                  },
                  "mode": "markers",
                  "name": "",
                  "showlegend": false,
                  "subplot": "mapbox",
                  "type": "scattermapbox"
                }
              ],
              "layout": {
                "height": 600,
                "legend": {
                  "tracegroupgap": 0
                },
                "mapbox": {
                  "center": {
                    "lat": 45.719684725,
                    "lon": 5.095528009999999
                  },
                  "domain": {
                    "x": [
                      0,
                      1
                    ],
                    "y": [
                      0,
                      1
                    ]
                  },
                  "style": "open-street-map",
                  "zoom": 8
                },
                "margin": {
                  "t": 60
                },
                "template": {
                  "data": {
                    "bar": [
                      {
                        "error_x": {
                          "color": "#2a3f5f"
                        },
                        "error_y": {
                          "color": "#2a3f5f"
                        },
                        "marker": {
                          "line": {
                            "color": "#E5ECF6",
                            "width": 0.5
                          },
                          "pattern": {
                            "fillmode": "overlay",
                            "size": 10,
                            "solidity": 0.2
                          }
                        },
                        "type": "bar"
                      }
                    ],
                    "barpolar": [
                      {
                        "marker": {
                          "line": {
                            "color": "#E5ECF6",
                            "width": 0.5
                          },
                          "pattern": {
                            "fillmode": "overlay",
                            "size": 10,
                            "solidity": 0.2
                          }
                        },
                        "type": "barpolar"
                      }
                    ],
                    "carpet": [
                      {
                        "aaxis": {
                          "endlinecolor": "#2a3f5f",
                          "gridcolor": "white",
                          "linecolor": "white",
                          "minorgridcolor": "white",
                          "startlinecolor": "#2a3f5f"
                        },
                        "baxis": {
                          "endlinecolor": "#2a3f5f",
                          "gridcolor": "white",
                          "linecolor": "white",
                          "minorgridcolor": "white",
                          "startlinecolor": "#2a3f5f"
                        },
                        "type": "carpet"
                      }
                    ],
                    "choropleth": [
                      {
                        "colorbar": {
                          "outlinewidth": 0,
                          "ticks": ""
                        },
                        "type": "choropleth"
                      }
                    ],
                    "contour": [
                      {
                        "colorbar": {
                          "outlinewidth": 0,
                          "ticks": ""
                        },
                        "colorscale": [
                          [
                            0,
                            "#0d0887"
                          ],
                          [
                            0.1111111111111111,
                            "#46039f"
                          ],
                          [
                            0.2222222222222222,
                            "#7201a8"
                          ],
                          [
                            0.3333333333333333,
                            "#9c179e"
                          ],
                          [
                            0.4444444444444444,
                            "#bd3786"
                          ],
                          [
                            0.5555555555555556,
                            "#d8576b"
                          ],
                          [
                            0.6666666666666666,
                            "#ed7953"
                          ],
                          [
                            0.7777777777777778,
                            "#fb9f3a"
                          ],
                          [
                            0.8888888888888888,
                            "#fdca26"
                          ],
                          [
                            1,
                            "#f0f921"
                          ]
                        ],
                        "type": "contour"
                      }
                    ],
                    "contourcarpet": [
                      {
                        "colorbar": {
                          "outlinewidth": 0,
                          "ticks": ""
                        },
                        "type": "contourcarpet"
                      }
                    ],
                    "heatmap": [
                      {
                        "colorbar": {
                          "outlinewidth": 0,
                          "ticks": ""
                        },
                        "colorscale": [
                          [
                            0,
                            "#0d0887"
                          ],
                          [
                            0.1111111111111111,
                            "#46039f"
                          ],
                          [
                            0.2222222222222222,
                            "#7201a8"
                          ],
                          [
                            0.3333333333333333,
                            "#9c179e"
                          ],
                          [
                            0.4444444444444444,
                            "#bd3786"
                          ],
                          [
                            0.5555555555555556,
                            "#d8576b"
                          ],
                          [
                            0.6666666666666666,
                            "#ed7953"
                          ],
                          [
                            0.7777777777777778,
                            "#fb9f3a"
                          ],
                          [
                            0.8888888888888888,
                            "#fdca26"
                          ],
                          [
                            1,
                            "#f0f921"
                          ]
                        ],
                        "type": "heatmap"
                      }
                    ],
                    "heatmapgl": [
                      {
                        "colorbar": {
                          "outlinewidth": 0,
                          "ticks": ""
                        },
                        "colorscale": [
                          [
                            0,
                            "#0d0887"
                          ],
                          [
                            0.1111111111111111,
                            "#46039f"
                          ],
                          [
                            0.2222222222222222,
                            "#7201a8"
                          ],
                          [
                            0.3333333333333333,
                            "#9c179e"
                          ],
                          [
                            0.4444444444444444,
                            "#bd3786"
                          ],
                          [
                            0.5555555555555556,
                            "#d8576b"
                          ],
                          [
                            0.6666666666666666,
                            "#ed7953"
                          ],
                          [
                            0.7777777777777778,
                            "#fb9f3a"
                          ],
                          [
                            0.8888888888888888,
                            "#fdca26"
                          ],
                          [
                            1,
                            "#f0f921"
                          ]
                        ],
                        "type": "heatmapgl"
                      }
                    ],
                    "histogram": [
                      {
                        "marker": {
                          "pattern": {
                            "fillmode": "overlay",
                            "size": 10,
                            "solidity": 0.2
                          }
                        },
                        "type": "histogram"
                      }
                    ],
                    "histogram2d": [
                      {
                        "colorbar": {
                          "outlinewidth": 0,
                          "ticks": ""
                        },
                        "colorscale": [
                          [
                            0,
                            "#0d0887"
                          ],
                          [
                            0.1111111111111111,
                            "#46039f"
                          ],
                          [
                            0.2222222222222222,
                            "#7201a8"
                          ],
                          [
                            0.3333333333333333,
                            "#9c179e"
                          ],
                          [
                            0.4444444444444444,
                            "#bd3786"
                          ],
                          [
                            0.5555555555555556,
                            "#d8576b"
                          ],
                          [
                            0.6666666666666666,
                            "#ed7953"
                          ],
                          [
                            0.7777777777777778,
                            "#fb9f3a"
                          ],
                          [
                            0.8888888888888888,
                            "#fdca26"
                          ],
                          [
                            1,
                            "#f0f921"
                          ]
                        ],
                        "type": "histogram2d"
                      }
                    ],
                    "histogram2dcontour": [
                      {
                        "colorbar": {
                          "outlinewidth": 0,
                          "ticks": ""
                        },
                        "colorscale": [
                          [
                            0,
                            "#0d0887"
                          ],
                          [
                            0.1111111111111111,
                            "#46039f"
                          ],
                          [
                            0.2222222222222222,
                            "#7201a8"
                          ],
                          [
                            0.3333333333333333,
                            "#9c179e"
                          ],
                          [
                            0.4444444444444444,
                            "#bd3786"
                          ],
                          [
                            0.5555555555555556,
                            "#d8576b"
                          ],
                          [
                            0.6666666666666666,
                            "#ed7953"
                          ],
                          [
                            0.7777777777777778,
                            "#fb9f3a"
                          ],
                          [
                            0.8888888888888888,
                            "#fdca26"
                          ],
                          [
                            1,
                            "#f0f921"
                          ]
                        ],
                        "type": "histogram2dcontour"
                      }
                    ],
                    "mesh3d": [
                      {
                        "colorbar": {
                          "outlinewidth": 0,
                          "ticks": ""
                        },
                        "type": "mesh3d"
                      }
                    ],
                    "parcoords": [
                      {
                        "line": {
                          "colorbar": {
                            "outlinewidth": 0,
                            "ticks": ""
                          }
                        },
                        "type": "parcoords"
                      }
                    ],
                    "pie": [
                      {
                        "automargin": true,
                        "type": "pie"
                      }
                    ],
                    "scatter": [
                      {
                        "marker": {
                          "colorbar": {
                            "outlinewidth": 0,
                            "ticks": ""
                          }
                        },
                        "type": "scatter"
                      }
                    ],
                    "scatter3d": [
                      {
                        "line": {
                          "colorbar": {
                            "outlinewidth": 0,
                            "ticks": ""
                          }
                        },
                        "marker": {
                          "colorbar": {
                            "outlinewidth": 0,
                            "ticks": ""
                          }
                        },
                        "type": "scatter3d"
                      }
                    ],
                    "scattercarpet": [
                      {
                        "marker": {
                          "colorbar": {
                            "outlinewidth": 0,
                            "ticks": ""
                          }
                        },
                        "type": "scattercarpet"
                      }
                    ],
                    "scattergeo": [
                      {
                        "marker": {
                          "colorbar": {
                            "outlinewidth": 0,
                            "ticks": ""
                          }
                        },
                        "type": "scattergeo"
                      }
                    ],
                    "scattergl": [
                      {
                        "marker": {
                          "colorbar": {
                            "outlinewidth": 0,
                            "ticks": ""
                          }
                        },
                        "type": "scattergl"
                      }
                    ],
                    "scattermapbox": [
                      {
                        "marker": {
                          "colorbar": {
                            "outlinewidth": 0,
                            "ticks": ""
                          }
                        },
                        "type": "scattermapbox"
                      }
                    ],
                    "scatterpolar": [
                      {
                        "marker": {
                          "colorbar": {
                            "outlinewidth": 0,
                            "ticks": ""
                          }
                        },
                        "type": "scatterpolar"
                      }
                    ],
                    "scatterpolargl": [
                      {
                        "marker": {
                          "colorbar": {
                            "outlinewidth": 0,
                            "ticks": ""
                          }
                        },
                        "type": "scatterpolargl"
                      }
                    ],
                    "scatterternary": [
                      {
                        "marker": {
                          "colorbar": {
                            "outlinewidth": 0,
                            "ticks": ""
                          }
                        },
                        "type": "scatterternary"
                      }
                    ],
                    "surface": [
                      {
                        "colorbar": {
                          "outlinewidth": 0,
                          "ticks": ""
                        },
                        "colorscale": [
                          [
                            0,
                            "#0d0887"
                          ],
                          [
                            0.1111111111111111,
                            "#46039f"
                          ],
                          [
                            0.2222222222222222,
                            "#7201a8"
                          ],
                          [
                            0.3333333333333333,
                            "#9c179e"
                          ],
                          [
                            0.4444444444444444,
                            "#bd3786"
                          ],
                          [
                            0.5555555555555556,
                            "#d8576b"
                          ],
                          [
                            0.6666666666666666,
                            "#ed7953"
                          ],
                          [
                            0.7777777777777778,
                            "#fb9f3a"
                          ],
                          [
                            0.8888888888888888,
                            "#fdca26"
                          ],
                          [
                            1,
                            "#f0f921"
                          ]
                        ],
                        "type": "surface"
                      }
                    ],
                    "table": [
                      {
                        "cells": {
                          "fill": {
                            "color": "#EBF0F8"
                          },
                          "line": {
                            "color": "white"
                          }
                        },
                        "header": {
                          "fill": {
                            "color": "#C8D4E3"
                          },
                          "line": {
                            "color": "white"
                          }
                        },
                        "type": "table"
                      }
                    ]
                  },
                  "layout": {
                    "annotationdefaults": {
                      "arrowcolor": "#2a3f5f",
                      "arrowhead": 0,
                      "arrowwidth": 1
                    },
                    "autotypenumbers": "strict",
                    "coloraxis": {
                      "colorbar": {
                        "outlinewidth": 0,
                        "ticks": ""
                      }
                    },
                    "colorscale": {
                      "diverging": [
                        [
                          0,
                          "#8e0152"
                        ],
                        [
                          0.1,
                          "#c51b7d"
                        ],
                        [
                          0.2,
                          "#de77ae"
                        ],
                        [
                          0.3,
                          "#f1b6da"
                        ],
                        [
                          0.4,
                          "#fde0ef"
                        ],
                        [
                          0.5,
                          "#f7f7f7"
                        ],
                        [
                          0.6,
                          "#e6f5d0"
                        ],
                        [
                          0.7,
                          "#b8e186"
                        ],
                        [
                          0.8,
                          "#7fbc41"
                        ],
                        [
                          0.9,
                          "#4d9221"
                        ],
                        [
                          1,
                          "#276419"
                        ]
                      ],
                      "sequential": [
                        [
                          0,
                          "#0d0887"
                        ],
                        [
                          0.1111111111111111,
                          "#46039f"
                        ],
                        [
                          0.2222222222222222,
                          "#7201a8"
                        ],
                        [
                          0.3333333333333333,
                          "#9c179e"
                        ],
                        [
                          0.4444444444444444,
                          "#bd3786"
                        ],
                        [
                          0.5555555555555556,
                          "#d8576b"
                        ],
                        [
                          0.6666666666666666,
                          "#ed7953"
                        ],
                        [
                          0.7777777777777778,
                          "#fb9f3a"
                        ],
                        [
                          0.8888888888888888,
                          "#fdca26"
                        ],
                        [
                          1,
                          "#f0f921"
                        ]
                      ],
                      "sequentialminus": [
                        [
                          0,
                          "#0d0887"
                        ],
                        [
                          0.1111111111111111,
                          "#46039f"
                        ],
                        [
                          0.2222222222222222,
                          "#7201a8"
                        ],
                        [
                          0.3333333333333333,
                          "#9c179e"
                        ],
                        [
                          0.4444444444444444,
                          "#bd3786"
                        ],
                        [
                          0.5555555555555556,
                          "#d8576b"
                        ],
                        [
                          0.6666666666666666,
                          "#ed7953"
                        ],
                        [
                          0.7777777777777778,
                          "#fb9f3a"
                        ],
                        [
                          0.8888888888888888,
                          "#fdca26"
                        ],
                        [
                          1,
                          "#f0f921"
                        ]
                      ]
                    },
                    "colorway": [
                      "#636efa",
                      "#EF553B",
                      "#00cc96",
                      "#ab63fa",
                      "#FFA15A",
                      "#19d3f3",
                      "#FF6692",
                      "#B6E880",
                      "#FF97FF",
                      "#FECB52"
                    ],
                    "font": {
                      "color": "#2a3f5f"
                    },
                    "geo": {
                      "bgcolor": "white",
                      "lakecolor": "white",
                      "landcolor": "#E5ECF6",
                      "showlakes": true,
                      "showland": true,
                      "subunitcolor": "white"
                    },
                    "hoverlabel": {
                      "align": "left"
                    },
                    "hovermode": "closest",
                    "mapbox": {
                      "style": "light"
                    },
                    "paper_bgcolor": "white",
                    "plot_bgcolor": "#E5ECF6",
                    "polar": {
                      "angularaxis": {
                        "gridcolor": "white",
                        "linecolor": "white",
                        "ticks": ""
                      },
                      "bgcolor": "#E5ECF6",
                      "radialaxis": {
                        "gridcolor": "white",
                        "linecolor": "white",
                        "ticks": ""
                      }
                    },
                    "scene": {
                      "xaxis": {
                        "backgroundcolor": "#E5ECF6",
                        "gridcolor": "white",
                        "gridwidth": 2,
                        "linecolor": "white",
                        "showbackground": true,
                        "ticks": "",
                        "zerolinecolor": "white"
                      },
                      "yaxis": {
                        "backgroundcolor": "#E5ECF6",
                        "gridcolor": "white",
                        "gridwidth": 2,
                        "linecolor": "white",
                        "showbackground": true,
                        "ticks": "",
                        "zerolinecolor": "white"
                      },
                      "zaxis": {
                        "backgroundcolor": "#E5ECF6",
                        "gridcolor": "white",
                        "gridwidth": 2,
                        "linecolor": "white",
                        "showbackground": true,
                        "ticks": "",
                        "zerolinecolor": "white"
                      }
                    },
                    "shapedefaults": {
                      "line": {
                        "color": "#2a3f5f"
                      }
                    },
                    "ternary": {
                      "aaxis": {
                        "gridcolor": "white",
                        "linecolor": "white",
                        "ticks": ""
                      },
                      "baxis": {
                        "gridcolor": "white",
                        "linecolor": "white",
                        "ticks": ""
                      },
                      "bgcolor": "#E5ECF6",
                      "caxis": {
                        "gridcolor": "white",
                        "linecolor": "white",
                        "ticks": ""
                      }
                    },
                    "title": {
                      "x": 0.05
                    },
                    "xaxis": {
                      "automargin": true,
                      "gridcolor": "white",
                      "linecolor": "white",
                      "ticks": "",
                      "title": {
                        "standoff": 15
                      },
                      "zerolinecolor": "white",
                      "zerolinewidth": 2
                    },
                    "yaxis": {
                      "automargin": true,
                      "gridcolor": "white",
                      "linecolor": "white",
                      "ticks": "",
                      "title": {
                        "standoff": 15
                      },
                      "zerolinecolor": "white",
                      "zerolinewidth": 2
                    }
                  }
                },
                "width": 600
              }
            }
          },
          "metadata": {},
          "output_type": "display_data"
        }
      ],
      "source": [
        "fig = px.scatter_mapbox(\n",
        "    df,  # Our DataFrame\n",
        "    lat = \"Latitude\",\n",
        "    lon = \"Longitude\",\n",
        "    #center = {\"lat\": 2.43, \"lon\": 49.13},  # where map will be centered\n",
        "    width = 600,  # Width of map\n",
        "    height = 600,  # Height of map\n",
        "    hover_data = [\"score\"],  # what to display when hovering mouse over coordinate\n",
        ")\n",
        "\n",
        "fig.update_layout(mapbox_style=\"open-street-map\") # adding beautiful street layout to map\n",
        "\n",
        "fig.show()"
      ]
    },
    {
      "cell_type": "code",
      "execution_count": 86,
      "metadata": {},
      "outputs": [
        {
          "data": {
            "application/vnd.plotly.v1+json": {
              "config": {
                "plotlyServerURL": "https://plot.ly"
              },
              "data": [
                {
                  "hovertemplate": "score=%{marker.color}<br>Latitude=%{lat}<br>Longitude=%{lon}<extra></extra>",
                  "lat": [
                    43.151682,
                    43.567172,
                    44.01211,
                    48.5734053,
                    48.043265,
                    48.043265,
                    48.0793589,
                    48.649337,
                    42.52675199999999,
                    48.856614,
                    48.043265,
                    47.322047,
                    44.01211,
                    44.01211,
                    43.151682,
                    43.567172,
                    43.567172,
                    43.453241,
                    48.5734053,
                    45.188529
                  ],
                  "legendgroup": "",
                  "lon": [
                    6.342201999999999,
                    4.1925869,
                    4.419945999999999,
                    7.752111299999999,
                    7.306521999999999,
                    7.306521999999999,
                    7.358511999999999,
                    -2.025674,
                    3.084631,
                    2.3522219,
                    7.306521999999999,
                    5.04148,
                    4.419945999999999,
                    4.419945999999999,
                    6.342201999999999,
                    4.1925869,
                    4.1925869,
                    4.429074,
                    7.752111299999999,
                    5.724524
                  ],
                  "marker": {
                    "color": [
                      9.7,
                      9.6,
                      9.2,
                      9.1,
                      9.1,
                      9.1,
                      9.1,
                      9,
                      9,
                      8.9,
                      8.9,
                      8.9,
                      8.9,
                      8.9,
                      8.9,
                      8.9,
                      8.9,
                      8.9,
                      8.8,
                      8.8
                    ],
                    "coloraxis": "coloraxis",
                    "size": [
                      9.7,
                      9.6,
                      9.2,
                      9.1,
                      9.1,
                      9.1,
                      9.1,
                      9,
                      9,
                      8.9,
                      8.9,
                      8.9,
                      8.9,
                      8.9,
                      8.9,
                      8.9,
                      8.9,
                      8.9,
                      8.8,
                      8.8
                    ],
                    "sizemode": "area",
                    "sizeref": 0.024249999999999997
                  },
                  "mode": "markers",
                  "name": "",
                  "showlegend": false,
                  "subplot": "mapbox",
                  "type": "scattermapbox"
                }
              ],
              "layout": {
                "coloraxis": {
                  "colorbar": {
                    "title": {
                      "text": "score"
                    }
                  },
                  "colorscale": [
                    [
                      0,
                      "#0d0887"
                    ],
                    [
                      0.1111111111111111,
                      "#46039f"
                    ],
                    [
                      0.2222222222222222,
                      "#7201a8"
                    ],
                    [
                      0.3333333333333333,
                      "#9c179e"
                    ],
                    [
                      0.4444444444444444,
                      "#bd3786"
                    ],
                    [
                      0.5555555555555556,
                      "#d8576b"
                    ],
                    [
                      0.6666666666666666,
                      "#ed7953"
                    ],
                    [
                      0.7777777777777778,
                      "#fb9f3a"
                    ],
                    [
                      0.8888888888888888,
                      "#fdca26"
                    ],
                    [
                      1,
                      "#f0f921"
                    ]
                  ]
                },
                "legend": {
                  "itemsizing": "constant",
                  "tracegroupgap": 0
                },
                "mapbox": {
                  "center": {
                    "lat": 45.719684725,
                    "lon": 5.095528009999999
                  },
                  "domain": {
                    "x": [
                      0,
                      1
                    ],
                    "y": [
                      0,
                      1
                    ]
                  },
                  "style": "carto-positron",
                  "zoom": 10
                },
                "margin": {
                  "t": 60
                },
                "template": {
                  "data": {
                    "bar": [
                      {
                        "error_x": {
                          "color": "#2a3f5f"
                        },
                        "error_y": {
                          "color": "#2a3f5f"
                        },
                        "marker": {
                          "line": {
                            "color": "#E5ECF6",
                            "width": 0.5
                          },
                          "pattern": {
                            "fillmode": "overlay",
                            "size": 10,
                            "solidity": 0.2
                          }
                        },
                        "type": "bar"
                      }
                    ],
                    "barpolar": [
                      {
                        "marker": {
                          "line": {
                            "color": "#E5ECF6",
                            "width": 0.5
                          },
                          "pattern": {
                            "fillmode": "overlay",
                            "size": 10,
                            "solidity": 0.2
                          }
                        },
                        "type": "barpolar"
                      }
                    ],
                    "carpet": [
                      {
                        "aaxis": {
                          "endlinecolor": "#2a3f5f",
                          "gridcolor": "white",
                          "linecolor": "white",
                          "minorgridcolor": "white",
                          "startlinecolor": "#2a3f5f"
                        },
                        "baxis": {
                          "endlinecolor": "#2a3f5f",
                          "gridcolor": "white",
                          "linecolor": "white",
                          "minorgridcolor": "white",
                          "startlinecolor": "#2a3f5f"
                        },
                        "type": "carpet"
                      }
                    ],
                    "choropleth": [
                      {
                        "colorbar": {
                          "outlinewidth": 0,
                          "ticks": ""
                        },
                        "type": "choropleth"
                      }
                    ],
                    "contour": [
                      {
                        "colorbar": {
                          "outlinewidth": 0,
                          "ticks": ""
                        },
                        "colorscale": [
                          [
                            0,
                            "#0d0887"
                          ],
                          [
                            0.1111111111111111,
                            "#46039f"
                          ],
                          [
                            0.2222222222222222,
                            "#7201a8"
                          ],
                          [
                            0.3333333333333333,
                            "#9c179e"
                          ],
                          [
                            0.4444444444444444,
                            "#bd3786"
                          ],
                          [
                            0.5555555555555556,
                            "#d8576b"
                          ],
                          [
                            0.6666666666666666,
                            "#ed7953"
                          ],
                          [
                            0.7777777777777778,
                            "#fb9f3a"
                          ],
                          [
                            0.8888888888888888,
                            "#fdca26"
                          ],
                          [
                            1,
                            "#f0f921"
                          ]
                        ],
                        "type": "contour"
                      }
                    ],
                    "contourcarpet": [
                      {
                        "colorbar": {
                          "outlinewidth": 0,
                          "ticks": ""
                        },
                        "type": "contourcarpet"
                      }
                    ],
                    "heatmap": [
                      {
                        "colorbar": {
                          "outlinewidth": 0,
                          "ticks": ""
                        },
                        "colorscale": [
                          [
                            0,
                            "#0d0887"
                          ],
                          [
                            0.1111111111111111,
                            "#46039f"
                          ],
                          [
                            0.2222222222222222,
                            "#7201a8"
                          ],
                          [
                            0.3333333333333333,
                            "#9c179e"
                          ],
                          [
                            0.4444444444444444,
                            "#bd3786"
                          ],
                          [
                            0.5555555555555556,
                            "#d8576b"
                          ],
                          [
                            0.6666666666666666,
                            "#ed7953"
                          ],
                          [
                            0.7777777777777778,
                            "#fb9f3a"
                          ],
                          [
                            0.8888888888888888,
                            "#fdca26"
                          ],
                          [
                            1,
                            "#f0f921"
                          ]
                        ],
                        "type": "heatmap"
                      }
                    ],
                    "heatmapgl": [
                      {
                        "colorbar": {
                          "outlinewidth": 0,
                          "ticks": ""
                        },
                        "colorscale": [
                          [
                            0,
                            "#0d0887"
                          ],
                          [
                            0.1111111111111111,
                            "#46039f"
                          ],
                          [
                            0.2222222222222222,
                            "#7201a8"
                          ],
                          [
                            0.3333333333333333,
                            "#9c179e"
                          ],
                          [
                            0.4444444444444444,
                            "#bd3786"
                          ],
                          [
                            0.5555555555555556,
                            "#d8576b"
                          ],
                          [
                            0.6666666666666666,
                            "#ed7953"
                          ],
                          [
                            0.7777777777777778,
                            "#fb9f3a"
                          ],
                          [
                            0.8888888888888888,
                            "#fdca26"
                          ],
                          [
                            1,
                            "#f0f921"
                          ]
                        ],
                        "type": "heatmapgl"
                      }
                    ],
                    "histogram": [
                      {
                        "marker": {
                          "pattern": {
                            "fillmode": "overlay",
                            "size": 10,
                            "solidity": 0.2
                          }
                        },
                        "type": "histogram"
                      }
                    ],
                    "histogram2d": [
                      {
                        "colorbar": {
                          "outlinewidth": 0,
                          "ticks": ""
                        },
                        "colorscale": [
                          [
                            0,
                            "#0d0887"
                          ],
                          [
                            0.1111111111111111,
                            "#46039f"
                          ],
                          [
                            0.2222222222222222,
                            "#7201a8"
                          ],
                          [
                            0.3333333333333333,
                            "#9c179e"
                          ],
                          [
                            0.4444444444444444,
                            "#bd3786"
                          ],
                          [
                            0.5555555555555556,
                            "#d8576b"
                          ],
                          [
                            0.6666666666666666,
                            "#ed7953"
                          ],
                          [
                            0.7777777777777778,
                            "#fb9f3a"
                          ],
                          [
                            0.8888888888888888,
                            "#fdca26"
                          ],
                          [
                            1,
                            "#f0f921"
                          ]
                        ],
                        "type": "histogram2d"
                      }
                    ],
                    "histogram2dcontour": [
                      {
                        "colorbar": {
                          "outlinewidth": 0,
                          "ticks": ""
                        },
                        "colorscale": [
                          [
                            0,
                            "#0d0887"
                          ],
                          [
                            0.1111111111111111,
                            "#46039f"
                          ],
                          [
                            0.2222222222222222,
                            "#7201a8"
                          ],
                          [
                            0.3333333333333333,
                            "#9c179e"
                          ],
                          [
                            0.4444444444444444,
                            "#bd3786"
                          ],
                          [
                            0.5555555555555556,
                            "#d8576b"
                          ],
                          [
                            0.6666666666666666,
                            "#ed7953"
                          ],
                          [
                            0.7777777777777778,
                            "#fb9f3a"
                          ],
                          [
                            0.8888888888888888,
                            "#fdca26"
                          ],
                          [
                            1,
                            "#f0f921"
                          ]
                        ],
                        "type": "histogram2dcontour"
                      }
                    ],
                    "mesh3d": [
                      {
                        "colorbar": {
                          "outlinewidth": 0,
                          "ticks": ""
                        },
                        "type": "mesh3d"
                      }
                    ],
                    "parcoords": [
                      {
                        "line": {
                          "colorbar": {
                            "outlinewidth": 0,
                            "ticks": ""
                          }
                        },
                        "type": "parcoords"
                      }
                    ],
                    "pie": [
                      {
                        "automargin": true,
                        "type": "pie"
                      }
                    ],
                    "scatter": [
                      {
                        "marker": {
                          "colorbar": {
                            "outlinewidth": 0,
                            "ticks": ""
                          }
                        },
                        "type": "scatter"
                      }
                    ],
                    "scatter3d": [
                      {
                        "line": {
                          "colorbar": {
                            "outlinewidth": 0,
                            "ticks": ""
                          }
                        },
                        "marker": {
                          "colorbar": {
                            "outlinewidth": 0,
                            "ticks": ""
                          }
                        },
                        "type": "scatter3d"
                      }
                    ],
                    "scattercarpet": [
                      {
                        "marker": {
                          "colorbar": {
                            "outlinewidth": 0,
                            "ticks": ""
                          }
                        },
                        "type": "scattercarpet"
                      }
                    ],
                    "scattergeo": [
                      {
                        "marker": {
                          "colorbar": {
                            "outlinewidth": 0,
                            "ticks": ""
                          }
                        },
                        "type": "scattergeo"
                      }
                    ],
                    "scattergl": [
                      {
                        "marker": {
                          "colorbar": {
                            "outlinewidth": 0,
                            "ticks": ""
                          }
                        },
                        "type": "scattergl"
                      }
                    ],
                    "scattermapbox": [
                      {
                        "marker": {
                          "colorbar": {
                            "outlinewidth": 0,
                            "ticks": ""
                          }
                        },
                        "type": "scattermapbox"
                      }
                    ],
                    "scatterpolar": [
                      {
                        "marker": {
                          "colorbar": {
                            "outlinewidth": 0,
                            "ticks": ""
                          }
                        },
                        "type": "scatterpolar"
                      }
                    ],
                    "scatterpolargl": [
                      {
                        "marker": {
                          "colorbar": {
                            "outlinewidth": 0,
                            "ticks": ""
                          }
                        },
                        "type": "scatterpolargl"
                      }
                    ],
                    "scatterternary": [
                      {
                        "marker": {
                          "colorbar": {
                            "outlinewidth": 0,
                            "ticks": ""
                          }
                        },
                        "type": "scatterternary"
                      }
                    ],
                    "surface": [
                      {
                        "colorbar": {
                          "outlinewidth": 0,
                          "ticks": ""
                        },
                        "colorscale": [
                          [
                            0,
                            "#0d0887"
                          ],
                          [
                            0.1111111111111111,
                            "#46039f"
                          ],
                          [
                            0.2222222222222222,
                            "#7201a8"
                          ],
                          [
                            0.3333333333333333,
                            "#9c179e"
                          ],
                          [
                            0.4444444444444444,
                            "#bd3786"
                          ],
                          [
                            0.5555555555555556,
                            "#d8576b"
                          ],
                          [
                            0.6666666666666666,
                            "#ed7953"
                          ],
                          [
                            0.7777777777777778,
                            "#fb9f3a"
                          ],
                          [
                            0.8888888888888888,
                            "#fdca26"
                          ],
                          [
                            1,
                            "#f0f921"
                          ]
                        ],
                        "type": "surface"
                      }
                    ],
                    "table": [
                      {
                        "cells": {
                          "fill": {
                            "color": "#EBF0F8"
                          },
                          "line": {
                            "color": "white"
                          }
                        },
                        "header": {
                          "fill": {
                            "color": "#C8D4E3"
                          },
                          "line": {
                            "color": "white"
                          }
                        },
                        "type": "table"
                      }
                    ]
                  },
                  "layout": {
                    "annotationdefaults": {
                      "arrowcolor": "#2a3f5f",
                      "arrowhead": 0,
                      "arrowwidth": 1
                    },
                    "autotypenumbers": "strict",
                    "coloraxis": {
                      "colorbar": {
                        "outlinewidth": 0,
                        "ticks": ""
                      }
                    },
                    "colorscale": {
                      "diverging": [
                        [
                          0,
                          "#8e0152"
                        ],
                        [
                          0.1,
                          "#c51b7d"
                        ],
                        [
                          0.2,
                          "#de77ae"
                        ],
                        [
                          0.3,
                          "#f1b6da"
                        ],
                        [
                          0.4,
                          "#fde0ef"
                        ],
                        [
                          0.5,
                          "#f7f7f7"
                        ],
                        [
                          0.6,
                          "#e6f5d0"
                        ],
                        [
                          0.7,
                          "#b8e186"
                        ],
                        [
                          0.8,
                          "#7fbc41"
                        ],
                        [
                          0.9,
                          "#4d9221"
                        ],
                        [
                          1,
                          "#276419"
                        ]
                      ],
                      "sequential": [
                        [
                          0,
                          "#0d0887"
                        ],
                        [
                          0.1111111111111111,
                          "#46039f"
                        ],
                        [
                          0.2222222222222222,
                          "#7201a8"
                        ],
                        [
                          0.3333333333333333,
                          "#9c179e"
                        ],
                        [
                          0.4444444444444444,
                          "#bd3786"
                        ],
                        [
                          0.5555555555555556,
                          "#d8576b"
                        ],
                        [
                          0.6666666666666666,
                          "#ed7953"
                        ],
                        [
                          0.7777777777777778,
                          "#fb9f3a"
                        ],
                        [
                          0.8888888888888888,
                          "#fdca26"
                        ],
                        [
                          1,
                          "#f0f921"
                        ]
                      ],
                      "sequentialminus": [
                        [
                          0,
                          "#0d0887"
                        ],
                        [
                          0.1111111111111111,
                          "#46039f"
                        ],
                        [
                          0.2222222222222222,
                          "#7201a8"
                        ],
                        [
                          0.3333333333333333,
                          "#9c179e"
                        ],
                        [
                          0.4444444444444444,
                          "#bd3786"
                        ],
                        [
                          0.5555555555555556,
                          "#d8576b"
                        ],
                        [
                          0.6666666666666666,
                          "#ed7953"
                        ],
                        [
                          0.7777777777777778,
                          "#fb9f3a"
                        ],
                        [
                          0.8888888888888888,
                          "#fdca26"
                        ],
                        [
                          1,
                          "#f0f921"
                        ]
                      ]
                    },
                    "colorway": [
                      "#636efa",
                      "#EF553B",
                      "#00cc96",
                      "#ab63fa",
                      "#FFA15A",
                      "#19d3f3",
                      "#FF6692",
                      "#B6E880",
                      "#FF97FF",
                      "#FECB52"
                    ],
                    "font": {
                      "color": "#2a3f5f"
                    },
                    "geo": {
                      "bgcolor": "white",
                      "lakecolor": "white",
                      "landcolor": "#E5ECF6",
                      "showlakes": true,
                      "showland": true,
                      "subunitcolor": "white"
                    },
                    "hoverlabel": {
                      "align": "left"
                    },
                    "hovermode": "closest",
                    "mapbox": {
                      "style": "light"
                    },
                    "paper_bgcolor": "white",
                    "plot_bgcolor": "#E5ECF6",
                    "polar": {
                      "angularaxis": {
                        "gridcolor": "white",
                        "linecolor": "white",
                        "ticks": ""
                      },
                      "bgcolor": "#E5ECF6",
                      "radialaxis": {
                        "gridcolor": "white",
                        "linecolor": "white",
                        "ticks": ""
                      }
                    },
                    "scene": {
                      "xaxis": {
                        "backgroundcolor": "#E5ECF6",
                        "gridcolor": "white",
                        "gridwidth": 2,
                        "linecolor": "white",
                        "showbackground": true,
                        "ticks": "",
                        "zerolinecolor": "white"
                      },
                      "yaxis": {
                        "backgroundcolor": "#E5ECF6",
                        "gridcolor": "white",
                        "gridwidth": 2,
                        "linecolor": "white",
                        "showbackground": true,
                        "ticks": "",
                        "zerolinecolor": "white"
                      },
                      "zaxis": {
                        "backgroundcolor": "#E5ECF6",
                        "gridcolor": "white",
                        "gridwidth": 2,
                        "linecolor": "white",
                        "showbackground": true,
                        "ticks": "",
                        "zerolinecolor": "white"
                      }
                    },
                    "shapedefaults": {
                      "line": {
                        "color": "#2a3f5f"
                      }
                    },
                    "ternary": {
                      "aaxis": {
                        "gridcolor": "white",
                        "linecolor": "white",
                        "ticks": ""
                      },
                      "baxis": {
                        "gridcolor": "white",
                        "linecolor": "white",
                        "ticks": ""
                      },
                      "bgcolor": "#E5ECF6",
                      "caxis": {
                        "gridcolor": "white",
                        "linecolor": "white",
                        "ticks": ""
                      }
                    },
                    "title": {
                      "x": 0.05
                    },
                    "xaxis": {
                      "automargin": true,
                      "gridcolor": "white",
                      "linecolor": "white",
                      "ticks": "",
                      "title": {
                        "standoff": 15
                      },
                      "zerolinecolor": "white",
                      "zerolinewidth": 2
                    },
                    "yaxis": {
                      "automargin": true,
                      "gridcolor": "white",
                      "linecolor": "white",
                      "ticks": "",
                      "title": {
                        "standoff": 15
                      },
                      "zerolinecolor": "white",
                      "zerolinewidth": 2
                    }
                  }
                }
              }
            }
          },
          "metadata": {},
          "output_type": "display_data"
        }
      ],
      "source": [
        "\n",
        "\n",
        "fig = px.scatter_mapbox(df, lat=\"Latitude\", lon=\"Longitude\", color=\"score\", size=\"score\", zoom=10, mapbox_style=\"carto-positron\")\n",
        "fig.show()"
      ]
    },
    {
      "cell_type": "code",
      "execution_count": 94,
      "metadata": {},
      "outputs": [
        {
          "data": {
            "application/vnd.plotly.v1+json": {
              "config": {
                "plotlyServerURL": "https://plot.ly"
              },
              "data": [
                {
                  "customdata": [
                    [
                      0.252
                    ],
                    [
                      0.369
                    ],
                    [
                      0.435
                    ],
                    [
                      0.472
                    ],
                    [
                      0.822
                    ]
                  ],
                  "hovertemplate": "latitude=%{lat}<br>longitude=%{lon}<br>volume_rain_7days=%{customdata[0]}<extra></extra>",
                  "lat": [
                    49.8941708,
                    50.6365654,
                    49.4404591,
                    43.5298424,
                    43.2961743
                  ],
                  "legendgroup": "",
                  "lon": [
                    2.2956951,
                    3.0635282,
                    1.0939658,
                    5.4474738,
                    5.3699525
                  ],
                  "marker": {
                    "color": "#636efa"
                  },
                  "mode": "markers",
                  "name": "",
                  "showlegend": false,
                  "subplot": "mapbox",
                  "type": "scattermapbox"
                }
              ],
              "layout": {
                "height": 600,
                "legend": {
                  "tracegroupgap": 0
                },
                "mapbox": {
                  "center": {
                    "lat": 47.3594424,
                    "lon": 3.45412308
                  },
                  "domain": {
                    "x": [
                      0,
                      1
                    ],
                    "y": [
                      0,
                      1
                    ]
                  },
                  "style": "open-street-map",
                  "zoom": 8
                },
                "margin": {
                  "t": 60
                },
                "template": {
                  "data": {
                    "bar": [
                      {
                        "error_x": {
                          "color": "#2a3f5f"
                        },
                        "error_y": {
                          "color": "#2a3f5f"
                        },
                        "marker": {
                          "line": {
                            "color": "#E5ECF6",
                            "width": 0.5
                          },
                          "pattern": {
                            "fillmode": "overlay",
                            "size": 10,
                            "solidity": 0.2
                          }
                        },
                        "type": "bar"
                      }
                    ],
                    "barpolar": [
                      {
                        "marker": {
                          "line": {
                            "color": "#E5ECF6",
                            "width": 0.5
                          },
                          "pattern": {
                            "fillmode": "overlay",
                            "size": 10,
                            "solidity": 0.2
                          }
                        },
                        "type": "barpolar"
                      }
                    ],
                    "carpet": [
                      {
                        "aaxis": {
                          "endlinecolor": "#2a3f5f",
                          "gridcolor": "white",
                          "linecolor": "white",
                          "minorgridcolor": "white",
                          "startlinecolor": "#2a3f5f"
                        },
                        "baxis": {
                          "endlinecolor": "#2a3f5f",
                          "gridcolor": "white",
                          "linecolor": "white",
                          "minorgridcolor": "white",
                          "startlinecolor": "#2a3f5f"
                        },
                        "type": "carpet"
                      }
                    ],
                    "choropleth": [
                      {
                        "colorbar": {
                          "outlinewidth": 0,
                          "ticks": ""
                        },
                        "type": "choropleth"
                      }
                    ],
                    "contour": [
                      {
                        "colorbar": {
                          "outlinewidth": 0,
                          "ticks": ""
                        },
                        "colorscale": [
                          [
                            0,
                            "#0d0887"
                          ],
                          [
                            0.1111111111111111,
                            "#46039f"
                          ],
                          [
                            0.2222222222222222,
                            "#7201a8"
                          ],
                          [
                            0.3333333333333333,
                            "#9c179e"
                          ],
                          [
                            0.4444444444444444,
                            "#bd3786"
                          ],
                          [
                            0.5555555555555556,
                            "#d8576b"
                          ],
                          [
                            0.6666666666666666,
                            "#ed7953"
                          ],
                          [
                            0.7777777777777778,
                            "#fb9f3a"
                          ],
                          [
                            0.8888888888888888,
                            "#fdca26"
                          ],
                          [
                            1,
                            "#f0f921"
                          ]
                        ],
                        "type": "contour"
                      }
                    ],
                    "contourcarpet": [
                      {
                        "colorbar": {
                          "outlinewidth": 0,
                          "ticks": ""
                        },
                        "type": "contourcarpet"
                      }
                    ],
                    "heatmap": [
                      {
                        "colorbar": {
                          "outlinewidth": 0,
                          "ticks": ""
                        },
                        "colorscale": [
                          [
                            0,
                            "#0d0887"
                          ],
                          [
                            0.1111111111111111,
                            "#46039f"
                          ],
                          [
                            0.2222222222222222,
                            "#7201a8"
                          ],
                          [
                            0.3333333333333333,
                            "#9c179e"
                          ],
                          [
                            0.4444444444444444,
                            "#bd3786"
                          ],
                          [
                            0.5555555555555556,
                            "#d8576b"
                          ],
                          [
                            0.6666666666666666,
                            "#ed7953"
                          ],
                          [
                            0.7777777777777778,
                            "#fb9f3a"
                          ],
                          [
                            0.8888888888888888,
                            "#fdca26"
                          ],
                          [
                            1,
                            "#f0f921"
                          ]
                        ],
                        "type": "heatmap"
                      }
                    ],
                    "heatmapgl": [
                      {
                        "colorbar": {
                          "outlinewidth": 0,
                          "ticks": ""
                        },
                        "colorscale": [
                          [
                            0,
                            "#0d0887"
                          ],
                          [
                            0.1111111111111111,
                            "#46039f"
                          ],
                          [
                            0.2222222222222222,
                            "#7201a8"
                          ],
                          [
                            0.3333333333333333,
                            "#9c179e"
                          ],
                          [
                            0.4444444444444444,
                            "#bd3786"
                          ],
                          [
                            0.5555555555555556,
                            "#d8576b"
                          ],
                          [
                            0.6666666666666666,
                            "#ed7953"
                          ],
                          [
                            0.7777777777777778,
                            "#fb9f3a"
                          ],
                          [
                            0.8888888888888888,
                            "#fdca26"
                          ],
                          [
                            1,
                            "#f0f921"
                          ]
                        ],
                        "type": "heatmapgl"
                      }
                    ],
                    "histogram": [
                      {
                        "marker": {
                          "pattern": {
                            "fillmode": "overlay",
                            "size": 10,
                            "solidity": 0.2
                          }
                        },
                        "type": "histogram"
                      }
                    ],
                    "histogram2d": [
                      {
                        "colorbar": {
                          "outlinewidth": 0,
                          "ticks": ""
                        },
                        "colorscale": [
                          [
                            0,
                            "#0d0887"
                          ],
                          [
                            0.1111111111111111,
                            "#46039f"
                          ],
                          [
                            0.2222222222222222,
                            "#7201a8"
                          ],
                          [
                            0.3333333333333333,
                            "#9c179e"
                          ],
                          [
                            0.4444444444444444,
                            "#bd3786"
                          ],
                          [
                            0.5555555555555556,
                            "#d8576b"
                          ],
                          [
                            0.6666666666666666,
                            "#ed7953"
                          ],
                          [
                            0.7777777777777778,
                            "#fb9f3a"
                          ],
                          [
                            0.8888888888888888,
                            "#fdca26"
                          ],
                          [
                            1,
                            "#f0f921"
                          ]
                        ],
                        "type": "histogram2d"
                      }
                    ],
                    "histogram2dcontour": [
                      {
                        "colorbar": {
                          "outlinewidth": 0,
                          "ticks": ""
                        },
                        "colorscale": [
                          [
                            0,
                            "#0d0887"
                          ],
                          [
                            0.1111111111111111,
                            "#46039f"
                          ],
                          [
                            0.2222222222222222,
                            "#7201a8"
                          ],
                          [
                            0.3333333333333333,
                            "#9c179e"
                          ],
                          [
                            0.4444444444444444,
                            "#bd3786"
                          ],
                          [
                            0.5555555555555556,
                            "#d8576b"
                          ],
                          [
                            0.6666666666666666,
                            "#ed7953"
                          ],
                          [
                            0.7777777777777778,
                            "#fb9f3a"
                          ],
                          [
                            0.8888888888888888,
                            "#fdca26"
                          ],
                          [
                            1,
                            "#f0f921"
                          ]
                        ],
                        "type": "histogram2dcontour"
                      }
                    ],
                    "mesh3d": [
                      {
                        "colorbar": {
                          "outlinewidth": 0,
                          "ticks": ""
                        },
                        "type": "mesh3d"
                      }
                    ],
                    "parcoords": [
                      {
                        "line": {
                          "colorbar": {
                            "outlinewidth": 0,
                            "ticks": ""
                          }
                        },
                        "type": "parcoords"
                      }
                    ],
                    "pie": [
                      {
                        "automargin": true,
                        "type": "pie"
                      }
                    ],
                    "scatter": [
                      {
                        "marker": {
                          "colorbar": {
                            "outlinewidth": 0,
                            "ticks": ""
                          }
                        },
                        "type": "scatter"
                      }
                    ],
                    "scatter3d": [
                      {
                        "line": {
                          "colorbar": {
                            "outlinewidth": 0,
                            "ticks": ""
                          }
                        },
                        "marker": {
                          "colorbar": {
                            "outlinewidth": 0,
                            "ticks": ""
                          }
                        },
                        "type": "scatter3d"
                      }
                    ],
                    "scattercarpet": [
                      {
                        "marker": {
                          "colorbar": {
                            "outlinewidth": 0,
                            "ticks": ""
                          }
                        },
                        "type": "scattercarpet"
                      }
                    ],
                    "scattergeo": [
                      {
                        "marker": {
                          "colorbar": {
                            "outlinewidth": 0,
                            "ticks": ""
                          }
                        },
                        "type": "scattergeo"
                      }
                    ],
                    "scattergl": [
                      {
                        "marker": {
                          "colorbar": {
                            "outlinewidth": 0,
                            "ticks": ""
                          }
                        },
                        "type": "scattergl"
                      }
                    ],
                    "scattermapbox": [
                      {
                        "marker": {
                          "colorbar": {
                            "outlinewidth": 0,
                            "ticks": ""
                          }
                        },
                        "type": "scattermapbox"
                      }
                    ],
                    "scatterpolar": [
                      {
                        "marker": {
                          "colorbar": {
                            "outlinewidth": 0,
                            "ticks": ""
                          }
                        },
                        "type": "scatterpolar"
                      }
                    ],
                    "scatterpolargl": [
                      {
                        "marker": {
                          "colorbar": {
                            "outlinewidth": 0,
                            "ticks": ""
                          }
                        },
                        "type": "scatterpolargl"
                      }
                    ],
                    "scatterternary": [
                      {
                        "marker": {
                          "colorbar": {
                            "outlinewidth": 0,
                            "ticks": ""
                          }
                        },
                        "type": "scatterternary"
                      }
                    ],
                    "surface": [
                      {
                        "colorbar": {
                          "outlinewidth": 0,
                          "ticks": ""
                        },
                        "colorscale": [
                          [
                            0,
                            "#0d0887"
                          ],
                          [
                            0.1111111111111111,
                            "#46039f"
                          ],
                          [
                            0.2222222222222222,
                            "#7201a8"
                          ],
                          [
                            0.3333333333333333,
                            "#9c179e"
                          ],
                          [
                            0.4444444444444444,
                            "#bd3786"
                          ],
                          [
                            0.5555555555555556,
                            "#d8576b"
                          ],
                          [
                            0.6666666666666666,
                            "#ed7953"
                          ],
                          [
                            0.7777777777777778,
                            "#fb9f3a"
                          ],
                          [
                            0.8888888888888888,
                            "#fdca26"
                          ],
                          [
                            1,
                            "#f0f921"
                          ]
                        ],
                        "type": "surface"
                      }
                    ],
                    "table": [
                      {
                        "cells": {
                          "fill": {
                            "color": "#EBF0F8"
                          },
                          "line": {
                            "color": "white"
                          }
                        },
                        "header": {
                          "fill": {
                            "color": "#C8D4E3"
                          },
                          "line": {
                            "color": "white"
                          }
                        },
                        "type": "table"
                      }
                    ]
                  },
                  "layout": {
                    "annotationdefaults": {
                      "arrowcolor": "#2a3f5f",
                      "arrowhead": 0,
                      "arrowwidth": 1
                    },
                    "autotypenumbers": "strict",
                    "coloraxis": {
                      "colorbar": {
                        "outlinewidth": 0,
                        "ticks": ""
                      }
                    },
                    "colorscale": {
                      "diverging": [
                        [
                          0,
                          "#8e0152"
                        ],
                        [
                          0.1,
                          "#c51b7d"
                        ],
                        [
                          0.2,
                          "#de77ae"
                        ],
                        [
                          0.3,
                          "#f1b6da"
                        ],
                        [
                          0.4,
                          "#fde0ef"
                        ],
                        [
                          0.5,
                          "#f7f7f7"
                        ],
                        [
                          0.6,
                          "#e6f5d0"
                        ],
                        [
                          0.7,
                          "#b8e186"
                        ],
                        [
                          0.8,
                          "#7fbc41"
                        ],
                        [
                          0.9,
                          "#4d9221"
                        ],
                        [
                          1,
                          "#276419"
                        ]
                      ],
                      "sequential": [
                        [
                          0,
                          "#0d0887"
                        ],
                        [
                          0.1111111111111111,
                          "#46039f"
                        ],
                        [
                          0.2222222222222222,
                          "#7201a8"
                        ],
                        [
                          0.3333333333333333,
                          "#9c179e"
                        ],
                        [
                          0.4444444444444444,
                          "#bd3786"
                        ],
                        [
                          0.5555555555555556,
                          "#d8576b"
                        ],
                        [
                          0.6666666666666666,
                          "#ed7953"
                        ],
                        [
                          0.7777777777777778,
                          "#fb9f3a"
                        ],
                        [
                          0.8888888888888888,
                          "#fdca26"
                        ],
                        [
                          1,
                          "#f0f921"
                        ]
                      ],
                      "sequentialminus": [
                        [
                          0,
                          "#0d0887"
                        ],
                        [
                          0.1111111111111111,
                          "#46039f"
                        ],
                        [
                          0.2222222222222222,
                          "#7201a8"
                        ],
                        [
                          0.3333333333333333,
                          "#9c179e"
                        ],
                        [
                          0.4444444444444444,
                          "#bd3786"
                        ],
                        [
                          0.5555555555555556,
                          "#d8576b"
                        ],
                        [
                          0.6666666666666666,
                          "#ed7953"
                        ],
                        [
                          0.7777777777777778,
                          "#fb9f3a"
                        ],
                        [
                          0.8888888888888888,
                          "#fdca26"
                        ],
                        [
                          1,
                          "#f0f921"
                        ]
                      ]
                    },
                    "colorway": [
                      "#636efa",
                      "#EF553B",
                      "#00cc96",
                      "#ab63fa",
                      "#FFA15A",
                      "#19d3f3",
                      "#FF6692",
                      "#B6E880",
                      "#FF97FF",
                      "#FECB52"
                    ],
                    "font": {
                      "color": "#2a3f5f"
                    },
                    "geo": {
                      "bgcolor": "white",
                      "lakecolor": "white",
                      "landcolor": "#E5ECF6",
                      "showlakes": true,
                      "showland": true,
                      "subunitcolor": "white"
                    },
                    "hoverlabel": {
                      "align": "left"
                    },
                    "hovermode": "closest",
                    "mapbox": {
                      "style": "light"
                    },
                    "paper_bgcolor": "white",
                    "plot_bgcolor": "#E5ECF6",
                    "polar": {
                      "angularaxis": {
                        "gridcolor": "white",
                        "linecolor": "white",
                        "ticks": ""
                      },
                      "bgcolor": "#E5ECF6",
                      "radialaxis": {
                        "gridcolor": "white",
                        "linecolor": "white",
                        "ticks": ""
                      }
                    },
                    "scene": {
                      "xaxis": {
                        "backgroundcolor": "#E5ECF6",
                        "gridcolor": "white",
                        "gridwidth": 2,
                        "linecolor": "white",
                        "showbackground": true,
                        "ticks": "",
                        "zerolinecolor": "white"
                      },
                      "yaxis": {
                        "backgroundcolor": "#E5ECF6",
                        "gridcolor": "white",
                        "gridwidth": 2,
                        "linecolor": "white",
                        "showbackground": true,
                        "ticks": "",
                        "zerolinecolor": "white"
                      },
                      "zaxis": {
                        "backgroundcolor": "#E5ECF6",
                        "gridcolor": "white",
                        "gridwidth": 2,
                        "linecolor": "white",
                        "showbackground": true,
                        "ticks": "",
                        "zerolinecolor": "white"
                      }
                    },
                    "shapedefaults": {
                      "line": {
                        "color": "#2a3f5f"
                      }
                    },
                    "ternary": {
                      "aaxis": {
                        "gridcolor": "white",
                        "linecolor": "white",
                        "ticks": ""
                      },
                      "baxis": {
                        "gridcolor": "white",
                        "linecolor": "white",
                        "ticks": ""
                      },
                      "bgcolor": "#E5ECF6",
                      "caxis": {
                        "gridcolor": "white",
                        "linecolor": "white",
                        "ticks": ""
                      }
                    },
                    "title": {
                      "x": 0.05
                    },
                    "xaxis": {
                      "automargin": true,
                      "gridcolor": "white",
                      "linecolor": "white",
                      "ticks": "",
                      "title": {
                        "standoff": 15
                      },
                      "zerolinecolor": "white",
                      "zerolinewidth": 2
                    },
                    "yaxis": {
                      "automargin": true,
                      "gridcolor": "white",
                      "linecolor": "white",
                      "ticks": "",
                      "title": {
                        "standoff": 15
                      },
                      "zerolinecolor": "white",
                      "zerolinewidth": 2
                    }
                  }
                },
                "width": 600
              }
            }
          },
          "metadata": {},
          "output_type": "display_data"
        }
      ],
      "source": [
        "fig = px.scatter_mapbox(\n",
        "    top_5_destinations,  # Our DataFrame\n",
        "    lat = \"latitude\",\n",
        "    lon = \"longitude\",\n",
        "    #center = {\"lat\": 2.43, \"lon\": 49.13},  # where map will be centered\n",
        "    width = 600,  # Width of map\n",
        "    height = 600,  # Height of map\n",
        "    hover_data = [\"volume_rain_7days\"],  # what to display when hovering mouse over coordinate\n",
        ")\n",
        "\n",
        "fig.update_layout(mapbox_style=\"open-street-map\") # adding beautiful street layout to map\n",
        "\n",
        "fig.show()"
      ]
    }
  ],
  "metadata": {
    "colab": {
      "name": "get_weather.ipynb",
      "provenance": []
    },
    "interpreter": {
      "hash": "2b4cb09aecf8790cd274d191b703edeb02c60c746e8312459975c730244dc2f5"
    },
    "kernelspec": {
      "display_name": "Python 3.8.3 64-bit ('venv': venv)",
      "language": "python",
      "name": "python3"
    },
    "language_info": {
      "codemirror_mode": {
        "name": "ipython",
        "version": 3
      },
      "file_extension": ".py",
      "mimetype": "text/x-python",
      "name": "python",
      "nbconvert_exporter": "python",
      "pygments_lexer": "ipython3",
      "version": "3.9.7"
    },
    "orig_nbformat": 4
  },
  "nbformat": 4,
  "nbformat_minor": 0
}
